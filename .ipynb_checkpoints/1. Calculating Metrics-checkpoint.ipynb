{
 "cells": [
  {
   "cell_type": "markdown",
   "id": "1519ab59-4ea9-410b-a235-310f87a512f4",
   "metadata": {},
   "source": [
    "## Importing libraries"
   ]
  },
  {
   "cell_type": "code",
   "execution_count": 2,
   "id": "3a34008a-3677-4d09-9028-77e0a57b80be",
   "metadata": {},
   "outputs": [],
   "source": [
    "import pandas as pd\n",
    "import numpy as np\n",
    "import altair as alt\n",
    "alt.data_transformers.disable_max_rows()\n",
    "from datetime import datetime"
   ]
  },
  {
   "cell_type": "markdown",
   "id": "cb27e0d7-966c-403a-bd06-9f0decc59516",
   "metadata": {},
   "source": [
    "## Example of Metrics Calculation"
   ]
  },
  {
   "cell_type": "markdown",
   "id": "ecc645fa-0861-4534-a681-ad3abf5da837",
   "metadata": {},
   "source": [
    "### User Activity"
   ]
  },
  {
   "cell_type": "code",
   "execution_count": 3,
   "id": "1a8e0781-640b-4f4e-a150-d3903a4a5964",
   "metadata": {},
   "outputs": [
    {
     "data": {
      "text/html": [
       "<div>\n",
       "<style scoped>\n",
       "    .dataframe tbody tr th:only-of-type {\n",
       "        vertical-align: middle;\n",
       "    }\n",
       "\n",
       "    .dataframe tbody tr th {\n",
       "        vertical-align: top;\n",
       "    }\n",
       "\n",
       "    .dataframe thead th {\n",
       "        text-align: right;\n",
       "    }\n",
       "</style>\n",
       "<table border=\"1\" class=\"dataframe\">\n",
       "  <thead>\n",
       "    <tr style=\"text-align: right;\">\n",
       "      <th></th>\n",
       "      <th>userid</th>\n",
       "      <th>dt</th>\n",
       "      <th>activity_level</th>\n",
       "    </tr>\n",
       "  </thead>\n",
       "  <tbody>\n",
       "    <tr>\n",
       "      <th>0</th>\n",
       "      <td>a5b70ae7-f07c-4773-9df4-ce112bc9dc48</td>\n",
       "      <td>2021-10-01</td>\n",
       "      <td>0</td>\n",
       "    </tr>\n",
       "    <tr>\n",
       "      <th>1</th>\n",
       "      <td>d2646662-269f-49de-aab1-8776afced9a3</td>\n",
       "      <td>2021-10-01</td>\n",
       "      <td>0</td>\n",
       "    </tr>\n",
       "    <tr>\n",
       "      <th>2</th>\n",
       "      <td>c4d1cfa8-283d-49ad-a894-90aedc39c798</td>\n",
       "      <td>2021-10-01</td>\n",
       "      <td>0</td>\n",
       "    </tr>\n",
       "    <tr>\n",
       "      <th>3</th>\n",
       "      <td>6889f87f-5356-4904-a35a-6ea5020011db</td>\n",
       "      <td>2021-10-01</td>\n",
       "      <td>0</td>\n",
       "    </tr>\n",
       "    <tr>\n",
       "      <th>4</th>\n",
       "      <td>dbee604c-474a-4c9d-b013-508e5a0e3059</td>\n",
       "      <td>2021-10-01</td>\n",
       "      <td>0</td>\n",
       "    </tr>\n",
       "  </tbody>\n",
       "</table>\n",
       "</div>"
      ],
      "text/plain": [
       "                                 userid          dt  activity_level\n",
       "0  a5b70ae7-f07c-4773-9df4-ce112bc9dc48  2021-10-01               0\n",
       "1  d2646662-269f-49de-aab1-8776afced9a3  2021-10-01               0\n",
       "2  c4d1cfa8-283d-49ad-a894-90aedc39c798  2021-10-01               0\n",
       "3  6889f87f-5356-4904-a35a-6ea5020011db  2021-10-01               0\n",
       "4  dbee604c-474a-4c9d-b013-508e5a0e3059  2021-10-01               0"
      ]
     },
     "execution_count": 3,
     "metadata": {},
     "output_type": "execute_result"
    }
   ],
   "source": [
    "activity_df = pd.read_csv(\"Activity_pretest.csv\")\n",
    "activity_df.head()"
   ]
  },
  {
   "cell_type": "code",
   "execution_count": 4,
   "id": "ee137623-ac67-40a4-a83e-f67971b4b39c",
   "metadata": {},
   "outputs": [
    {
     "data": {
      "text/plain": [
       "activity_level\n",
       "20     24520\n",
       "7      48339\n",
       "17     48395\n",
       "8      48396\n",
       "13     48534\n",
       "4      48556\n",
       "15     48599\n",
       "14     48620\n",
       "3      48659\n",
       "1      48732\n",
       "9      48820\n",
       "11     48832\n",
       "19     48901\n",
       "6      48901\n",
       "12     48911\n",
       "16     48934\n",
       "10     48943\n",
       "18     48982\n",
       "2      49074\n",
       "5      49227\n",
       "0     909125\n",
       "Name: count, dtype: int64"
      ]
     },
     "execution_count": 4,
     "metadata": {},
     "output_type": "execute_result"
    }
   ],
   "source": [
    "activity_df.activity_level.value_counts().sort_values()"
   ]
  },
  {
   "cell_type": "markdown",
   "id": "2407d756-c9d0-490e-8420-4fea63a435cb",
   "metadata": {},
   "source": [
    "It seems a relatively uniform distribution, with most values lying in the range 48300 - 49300 and two outliers. Users with an activity level of `0`, meaning that they did not use the app in those days; and `20`, meaning that the users with the highest activity level were also the less common.\n",
    "\n",
    "Now we want to look at how many activity levels we have per day and how many records per activity level:"
   ]
  },
  {
   "cell_type": "code",
   "execution_count": 5,
   "id": "2f1eb7df-99fc-47bd-8dc7-943f6376f516",
   "metadata": {},
   "outputs": [],
   "source": [
    "activity = activity_df.query('activity_level > 0').groupby(['dt', 'activity_level']).count().reset_index()"
   ]
  },
  {
   "cell_type": "code",
   "execution_count": 6,
   "id": "4b475415-c39a-45df-8500-9178b698d660",
   "metadata": {},
   "outputs": [
    {
     "data": {
      "text/html": [
       "\n",
       "<style>\n",
       "  #altair-viz-da97b8c50b2d4dc39de9e9e9c13e4d48.vega-embed {\n",
       "    width: 100%;\n",
       "    display: flex;\n",
       "  }\n",
       "\n",
       "  #altair-viz-da97b8c50b2d4dc39de9e9e9c13e4d48.vega-embed details,\n",
       "  #altair-viz-da97b8c50b2d4dc39de9e9e9c13e4d48.vega-embed details summary {\n",
       "    position: relative;\n",
       "  }\n",
       "</style>\n",
       "<div id=\"altair-viz-da97b8c50b2d4dc39de9e9e9c13e4d48\"></div>\n",
       "<script type=\"text/javascript\">\n",
       "  var VEGA_DEBUG = (typeof VEGA_DEBUG == \"undefined\") ? {} : VEGA_DEBUG;\n",
       "  (function(spec, embedOpt){\n",
       "    let outputDiv = document.currentScript.previousElementSibling;\n",
       "    if (outputDiv.id !== \"altair-viz-da97b8c50b2d4dc39de9e9e9c13e4d48\") {\n",
       "      outputDiv = document.getElementById(\"altair-viz-da97b8c50b2d4dc39de9e9e9c13e4d48\");\n",
       "    }\n",
       "    const paths = {\n",
       "      \"vega\": \"https://cdn.jsdelivr.net/npm/vega@5?noext\",\n",
       "      \"vega-lib\": \"https://cdn.jsdelivr.net/npm/vega-lib?noext\",\n",
       "      \"vega-lite\": \"https://cdn.jsdelivr.net/npm/vega-lite@5.17.0?noext\",\n",
       "      \"vega-embed\": \"https://cdn.jsdelivr.net/npm/vega-embed@6?noext\",\n",
       "    };\n",
       "\n",
       "    function maybeLoadScript(lib, version) {\n",
       "      var key = `${lib.replace(\"-\", \"\")}_version`;\n",
       "      return (VEGA_DEBUG[key] == version) ?\n",
       "        Promise.resolve(paths[lib]) :\n",
       "        new Promise(function(resolve, reject) {\n",
       "          var s = document.createElement('script');\n",
       "          document.getElementsByTagName(\"head\")[0].appendChild(s);\n",
       "          s.async = true;\n",
       "          s.onload = () => {\n",
       "            VEGA_DEBUG[key] = version;\n",
       "            return resolve(paths[lib]);\n",
       "          };\n",
       "          s.onerror = () => reject(`Error loading script: ${paths[lib]}`);\n",
       "          s.src = paths[lib];\n",
       "        });\n",
       "    }\n",
       "\n",
       "    function showError(err) {\n",
       "      outputDiv.innerHTML = `<div class=\"error\" style=\"color:red;\">${err}</div>`;\n",
       "      throw err;\n",
       "    }\n",
       "\n",
       "    function displayChart(vegaEmbed) {\n",
       "      vegaEmbed(outputDiv, spec, embedOpt)\n",
       "        .catch(err => showError(`Javascript Error: ${err.message}<br>This usually means there's a typo in your chart specification. See the javascript console for the full traceback.`));\n",
       "    }\n",
       "\n",
       "    if(typeof define === \"function\" && define.amd) {\n",
       "      requirejs.config({paths});\n",
       "      require([\"vega-embed\"], displayChart, err => showError(`Error loading script: ${err.message}`));\n",
       "    } else {\n",
       "      maybeLoadScript(\"vega\", \"5\")\n",
       "        .then(() => maybeLoadScript(\"vega-lite\", \"5.17.0\"))\n",
       "        .then(() => maybeLoadScript(\"vega-embed\", \"6\"))\n",
       "        .catch(showError)\n",
       "        .then(() => displayChart(vegaEmbed));\n",
       "    }\n",
       "  })({\"config\": {\"view\": {\"continuousWidth\": 300, \"continuousHeight\": 300}}, \"data\": {\"name\": \"data-02f885e21b9b00418c17328656981ab6\"}, \"mark\": {\"type\": \"line\", \"size\": 1}, \"encoding\": {\"color\": {\"field\": \"activity_level\", \"type\": \"nominal\"}, \"tooltip\": [{\"field\": \"activity_level\", \"type\": \"quantitative\"}], \"x\": {\"axis\": {\"title\": \"Date\"}, \"field\": \"dt\", \"type\": \"temporal\"}, \"y\": {\"axis\": {\"title\": \"Number of users\"}, \"field\": \"userid\", \"type\": \"quantitative\"}}, \"height\": 400, \"width\": 600, \"$schema\": \"https://vega.github.io/schema/vega-lite/v5.17.0.json\", \"datasets\": {\"data-02f885e21b9b00418c17328656981ab6\": [{\"dt\": \"2021-10-01\", \"activity_level\": 1, \"userid\": 1602}, {\"dt\": \"2021-10-01\", \"activity_level\": 2, \"userid\": 1507}, {\"dt\": \"2021-10-01\", \"activity_level\": 3, \"userid\": 1587}, {\"dt\": \"2021-10-01\", \"activity_level\": 4, \"userid\": 1551}, {\"dt\": \"2021-10-01\", \"activity_level\": 5, \"userid\": 1586}, {\"dt\": \"2021-10-01\", \"activity_level\": 6, \"userid\": 1640}, {\"dt\": \"2021-10-01\", \"activity_level\": 7, \"userid\": 1508}, {\"dt\": \"2021-10-01\", \"activity_level\": 8, \"userid\": 1571}, {\"dt\": \"2021-10-01\", \"activity_level\": 9, \"userid\": 1576}, {\"dt\": \"2021-10-01\", \"activity_level\": 10, \"userid\": 1593}, {\"dt\": \"2021-10-01\", \"activity_level\": 11, \"userid\": 1497}, {\"dt\": \"2021-10-01\", \"activity_level\": 12, \"userid\": 1623}, {\"dt\": \"2021-10-01\", \"activity_level\": 13, \"userid\": 1554}, {\"dt\": \"2021-10-01\", \"activity_level\": 14, \"userid\": 1572}, {\"dt\": \"2021-10-01\", \"activity_level\": 15, \"userid\": 1508}, {\"dt\": \"2021-10-01\", \"activity_level\": 16, \"userid\": 1628}, {\"dt\": \"2021-10-01\", \"activity_level\": 17, \"userid\": 1593}, {\"dt\": \"2021-10-01\", \"activity_level\": 18, \"userid\": 1597}, {\"dt\": \"2021-10-01\", \"activity_level\": 19, \"userid\": 1572}, {\"dt\": \"2021-10-01\", \"activity_level\": 20, \"userid\": 769}, {\"dt\": \"2021-10-02\", \"activity_level\": 1, \"userid\": 1582}, {\"dt\": \"2021-10-02\", \"activity_level\": 2, \"userid\": 1543}, {\"dt\": \"2021-10-02\", \"activity_level\": 3, \"userid\": 1545}, {\"dt\": \"2021-10-02\", \"activity_level\": 4, \"userid\": 1618}, {\"dt\": \"2021-10-02\", \"activity_level\": 5, \"userid\": 1607}, {\"dt\": \"2021-10-02\", \"activity_level\": 6, \"userid\": 1563}, {\"dt\": \"2021-10-02\", \"activity_level\": 7, \"userid\": 1560}, {\"dt\": \"2021-10-02\", \"activity_level\": 8, \"userid\": 1557}, {\"dt\": \"2021-10-02\", \"activity_level\": 9, \"userid\": 1602}, {\"dt\": \"2021-10-02\", \"activity_level\": 10, \"userid\": 1593}, {\"dt\": \"2021-10-02\", \"activity_level\": 11, \"userid\": 1590}, {\"dt\": \"2021-10-02\", \"activity_level\": 12, \"userid\": 1579}, {\"dt\": \"2021-10-02\", \"activity_level\": 13, \"userid\": 1572}, {\"dt\": \"2021-10-02\", \"activity_level\": 14, \"userid\": 1532}, {\"dt\": \"2021-10-02\", \"activity_level\": 15, \"userid\": 1587}, {\"dt\": \"2021-10-02\", \"activity_level\": 16, \"userid\": 1620}, {\"dt\": \"2021-10-02\", \"activity_level\": 17, \"userid\": 1545}, {\"dt\": \"2021-10-02\", \"activity_level\": 18, \"userid\": 1611}, {\"dt\": \"2021-10-02\", \"activity_level\": 19, \"userid\": 1611}, {\"dt\": \"2021-10-02\", \"activity_level\": 20, \"userid\": 758}, {\"dt\": \"2021-10-03\", \"activity_level\": 1, \"userid\": 1618}, {\"dt\": \"2021-10-03\", \"activity_level\": 2, \"userid\": 1631}, {\"dt\": \"2021-10-03\", \"activity_level\": 3, \"userid\": 1551}, {\"dt\": \"2021-10-03\", \"activity_level\": 4, \"userid\": 1503}, {\"dt\": \"2021-10-03\", \"activity_level\": 5, \"userid\": 1564}, {\"dt\": \"2021-10-03\", \"activity_level\": 6, \"userid\": 1606}, {\"dt\": \"2021-10-03\", \"activity_level\": 7, \"userid\": 1642}, {\"dt\": \"2021-10-03\", \"activity_level\": 8, \"userid\": 1555}, {\"dt\": \"2021-10-03\", \"activity_level\": 9, \"userid\": 1597}, {\"dt\": \"2021-10-03\", \"activity_level\": 10, \"userid\": 1569}, {\"dt\": \"2021-10-03\", \"activity_level\": 11, \"userid\": 1650}, {\"dt\": \"2021-10-03\", \"activity_level\": 12, \"userid\": 1579}, {\"dt\": \"2021-10-03\", \"activity_level\": 13, \"userid\": 1520}, {\"dt\": \"2021-10-03\", \"activity_level\": 14, \"userid\": 1597}, {\"dt\": \"2021-10-03\", \"activity_level\": 15, \"userid\": 1574}, {\"dt\": \"2021-10-03\", \"activity_level\": 16, \"userid\": 1576}, {\"dt\": \"2021-10-03\", \"activity_level\": 17, \"userid\": 1559}, {\"dt\": \"2021-10-03\", \"activity_level\": 18, \"userid\": 1556}, {\"dt\": \"2021-10-03\", \"activity_level\": 19, \"userid\": 1533}, {\"dt\": \"2021-10-03\", \"activity_level\": 20, \"userid\": 805}, {\"dt\": \"2021-10-04\", \"activity_level\": 1, \"userid\": 1576}, {\"dt\": \"2021-10-04\", \"activity_level\": 2, \"userid\": 1566}, {\"dt\": \"2021-10-04\", \"activity_level\": 3, \"userid\": 1529}, {\"dt\": \"2021-10-04\", \"activity_level\": 4, \"userid\": 1579}, {\"dt\": \"2021-10-04\", \"activity_level\": 5, \"userid\": 1553}, {\"dt\": \"2021-10-04\", \"activity_level\": 6, \"userid\": 1525}, {\"dt\": \"2021-10-04\", \"activity_level\": 7, \"userid\": 1579}, {\"dt\": \"2021-10-04\", \"activity_level\": 8, \"userid\": 1566}, {\"dt\": \"2021-10-04\", \"activity_level\": 9, \"userid\": 1586}, {\"dt\": \"2021-10-04\", \"activity_level\": 10, \"userid\": 1540}, {\"dt\": \"2021-10-04\", \"activity_level\": 11, \"userid\": 1569}, {\"dt\": \"2021-10-04\", \"activity_level\": 12, \"userid\": 1589}, {\"dt\": \"2021-10-04\", \"activity_level\": 13, \"userid\": 1586}, {\"dt\": \"2021-10-04\", \"activity_level\": 14, \"userid\": 1574}, {\"dt\": \"2021-10-04\", \"activity_level\": 15, \"userid\": 1580}, {\"dt\": \"2021-10-04\", \"activity_level\": 16, \"userid\": 1539}, {\"dt\": \"2021-10-04\", \"activity_level\": 17, \"userid\": 1586}, {\"dt\": \"2021-10-04\", \"activity_level\": 18, \"userid\": 1577}, {\"dt\": \"2021-10-04\", \"activity_level\": 19, \"userid\": 1617}, {\"dt\": \"2021-10-04\", \"activity_level\": 20, \"userid\": 783}, {\"dt\": \"2021-10-05\", \"activity_level\": 1, \"userid\": 1531}, {\"dt\": \"2021-10-05\", \"activity_level\": 2, \"userid\": 1636}, {\"dt\": \"2021-10-05\", \"activity_level\": 3, \"userid\": 1556}, {\"dt\": \"2021-10-05\", \"activity_level\": 4, \"userid\": 1555}, {\"dt\": \"2021-10-05\", \"activity_level\": 5, \"userid\": 1581}, {\"dt\": \"2021-10-05\", \"activity_level\": 6, \"userid\": 1561}, {\"dt\": \"2021-10-05\", \"activity_level\": 7, \"userid\": 1541}, {\"dt\": \"2021-10-05\", \"activity_level\": 8, \"userid\": 1554}, {\"dt\": \"2021-10-05\", \"activity_level\": 9, \"userid\": 1609}, {\"dt\": \"2021-10-05\", \"activity_level\": 10, \"userid\": 1557}, {\"dt\": \"2021-10-05\", \"activity_level\": 11, \"userid\": 1529}, {\"dt\": \"2021-10-05\", \"activity_level\": 12, \"userid\": 1596}, {\"dt\": \"2021-10-05\", \"activity_level\": 13, \"userid\": 1569}, {\"dt\": \"2021-10-05\", \"activity_level\": 14, \"userid\": 1569}, {\"dt\": \"2021-10-05\", \"activity_level\": 15, \"userid\": 1584}, {\"dt\": \"2021-10-05\", \"activity_level\": 16, \"userid\": 1519}, {\"dt\": \"2021-10-05\", \"activity_level\": 17, \"userid\": 1564}, {\"dt\": \"2021-10-05\", \"activity_level\": 18, \"userid\": 1584}, {\"dt\": \"2021-10-05\", \"activity_level\": 19, \"userid\": 1584}, {\"dt\": \"2021-10-05\", \"activity_level\": 20, \"userid\": 809}, {\"dt\": \"2021-10-06\", \"activity_level\": 1, \"userid\": 1585}, {\"dt\": \"2021-10-06\", \"activity_level\": 2, \"userid\": 1644}, {\"dt\": \"2021-10-06\", \"activity_level\": 3, \"userid\": 1588}, {\"dt\": \"2021-10-06\", \"activity_level\": 4, \"userid\": 1558}, {\"dt\": \"2021-10-06\", \"activity_level\": 5, \"userid\": 1529}, {\"dt\": \"2021-10-06\", \"activity_level\": 6, \"userid\": 1591}, {\"dt\": \"2021-10-06\", \"activity_level\": 7, \"userid\": 1625}, {\"dt\": \"2021-10-06\", \"activity_level\": 8, \"userid\": 1562}, {\"dt\": \"2021-10-06\", \"activity_level\": 9, \"userid\": 1573}, {\"dt\": \"2021-10-06\", \"activity_level\": 10, \"userid\": 1546}, {\"dt\": \"2021-10-06\", \"activity_level\": 11, \"userid\": 1587}, {\"dt\": \"2021-10-06\", \"activity_level\": 12, \"userid\": 1606}, {\"dt\": \"2021-10-06\", \"activity_level\": 13, \"userid\": 1544}, {\"dt\": \"2021-10-06\", \"activity_level\": 14, \"userid\": 1500}, {\"dt\": \"2021-10-06\", \"activity_level\": 15, \"userid\": 1542}, {\"dt\": \"2021-10-06\", \"activity_level\": 16, \"userid\": 1554}, {\"dt\": \"2021-10-06\", \"activity_level\": 17, \"userid\": 1545}, {\"dt\": \"2021-10-06\", \"activity_level\": 18, \"userid\": 1561}, {\"dt\": \"2021-10-06\", \"activity_level\": 19, \"userid\": 1600}, {\"dt\": \"2021-10-06\", \"activity_level\": 20, \"userid\": 799}, {\"dt\": \"2021-10-07\", \"activity_level\": 1, \"userid\": 1534}, {\"dt\": \"2021-10-07\", \"activity_level\": 2, \"userid\": 1584}, {\"dt\": \"2021-10-07\", \"activity_level\": 3, \"userid\": 1540}, {\"dt\": \"2021-10-07\", \"activity_level\": 4, \"userid\": 1608}, {\"dt\": \"2021-10-07\", \"activity_level\": 5, \"userid\": 1610}, {\"dt\": \"2021-10-07\", \"activity_level\": 6, \"userid\": 1597}, {\"dt\": \"2021-10-07\", \"activity_level\": 7, \"userid\": 1559}, {\"dt\": \"2021-10-07\", \"activity_level\": 8, \"userid\": 1610}, {\"dt\": \"2021-10-07\", \"activity_level\": 9, \"userid\": 1524}, {\"dt\": \"2021-10-07\", \"activity_level\": 10, \"userid\": 1592}, {\"dt\": \"2021-10-07\", \"activity_level\": 11, \"userid\": 1549}, {\"dt\": \"2021-10-07\", \"activity_level\": 12, \"userid\": 1592}, {\"dt\": \"2021-10-07\", \"activity_level\": 13, \"userid\": 1538}, {\"dt\": \"2021-10-07\", \"activity_level\": 14, \"userid\": 1572}, {\"dt\": \"2021-10-07\", \"activity_level\": 15, \"userid\": 1557}, {\"dt\": \"2021-10-07\", \"activity_level\": 16, \"userid\": 1583}, {\"dt\": \"2021-10-07\", \"activity_level\": 17, \"userid\": 1609}, {\"dt\": \"2021-10-07\", \"activity_level\": 18, \"userid\": 1554}, {\"dt\": \"2021-10-07\", \"activity_level\": 19, \"userid\": 1544}, {\"dt\": \"2021-10-07\", \"activity_level\": 20, \"userid\": 781}, {\"dt\": \"2021-10-08\", \"activity_level\": 1, \"userid\": 1580}, {\"dt\": \"2021-10-08\", \"activity_level\": 2, \"userid\": 1592}, {\"dt\": \"2021-10-08\", \"activity_level\": 3, \"userid\": 1518}, {\"dt\": \"2021-10-08\", \"activity_level\": 4, \"userid\": 1533}, {\"dt\": \"2021-10-08\", \"activity_level\": 5, \"userid\": 1615}, {\"dt\": \"2021-10-08\", \"activity_level\": 6, \"userid\": 1438}, {\"dt\": \"2021-10-08\", \"activity_level\": 7, \"userid\": 1595}, {\"dt\": \"2021-10-08\", \"activity_level\": 8, \"userid\": 1518}, {\"dt\": \"2021-10-08\", \"activity_level\": 9, \"userid\": 1621}, {\"dt\": \"2021-10-08\", \"activity_level\": 10, \"userid\": 1518}, {\"dt\": \"2021-10-08\", \"activity_level\": 11, \"userid\": 1583}, {\"dt\": \"2021-10-08\", \"activity_level\": 12, \"userid\": 1581}, {\"dt\": \"2021-10-08\", \"activity_level\": 13, \"userid\": 1631}, {\"dt\": \"2021-10-08\", \"activity_level\": 14, \"userid\": 1610}, {\"dt\": \"2021-10-08\", \"activity_level\": 15, \"userid\": 1529}, {\"dt\": \"2021-10-08\", \"activity_level\": 16, \"userid\": 1650}, {\"dt\": \"2021-10-08\", \"activity_level\": 17, \"userid\": 1516}, {\"dt\": \"2021-10-08\", \"activity_level\": 18, \"userid\": 1649}, {\"dt\": \"2021-10-08\", \"activity_level\": 19, \"userid\": 1510}, {\"dt\": \"2021-10-08\", \"activity_level\": 20, \"userid\": 813}, {\"dt\": \"2021-10-09\", \"activity_level\": 1, \"userid\": 1556}, {\"dt\": \"2021-10-09\", \"activity_level\": 2, \"userid\": 1572}, {\"dt\": \"2021-10-09\", \"activity_level\": 3, \"userid\": 1580}, {\"dt\": \"2021-10-09\", \"activity_level\": 4, \"userid\": 1562}, {\"dt\": \"2021-10-09\", \"activity_level\": 5, \"userid\": 1676}, {\"dt\": \"2021-10-09\", \"activity_level\": 6, \"userid\": 1639}, {\"dt\": \"2021-10-09\", \"activity_level\": 7, \"userid\": 1544}, {\"dt\": \"2021-10-09\", \"activity_level\": 8, \"userid\": 1586}, {\"dt\": \"2021-10-09\", \"activity_level\": 9, \"userid\": 1595}, {\"dt\": \"2021-10-09\", \"activity_level\": 10, \"userid\": 1563}, {\"dt\": \"2021-10-09\", \"activity_level\": 11, \"userid\": 1573}, {\"dt\": \"2021-10-09\", \"activity_level\": 12, \"userid\": 1497}, {\"dt\": \"2021-10-09\", \"activity_level\": 13, \"userid\": 1623}, {\"dt\": \"2021-10-09\", \"activity_level\": 14, \"userid\": 1567}, {\"dt\": \"2021-10-09\", \"activity_level\": 15, \"userid\": 1566}, {\"dt\": \"2021-10-09\", \"activity_level\": 16, \"userid\": 1607}, {\"dt\": \"2021-10-09\", \"activity_level\": 17, \"userid\": 1565}, {\"dt\": \"2021-10-09\", \"activity_level\": 18, \"userid\": 1641}, {\"dt\": \"2021-10-09\", \"activity_level\": 19, \"userid\": 1577}, {\"dt\": \"2021-10-09\", \"activity_level\": 20, \"userid\": 813}, {\"dt\": \"2021-10-10\", \"activity_level\": 1, \"userid\": 1605}, {\"dt\": \"2021-10-10\", \"activity_level\": 2, \"userid\": 1485}, {\"dt\": \"2021-10-10\", \"activity_level\": 3, \"userid\": 1586}, {\"dt\": \"2021-10-10\", \"activity_level\": 4, \"userid\": 1534}, {\"dt\": \"2021-10-10\", \"activity_level\": 5, \"userid\": 1603}, {\"dt\": \"2021-10-10\", \"activity_level\": 6, \"userid\": 1576}, {\"dt\": \"2021-10-10\", \"activity_level\": 7, \"userid\": 1554}, {\"dt\": \"2021-10-10\", \"activity_level\": 8, \"userid\": 1527}, {\"dt\": \"2021-10-10\", \"activity_level\": 9, \"userid\": 1535}, {\"dt\": \"2021-10-10\", \"activity_level\": 10, \"userid\": 1548}, {\"dt\": \"2021-10-10\", \"activity_level\": 11, \"userid\": 1635}, {\"dt\": \"2021-10-10\", \"activity_level\": 12, \"userid\": 1558}, {\"dt\": \"2021-10-10\", \"activity_level\": 13, \"userid\": 1584}, {\"dt\": \"2021-10-10\", \"activity_level\": 14, \"userid\": 1544}, {\"dt\": \"2021-10-10\", \"activity_level\": 15, \"userid\": 1578}, {\"dt\": \"2021-10-10\", \"activity_level\": 16, \"userid\": 1627}, {\"dt\": \"2021-10-10\", \"activity_level\": 17, \"userid\": 1579}, {\"dt\": \"2021-10-10\", \"activity_level\": 18, \"userid\": 1568}, {\"dt\": \"2021-10-10\", \"activity_level\": 19, \"userid\": 1555}, {\"dt\": \"2021-10-10\", \"activity_level\": 20, \"userid\": 800}, {\"dt\": \"2021-10-11\", \"activity_level\": 1, \"userid\": 1582}, {\"dt\": \"2021-10-11\", \"activity_level\": 2, \"userid\": 1564}, {\"dt\": \"2021-10-11\", \"activity_level\": 3, \"userid\": 1529}, {\"dt\": \"2021-10-11\", \"activity_level\": 4, \"userid\": 1568}, {\"dt\": \"2021-10-11\", \"activity_level\": 5, \"userid\": 1686}, {\"dt\": \"2021-10-11\", \"activity_level\": 6, \"userid\": 1559}, {\"dt\": \"2021-10-11\", \"activity_level\": 7, \"userid\": 1588}, {\"dt\": \"2021-10-11\", \"activity_level\": 8, \"userid\": 1544}, {\"dt\": \"2021-10-11\", \"activity_level\": 9, \"userid\": 1535}, {\"dt\": \"2021-10-11\", \"activity_level\": 10, \"userid\": 1588}, {\"dt\": \"2021-10-11\", \"activity_level\": 11, \"userid\": 1533}, {\"dt\": \"2021-10-11\", \"activity_level\": 12, \"userid\": 1550}, {\"dt\": \"2021-10-11\", \"activity_level\": 13, \"userid\": 1526}, {\"dt\": \"2021-10-11\", \"activity_level\": 14, \"userid\": 1630}, {\"dt\": \"2021-10-11\", \"activity_level\": 15, \"userid\": 1543}, {\"dt\": \"2021-10-11\", \"activity_level\": 16, \"userid\": 1620}, {\"dt\": \"2021-10-11\", \"activity_level\": 17, \"userid\": 1531}, {\"dt\": \"2021-10-11\", \"activity_level\": 18, \"userid\": 1504}, {\"dt\": \"2021-10-11\", \"activity_level\": 19, \"userid\": 1571}, {\"dt\": \"2021-10-11\", \"activity_level\": 20, \"userid\": 738}, {\"dt\": \"2021-10-12\", \"activity_level\": 1, \"userid\": 1546}, {\"dt\": \"2021-10-12\", \"activity_level\": 2, \"userid\": 1628}, {\"dt\": \"2021-10-12\", \"activity_level\": 3, \"userid\": 1555}, {\"dt\": \"2021-10-12\", \"activity_level\": 4, \"userid\": 1612}, {\"dt\": \"2021-10-12\", \"activity_level\": 5, \"userid\": 1614}, {\"dt\": \"2021-10-12\", \"activity_level\": 6, \"userid\": 1528}, {\"dt\": \"2021-10-12\", \"activity_level\": 7, \"userid\": 1519}, {\"dt\": \"2021-10-12\", \"activity_level\": 8, \"userid\": 1513}, {\"dt\": \"2021-10-12\", \"activity_level\": 9, \"userid\": 1527}, {\"dt\": \"2021-10-12\", \"activity_level\": 10, \"userid\": 1634}, {\"dt\": \"2021-10-12\", \"activity_level\": 11, \"userid\": 1542}, {\"dt\": \"2021-10-12\", \"activity_level\": 12, \"userid\": 1628}, {\"dt\": \"2021-10-12\", \"activity_level\": 13, \"userid\": 1619}, {\"dt\": \"2021-10-12\", \"activity_level\": 14, \"userid\": 1606}, {\"dt\": \"2021-10-12\", \"activity_level\": 15, \"userid\": 1560}, {\"dt\": \"2021-10-12\", \"activity_level\": 16, \"userid\": 1630}, {\"dt\": \"2021-10-12\", \"activity_level\": 17, \"userid\": 1554}, {\"dt\": \"2021-10-12\", \"activity_level\": 18, \"userid\": 1535}, {\"dt\": \"2021-10-12\", \"activity_level\": 19, \"userid\": 1595}, {\"dt\": \"2021-10-12\", \"activity_level\": 20, \"userid\": 770}, {\"dt\": \"2021-10-13\", \"activity_level\": 1, \"userid\": 1591}, {\"dt\": \"2021-10-13\", \"activity_level\": 2, \"userid\": 1487}, {\"dt\": \"2021-10-13\", \"activity_level\": 3, \"userid\": 1536}, {\"dt\": \"2021-10-13\", \"activity_level\": 4, \"userid\": 1602}, {\"dt\": \"2021-10-13\", \"activity_level\": 5, \"userid\": 1675}, {\"dt\": \"2021-10-13\", \"activity_level\": 6, \"userid\": 1590}, {\"dt\": \"2021-10-13\", \"activity_level\": 7, \"userid\": 1539}, {\"dt\": \"2021-10-13\", \"activity_level\": 8, \"userid\": 1529}, {\"dt\": \"2021-10-13\", \"activity_level\": 9, \"userid\": 1603}, {\"dt\": \"2021-10-13\", \"activity_level\": 10, \"userid\": 1622}, {\"dt\": \"2021-10-13\", \"activity_level\": 11, \"userid\": 1574}, {\"dt\": \"2021-10-13\", \"activity_level\": 12, \"userid\": 1600}, {\"dt\": \"2021-10-13\", \"activity_level\": 13, \"userid\": 1572}, {\"dt\": \"2021-10-13\", \"activity_level\": 14, \"userid\": 1573}, {\"dt\": \"2021-10-13\", \"activity_level\": 15, \"userid\": 1612}, {\"dt\": \"2021-10-13\", \"activity_level\": 16, \"userid\": 1521}, {\"dt\": \"2021-10-13\", \"activity_level\": 17, \"userid\": 1553}, {\"dt\": \"2021-10-13\", \"activity_level\": 18, \"userid\": 1556}, {\"dt\": \"2021-10-13\", \"activity_level\": 19, \"userid\": 1620}, {\"dt\": \"2021-10-13\", \"activity_level\": 20, \"userid\": 806}, {\"dt\": \"2021-10-14\", \"activity_level\": 1, \"userid\": 1542}, {\"dt\": \"2021-10-14\", \"activity_level\": 2, \"userid\": 1665}, {\"dt\": \"2021-10-14\", \"activity_level\": 3, \"userid\": 1563}, {\"dt\": \"2021-10-14\", \"activity_level\": 4, \"userid\": 1550}, {\"dt\": \"2021-10-14\", \"activity_level\": 5, \"userid\": 1604}, {\"dt\": \"2021-10-14\", \"activity_level\": 6, \"userid\": 1644}, {\"dt\": \"2021-10-14\", \"activity_level\": 7, \"userid\": 1622}, {\"dt\": \"2021-10-14\", \"activity_level\": 8, \"userid\": 1641}, {\"dt\": \"2021-10-14\", \"activity_level\": 9, \"userid\": 1578}, {\"dt\": \"2021-10-14\", \"activity_level\": 10, \"userid\": 1625}, {\"dt\": \"2021-10-14\", \"activity_level\": 11, \"userid\": 1544}, {\"dt\": \"2021-10-14\", \"activity_level\": 12, \"userid\": 1525}, {\"dt\": \"2021-10-14\", \"activity_level\": 13, \"userid\": 1493}, {\"dt\": \"2021-10-14\", \"activity_level\": 14, \"userid\": 1627}, {\"dt\": \"2021-10-14\", \"activity_level\": 15, \"userid\": 1590}, {\"dt\": \"2021-10-14\", \"activity_level\": 16, \"userid\": 1537}, {\"dt\": \"2021-10-14\", \"activity_level\": 17, \"userid\": 1514}, {\"dt\": \"2021-10-14\", \"activity_level\": 18, \"userid\": 1548}, {\"dt\": \"2021-10-14\", \"activity_level\": 19, \"userid\": 1548}, {\"dt\": \"2021-10-14\", \"activity_level\": 20, \"userid\": 756}, {\"dt\": \"2021-10-15\", \"activity_level\": 1, \"userid\": 1528}, {\"dt\": \"2021-10-15\", \"activity_level\": 2, \"userid\": 1586}, {\"dt\": \"2021-10-15\", \"activity_level\": 3, \"userid\": 1620}, {\"dt\": \"2021-10-15\", \"activity_level\": 4, \"userid\": 1556}, {\"dt\": \"2021-10-15\", \"activity_level\": 5, \"userid\": 1549}, {\"dt\": \"2021-10-15\", \"activity_level\": 6, \"userid\": 1567}, {\"dt\": \"2021-10-15\", \"activity_level\": 7, \"userid\": 1553}, {\"dt\": \"2021-10-15\", \"activity_level\": 8, \"userid\": 1601}, {\"dt\": \"2021-10-15\", \"activity_level\": 9, \"userid\": 1612}, {\"dt\": \"2021-10-15\", \"activity_level\": 10, \"userid\": 1495}, {\"dt\": \"2021-10-15\", \"activity_level\": 11, \"userid\": 1612}, {\"dt\": \"2021-10-15\", \"activity_level\": 12, \"userid\": 1493}, {\"dt\": \"2021-10-15\", \"activity_level\": 13, \"userid\": 1574}, {\"dt\": \"2021-10-15\", \"activity_level\": 14, \"userid\": 1599}, {\"dt\": \"2021-10-15\", \"activity_level\": 15, \"userid\": 1622}, {\"dt\": \"2021-10-15\", \"activity_level\": 16, \"userid\": 1521}, {\"dt\": \"2021-10-15\", \"activity_level\": 17, \"userid\": 1547}, {\"dt\": \"2021-10-15\", \"activity_level\": 18, \"userid\": 1624}, {\"dt\": \"2021-10-15\", \"activity_level\": 19, \"userid\": 1583}, {\"dt\": \"2021-10-15\", \"activity_level\": 20, \"userid\": 795}, {\"dt\": \"2021-10-16\", \"activity_level\": 1, \"userid\": 1585}, {\"dt\": \"2021-10-16\", \"activity_level\": 2, \"userid\": 1609}, {\"dt\": \"2021-10-16\", \"activity_level\": 3, \"userid\": 1575}, {\"dt\": \"2021-10-16\", \"activity_level\": 4, \"userid\": 1577}, {\"dt\": \"2021-10-16\", \"activity_level\": 5, \"userid\": 1529}, {\"dt\": \"2021-10-16\", \"activity_level\": 6, \"userid\": 1573}, {\"dt\": \"2021-10-16\", \"activity_level\": 7, \"userid\": 1514}, {\"dt\": \"2021-10-16\", \"activity_level\": 8, \"userid\": 1572}, {\"dt\": \"2021-10-16\", \"activity_level\": 9, \"userid\": 1599}, {\"dt\": \"2021-10-16\", \"activity_level\": 10, \"userid\": 1590}, {\"dt\": \"2021-10-16\", \"activity_level\": 11, \"userid\": 1613}, {\"dt\": \"2021-10-16\", \"activity_level\": 12, \"userid\": 1616}, {\"dt\": \"2021-10-16\", \"activity_level\": 13, \"userid\": 1550}, {\"dt\": \"2021-10-16\", \"activity_level\": 14, \"userid\": 1560}, {\"dt\": \"2021-10-16\", \"activity_level\": 15, \"userid\": 1562}, {\"dt\": \"2021-10-16\", \"activity_level\": 16, \"userid\": 1565}, {\"dt\": \"2021-10-16\", \"activity_level\": 17, \"userid\": 1537}, {\"dt\": \"2021-10-16\", \"activity_level\": 18, \"userid\": 1578}, {\"dt\": \"2021-10-16\", \"activity_level\": 19, \"userid\": 1614}, {\"dt\": \"2021-10-16\", \"activity_level\": 20, \"userid\": 790}, {\"dt\": \"2021-10-17\", \"activity_level\": 1, \"userid\": 1572}, {\"dt\": \"2021-10-17\", \"activity_level\": 2, \"userid\": 1639}, {\"dt\": \"2021-10-17\", \"activity_level\": 3, \"userid\": 1570}, {\"dt\": \"2021-10-17\", \"activity_level\": 4, \"userid\": 1525}, {\"dt\": \"2021-10-17\", \"activity_level\": 5, \"userid\": 1626}, {\"dt\": \"2021-10-17\", \"activity_level\": 6, \"userid\": 1565}, {\"dt\": \"2021-10-17\", \"activity_level\": 7, \"userid\": 1603}, {\"dt\": \"2021-10-17\", \"activity_level\": 8, \"userid\": 1550}, {\"dt\": \"2021-10-17\", \"activity_level\": 9, \"userid\": 1593}, {\"dt\": \"2021-10-17\", \"activity_level\": 10, \"userid\": 1581}, {\"dt\": \"2021-10-17\", \"activity_level\": 11, \"userid\": 1557}, {\"dt\": \"2021-10-17\", \"activity_level\": 12, \"userid\": 1528}, {\"dt\": \"2021-10-17\", \"activity_level\": 13, \"userid\": 1530}, {\"dt\": \"2021-10-17\", \"activity_level\": 14, \"userid\": 1568}, {\"dt\": \"2021-10-17\", \"activity_level\": 15, \"userid\": 1548}, {\"dt\": \"2021-10-17\", \"activity_level\": 16, \"userid\": 1635}, {\"dt\": \"2021-10-17\", \"activity_level\": 17, \"userid\": 1572}, {\"dt\": \"2021-10-17\", \"activity_level\": 18, \"userid\": 1606}, {\"dt\": \"2021-10-17\", \"activity_level\": 19, \"userid\": 1535}, {\"dt\": \"2021-10-17\", \"activity_level\": 20, \"userid\": 838}, {\"dt\": \"2021-10-18\", \"activity_level\": 1, \"userid\": 1573}, {\"dt\": \"2021-10-18\", \"activity_level\": 2, \"userid\": 1643}, {\"dt\": \"2021-10-18\", \"activity_level\": 3, \"userid\": 1596}, {\"dt\": \"2021-10-18\", \"activity_level\": 4, \"userid\": 1565}, {\"dt\": \"2021-10-18\", \"activity_level\": 5, \"userid\": 1580}, {\"dt\": \"2021-10-18\", \"activity_level\": 6, \"userid\": 1584}, {\"dt\": \"2021-10-18\", \"activity_level\": 7, \"userid\": 1566}, {\"dt\": \"2021-10-18\", \"activity_level\": 8, \"userid\": 1594}, {\"dt\": \"2021-10-18\", \"activity_level\": 9, \"userid\": 1589}, {\"dt\": \"2021-10-18\", \"activity_level\": 10, \"userid\": 1542}, {\"dt\": \"2021-10-18\", \"activity_level\": 11, \"userid\": 1608}, {\"dt\": \"2021-10-18\", \"activity_level\": 12, \"userid\": 1559}, {\"dt\": \"2021-10-18\", \"activity_level\": 13, \"userid\": 1508}, {\"dt\": \"2021-10-18\", \"activity_level\": 14, \"userid\": 1515}, {\"dt\": \"2021-10-18\", \"activity_level\": 15, \"userid\": 1526}, {\"dt\": \"2021-10-18\", \"activity_level\": 16, \"userid\": 1536}, {\"dt\": \"2021-10-18\", \"activity_level\": 17, \"userid\": 1613}, {\"dt\": \"2021-10-18\", \"activity_level\": 18, \"userid\": 1626}, {\"dt\": \"2021-10-18\", \"activity_level\": 19, \"userid\": 1591}, {\"dt\": \"2021-10-18\", \"activity_level\": 20, \"userid\": 780}, {\"dt\": \"2021-10-19\", \"activity_level\": 1, \"userid\": 1620}, {\"dt\": \"2021-10-19\", \"activity_level\": 2, \"userid\": 1561}, {\"dt\": \"2021-10-19\", \"activity_level\": 3, \"userid\": 1579}, {\"dt\": \"2021-10-19\", \"activity_level\": 4, \"userid\": 1630}, {\"dt\": \"2021-10-19\", \"activity_level\": 5, \"userid\": 1571}, {\"dt\": \"2021-10-19\", \"activity_level\": 6, \"userid\": 1569}, {\"dt\": \"2021-10-19\", \"activity_level\": 7, \"userid\": 1515}, {\"dt\": \"2021-10-19\", \"activity_level\": 8, \"userid\": 1588}, {\"dt\": \"2021-10-19\", \"activity_level\": 9, \"userid\": 1547}, {\"dt\": \"2021-10-19\", \"activity_level\": 10, \"userid\": 1606}, {\"dt\": \"2021-10-19\", \"activity_level\": 11, \"userid\": 1594}, {\"dt\": \"2021-10-19\", \"activity_level\": 12, \"userid\": 1553}, {\"dt\": \"2021-10-19\", \"activity_level\": 13, \"userid\": 1509}, {\"dt\": \"2021-10-19\", \"activity_level\": 14, \"userid\": 1550}, {\"dt\": \"2021-10-19\", \"activity_level\": 15, \"userid\": 1564}, {\"dt\": \"2021-10-19\", \"activity_level\": 16, \"userid\": 1532}, {\"dt\": \"2021-10-19\", \"activity_level\": 17, \"userid\": 1541}, {\"dt\": \"2021-10-19\", \"activity_level\": 18, \"userid\": 1606}, {\"dt\": \"2021-10-19\", \"activity_level\": 19, \"userid\": 1532}, {\"dt\": \"2021-10-19\", \"activity_level\": 20, \"userid\": 820}, {\"dt\": \"2021-10-20\", \"activity_level\": 1, \"userid\": 1545}, {\"dt\": \"2021-10-20\", \"activity_level\": 2, \"userid\": 1650}, {\"dt\": \"2021-10-20\", \"activity_level\": 3, \"userid\": 1644}, {\"dt\": \"2021-10-20\", \"activity_level\": 4, \"userid\": 1572}, {\"dt\": \"2021-10-20\", \"activity_level\": 5, \"userid\": 1597}, {\"dt\": \"2021-10-20\", \"activity_level\": 6, \"userid\": 1570}, {\"dt\": \"2021-10-20\", \"activity_level\": 7, \"userid\": 1578}, {\"dt\": \"2021-10-20\", \"activity_level\": 8, \"userid\": 1482}, {\"dt\": \"2021-10-20\", \"activity_level\": 9, \"userid\": 1629}, {\"dt\": \"2021-10-20\", \"activity_level\": 10, \"userid\": 1531}, {\"dt\": \"2021-10-20\", \"activity_level\": 11, \"userid\": 1576}, {\"dt\": \"2021-10-20\", \"activity_level\": 12, \"userid\": 1615}, {\"dt\": \"2021-10-20\", \"activity_level\": 13, \"userid\": 1608}, {\"dt\": \"2021-10-20\", \"activity_level\": 14, \"userid\": 1535}, {\"dt\": \"2021-10-20\", \"activity_level\": 15, \"userid\": 1573}, {\"dt\": \"2021-10-20\", \"activity_level\": 16, \"userid\": 1577}, {\"dt\": \"2021-10-20\", \"activity_level\": 17, \"userid\": 1576}, {\"dt\": \"2021-10-20\", \"activity_level\": 18, \"userid\": 1596}, {\"dt\": \"2021-10-20\", \"activity_level\": 19, \"userid\": 1567}, {\"dt\": \"2021-10-20\", \"activity_level\": 20, \"userid\": 774}, {\"dt\": \"2021-10-21\", \"activity_level\": 1, \"userid\": 1564}, {\"dt\": \"2021-10-21\", \"activity_level\": 2, \"userid\": 1548}, {\"dt\": \"2021-10-21\", \"activity_level\": 3, \"userid\": 1588}, {\"dt\": \"2021-10-21\", \"activity_level\": 4, \"userid\": 1552}, {\"dt\": \"2021-10-21\", \"activity_level\": 5, \"userid\": 1510}, {\"dt\": \"2021-10-21\", \"activity_level\": 6, \"userid\": 1582}, {\"dt\": \"2021-10-21\", \"activity_level\": 7, \"userid\": 1530}, {\"dt\": \"2021-10-21\", \"activity_level\": 8, \"userid\": 1581}, {\"dt\": \"2021-10-21\", \"activity_level\": 9, \"userid\": 1599}, {\"dt\": \"2021-10-21\", \"activity_level\": 10, \"userid\": 1627}, {\"dt\": \"2021-10-21\", \"activity_level\": 11, \"userid\": 1659}, {\"dt\": \"2021-10-21\", \"activity_level\": 12, \"userid\": 1602}, {\"dt\": \"2021-10-21\", \"activity_level\": 13, \"userid\": 1569}, {\"dt\": \"2021-10-21\", \"activity_level\": 14, \"userid\": 1577}, {\"dt\": \"2021-10-21\", \"activity_level\": 15, \"userid\": 1605}, {\"dt\": \"2021-10-21\", \"activity_level\": 16, \"userid\": 1549}, {\"dt\": \"2021-10-21\", \"activity_level\": 17, \"userid\": 1552}, {\"dt\": \"2021-10-21\", \"activity_level\": 18, \"userid\": 1551}, {\"dt\": \"2021-10-21\", \"activity_level\": 19, \"userid\": 1585}, {\"dt\": \"2021-10-21\", \"activity_level\": 20, \"userid\": 775}, {\"dt\": \"2021-10-22\", \"activity_level\": 1, \"userid\": 1609}, {\"dt\": \"2021-10-22\", \"activity_level\": 2, \"userid\": 1523}, {\"dt\": \"2021-10-22\", \"activity_level\": 3, \"userid\": 1572}, {\"dt\": \"2021-10-22\", \"activity_level\": 4, \"userid\": 1526}, {\"dt\": \"2021-10-22\", \"activity_level\": 5, \"userid\": 1584}, {\"dt\": \"2021-10-22\", \"activity_level\": 6, \"userid\": 1532}, {\"dt\": \"2021-10-22\", \"activity_level\": 7, \"userid\": 1583}, {\"dt\": \"2021-10-22\", \"activity_level\": 8, \"userid\": 1559}, {\"dt\": \"2021-10-22\", \"activity_level\": 9, \"userid\": 1559}, {\"dt\": \"2021-10-22\", \"activity_level\": 10, \"userid\": 1572}, {\"dt\": \"2021-10-22\", \"activity_level\": 11, \"userid\": 1506}, {\"dt\": \"2021-10-22\", \"activity_level\": 12, \"userid\": 1519}, {\"dt\": \"2021-10-22\", \"activity_level\": 13, \"userid\": 1637}, {\"dt\": \"2021-10-22\", \"activity_level\": 14, \"userid\": 1549}, {\"dt\": \"2021-10-22\", \"activity_level\": 15, \"userid\": 1523}, {\"dt\": \"2021-10-22\", \"activity_level\": 16, \"userid\": 1601}, {\"dt\": \"2021-10-22\", \"activity_level\": 17, \"userid\": 1622}, {\"dt\": \"2021-10-22\", \"activity_level\": 18, \"userid\": 1567}, {\"dt\": \"2021-10-22\", \"activity_level\": 19, \"userid\": 1638}, {\"dt\": \"2021-10-22\", \"activity_level\": 20, \"userid\": 792}, {\"dt\": \"2021-10-23\", \"activity_level\": 1, \"userid\": 1567}, {\"dt\": \"2021-10-23\", \"activity_level\": 2, \"userid\": 1524}, {\"dt\": \"2021-10-23\", \"activity_level\": 3, \"userid\": 1572}, {\"dt\": \"2021-10-23\", \"activity_level\": 4, \"userid\": 1567}, {\"dt\": \"2021-10-23\", \"activity_level\": 5, \"userid\": 1560}, {\"dt\": \"2021-10-23\", \"activity_level\": 6, \"userid\": 1558}, {\"dt\": \"2021-10-23\", \"activity_level\": 7, \"userid\": 1552}, {\"dt\": \"2021-10-23\", \"activity_level\": 8, \"userid\": 1535}, {\"dt\": \"2021-10-23\", \"activity_level\": 9, \"userid\": 1617}, {\"dt\": \"2021-10-23\", \"activity_level\": 10, \"userid\": 1605}, {\"dt\": \"2021-10-23\", \"activity_level\": 11, \"userid\": 1526}, {\"dt\": \"2021-10-23\", \"activity_level\": 12, \"userid\": 1612}, {\"dt\": \"2021-10-23\", \"activity_level\": 13, \"userid\": 1544}, {\"dt\": \"2021-10-23\", \"activity_level\": 14, \"userid\": 1631}, {\"dt\": \"2021-10-23\", \"activity_level\": 15, \"userid\": 1561}, {\"dt\": \"2021-10-23\", \"activity_level\": 16, \"userid\": 1597}, {\"dt\": \"2021-10-23\", \"activity_level\": 17, \"userid\": 1562}, {\"dt\": \"2021-10-23\", \"activity_level\": 18, \"userid\": 1616}, {\"dt\": \"2021-10-23\", \"activity_level\": 19, \"userid\": 1548}, {\"dt\": \"2021-10-23\", \"activity_level\": 20, \"userid\": 791}, {\"dt\": \"2021-10-24\", \"activity_level\": 1, \"userid\": 1572}, {\"dt\": \"2021-10-24\", \"activity_level\": 2, \"userid\": 1632}, {\"dt\": \"2021-10-24\", \"activity_level\": 3, \"userid\": 1586}, {\"dt\": \"2021-10-24\", \"activity_level\": 4, \"userid\": 1524}, {\"dt\": \"2021-10-24\", \"activity_level\": 5, \"userid\": 1616}, {\"dt\": \"2021-10-24\", \"activity_level\": 6, \"userid\": 1519}, {\"dt\": \"2021-10-24\", \"activity_level\": 7, \"userid\": 1554}, {\"dt\": \"2021-10-24\", \"activity_level\": 8, \"userid\": 1562}, {\"dt\": \"2021-10-24\", \"activity_level\": 9, \"userid\": 1550}, {\"dt\": \"2021-10-24\", \"activity_level\": 10, \"userid\": 1559}, {\"dt\": \"2021-10-24\", \"activity_level\": 11, \"userid\": 1657}, {\"dt\": \"2021-10-24\", \"activity_level\": 12, \"userid\": 1638}, {\"dt\": \"2021-10-24\", \"activity_level\": 13, \"userid\": 1581}, {\"dt\": \"2021-10-24\", \"activity_level\": 14, \"userid\": 1576}, {\"dt\": \"2021-10-24\", \"activity_level\": 15, \"userid\": 1564}, {\"dt\": \"2021-10-24\", \"activity_level\": 16, \"userid\": 1651}, {\"dt\": \"2021-10-24\", \"activity_level\": 17, \"userid\": 1560}, {\"dt\": \"2021-10-24\", \"activity_level\": 18, \"userid\": 1564}, {\"dt\": \"2021-10-24\", \"activity_level\": 19, \"userid\": 1572}, {\"dt\": \"2021-10-24\", \"activity_level\": 20, \"userid\": 778}, {\"dt\": \"2021-10-25\", \"activity_level\": 1, \"userid\": 1544}, {\"dt\": \"2021-10-25\", \"activity_level\": 2, \"userid\": 1593}, {\"dt\": \"2021-10-25\", \"activity_level\": 3, \"userid\": 1601}, {\"dt\": \"2021-10-25\", \"activity_level\": 4, \"userid\": 1564}, {\"dt\": \"2021-10-25\", \"activity_level\": 5, \"userid\": 1520}, {\"dt\": \"2021-10-25\", \"activity_level\": 6, \"userid\": 1531}, {\"dt\": \"2021-10-25\", \"activity_level\": 7, \"userid\": 1506}, {\"dt\": \"2021-10-25\", \"activity_level\": 8, \"userid\": 1583}, {\"dt\": \"2021-10-25\", \"activity_level\": 9, \"userid\": 1540}, {\"dt\": \"2021-10-25\", \"activity_level\": 10, \"userid\": 1589}, {\"dt\": \"2021-10-25\", \"activity_level\": 11, \"userid\": 1537}, {\"dt\": \"2021-10-25\", \"activity_level\": 12, \"userid\": 1610}, {\"dt\": \"2021-10-25\", \"activity_level\": 13, \"userid\": 1561}, {\"dt\": \"2021-10-25\", \"activity_level\": 14, \"userid\": 1549}, {\"dt\": \"2021-10-25\", \"activity_level\": 15, \"userid\": 1527}, {\"dt\": \"2021-10-25\", \"activity_level\": 16, \"userid\": 1561}, {\"dt\": \"2021-10-25\", \"activity_level\": 17, \"userid\": 1625}, {\"dt\": \"2021-10-25\", \"activity_level\": 18, \"userid\": 1600}, {\"dt\": \"2021-10-25\", \"activity_level\": 19, \"userid\": 1629}, {\"dt\": \"2021-10-25\", \"activity_level\": 20, \"userid\": 846}, {\"dt\": \"2021-10-26\", \"activity_level\": 1, \"userid\": 1554}, {\"dt\": \"2021-10-26\", \"activity_level\": 2, \"userid\": 1644}, {\"dt\": \"2021-10-26\", \"activity_level\": 3, \"userid\": 1543}, {\"dt\": \"2021-10-26\", \"activity_level\": 4, \"userid\": 1523}, {\"dt\": \"2021-10-26\", \"activity_level\": 5, \"userid\": 1607}, {\"dt\": \"2021-10-26\", \"activity_level\": 6, \"userid\": 1615}, {\"dt\": \"2021-10-26\", \"activity_level\": 7, \"userid\": 1575}, {\"dt\": \"2021-10-26\", \"activity_level\": 8, \"userid\": 1588}, {\"dt\": \"2021-10-26\", \"activity_level\": 9, \"userid\": 1534}, {\"dt\": \"2021-10-26\", \"activity_level\": 10, \"userid\": 1545}, {\"dt\": \"2021-10-26\", \"activity_level\": 11, \"userid\": 1584}, {\"dt\": \"2021-10-26\", \"activity_level\": 12, \"userid\": 1520}, {\"dt\": \"2021-10-26\", \"activity_level\": 13, \"userid\": 1564}, {\"dt\": \"2021-10-26\", \"activity_level\": 14, \"userid\": 1563}, {\"dt\": \"2021-10-26\", \"activity_level\": 15, \"userid\": 1633}, {\"dt\": \"2021-10-26\", \"activity_level\": 16, \"userid\": 1603}, {\"dt\": \"2021-10-26\", \"activity_level\": 17, \"userid\": 1557}, {\"dt\": \"2021-10-26\", \"activity_level\": 18, \"userid\": 1592}, {\"dt\": \"2021-10-26\", \"activity_level\": 19, \"userid\": 1545}, {\"dt\": \"2021-10-26\", \"activity_level\": 20, \"userid\": 784}, {\"dt\": \"2021-10-27\", \"activity_level\": 1, \"userid\": 1560}, {\"dt\": \"2021-10-27\", \"activity_level\": 2, \"userid\": 1504}, {\"dt\": \"2021-10-27\", \"activity_level\": 3, \"userid\": 1561}, {\"dt\": \"2021-10-27\", \"activity_level\": 4, \"userid\": 1629}, {\"dt\": \"2021-10-27\", \"activity_level\": 5, \"userid\": 1588}, {\"dt\": \"2021-10-27\", \"activity_level\": 6, \"userid\": 1644}, {\"dt\": \"2021-10-27\", \"activity_level\": 7, \"userid\": 1527}, {\"dt\": \"2021-10-27\", \"activity_level\": 8, \"userid\": 1569}, {\"dt\": \"2021-10-27\", \"activity_level\": 9, \"userid\": 1452}, {\"dt\": \"2021-10-27\", \"activity_level\": 10, \"userid\": 1576}, {\"dt\": \"2021-10-27\", \"activity_level\": 11, \"userid\": 1628}, {\"dt\": \"2021-10-27\", \"activity_level\": 12, \"userid\": 1547}, {\"dt\": \"2021-10-27\", \"activity_level\": 13, \"userid\": 1532}, {\"dt\": \"2021-10-27\", \"activity_level\": 14, \"userid\": 1593}, {\"dt\": \"2021-10-27\", \"activity_level\": 15, \"userid\": 1513}, {\"dt\": \"2021-10-27\", \"activity_level\": 16, \"userid\": 1575}, {\"dt\": \"2021-10-27\", \"activity_level\": 17, \"userid\": 1652}, {\"dt\": \"2021-10-27\", \"activity_level\": 18, \"userid\": 1651}, {\"dt\": \"2021-10-27\", \"activity_level\": 19, \"userid\": 1550}, {\"dt\": \"2021-10-27\", \"activity_level\": 20, \"userid\": 810}, {\"dt\": \"2021-10-28\", \"activity_level\": 1, \"userid\": 1608}, {\"dt\": \"2021-10-28\", \"activity_level\": 2, \"userid\": 1635}, {\"dt\": \"2021-10-28\", \"activity_level\": 3, \"userid\": 1663}, {\"dt\": \"2021-10-28\", \"activity_level\": 4, \"userid\": 1558}, {\"dt\": \"2021-10-28\", \"activity_level\": 5, \"userid\": 1531}, {\"dt\": \"2021-10-28\", \"activity_level\": 6, \"userid\": 1626}, {\"dt\": \"2021-10-28\", \"activity_level\": 7, \"userid\": 1615}, {\"dt\": \"2021-10-28\", \"activity_level\": 8, \"userid\": 1607}, {\"dt\": \"2021-10-28\", \"activity_level\": 9, \"userid\": 1572}, {\"dt\": \"2021-10-28\", \"activity_level\": 10, \"userid\": 1563}, {\"dt\": \"2021-10-28\", \"activity_level\": 11, \"userid\": 1584}, {\"dt\": \"2021-10-28\", \"activity_level\": 12, \"userid\": 1518}, {\"dt\": \"2021-10-28\", \"activity_level\": 13, \"userid\": 1597}, {\"dt\": \"2021-10-28\", \"activity_level\": 14, \"userid\": 1540}, {\"dt\": \"2021-10-28\", \"activity_level\": 15, \"userid\": 1582}, {\"dt\": \"2021-10-28\", \"activity_level\": 16, \"userid\": 1593}, {\"dt\": \"2021-10-28\", \"activity_level\": 17, \"userid\": 1506}, {\"dt\": \"2021-10-28\", \"activity_level\": 18, \"userid\": 1506}, {\"dt\": \"2021-10-28\", \"activity_level\": 19, \"userid\": 1530}, {\"dt\": \"2021-10-28\", \"activity_level\": 20, \"userid\": 800}, {\"dt\": \"2021-10-29\", \"activity_level\": 1, \"userid\": 1547}, {\"dt\": \"2021-10-29\", \"activity_level\": 2, \"userid\": 1532}, {\"dt\": \"2021-10-29\", \"activity_level\": 3, \"userid\": 1545}, {\"dt\": \"2021-10-29\", \"activity_level\": 4, \"userid\": 1632}, {\"dt\": \"2021-10-29\", \"activity_level\": 5, \"userid\": 1552}, {\"dt\": \"2021-10-29\", \"activity_level\": 6, \"userid\": 1656}, {\"dt\": \"2021-10-29\", \"activity_level\": 7, \"userid\": 1531}, {\"dt\": \"2021-10-29\", \"activity_level\": 8, \"userid\": 1534}, {\"dt\": \"2021-10-29\", \"activity_level\": 9, \"userid\": 1599}, {\"dt\": \"2021-10-29\", \"activity_level\": 10, \"userid\": 1612}, {\"dt\": \"2021-10-29\", \"activity_level\": 11, \"userid\": 1610}, {\"dt\": \"2021-10-29\", \"activity_level\": 12, \"userid\": 1655}, {\"dt\": \"2021-10-29\", \"activity_level\": 13, \"userid\": 1542}, {\"dt\": \"2021-10-29\", \"activity_level\": 14, \"userid\": 1481}, {\"dt\": \"2021-10-29\", \"activity_level\": 15, \"userid\": 1623}, {\"dt\": \"2021-10-29\", \"activity_level\": 16, \"userid\": 1563}, {\"dt\": \"2021-10-29\", \"activity_level\": 17, \"userid\": 1525}, {\"dt\": \"2021-10-29\", \"activity_level\": 18, \"userid\": 1572}, {\"dt\": \"2021-10-29\", \"activity_level\": 19, \"userid\": 1628}, {\"dt\": \"2021-10-29\", \"activity_level\": 20, \"userid\": 784}, {\"dt\": \"2021-10-30\", \"activity_level\": 1, \"userid\": 1588}, {\"dt\": \"2021-10-30\", \"activity_level\": 2, \"userid\": 1562}, {\"dt\": \"2021-10-30\", \"activity_level\": 3, \"userid\": 1560}, {\"dt\": \"2021-10-30\", \"activity_level\": 4, \"userid\": 1585}, {\"dt\": \"2021-10-30\", \"activity_level\": 5, \"userid\": 1592}, {\"dt\": \"2021-10-30\", \"activity_level\": 6, \"userid\": 1558}, {\"dt\": \"2021-10-30\", \"activity_level\": 7, \"userid\": 1581}, {\"dt\": \"2021-10-30\", \"activity_level\": 8, \"userid\": 1550}, {\"dt\": \"2021-10-30\", \"activity_level\": 9, \"userid\": 1568}, {\"dt\": \"2021-10-30\", \"activity_level\": 10, \"userid\": 1616}, {\"dt\": \"2021-10-30\", \"activity_level\": 11, \"userid\": 1570}, {\"dt\": \"2021-10-30\", \"activity_level\": 12, \"userid\": 1570}, {\"dt\": \"2021-10-30\", \"activity_level\": 13, \"userid\": 1595}, {\"dt\": \"2021-10-30\", \"activity_level\": 14, \"userid\": 1531}, {\"dt\": \"2021-10-30\", \"activity_level\": 15, \"userid\": 1600}, {\"dt\": \"2021-10-30\", \"activity_level\": 16, \"userid\": 1565}, {\"dt\": \"2021-10-30\", \"activity_level\": 17, \"userid\": 1501}, {\"dt\": \"2021-10-30\", \"activity_level\": 18, \"userid\": 1555}, {\"dt\": \"2021-10-30\", \"activity_level\": 19, \"userid\": 1601}, {\"dt\": \"2021-10-30\", \"activity_level\": 20, \"userid\": 780}, {\"dt\": \"2021-10-31\", \"activity_level\": 1, \"userid\": 1566}, {\"dt\": \"2021-10-31\", \"activity_level\": 2, \"userid\": 1585}, {\"dt\": \"2021-10-31\", \"activity_level\": 3, \"userid\": 1521}, {\"dt\": \"2021-10-31\", \"activity_level\": 4, \"userid\": 1538}, {\"dt\": \"2021-10-31\", \"activity_level\": 5, \"userid\": 1612}, {\"dt\": \"2021-10-31\", \"activity_level\": 6, \"userid\": 1595}, {\"dt\": \"2021-10-31\", \"activity_level\": 7, \"userid\": 1481}, {\"dt\": \"2021-10-31\", \"activity_level\": 8, \"userid\": 1508}, {\"dt\": \"2021-10-31\", \"activity_level\": 9, \"userid\": 1600}, {\"dt\": \"2021-10-31\", \"activity_level\": 10, \"userid\": 1646}, {\"dt\": \"2021-10-31\", \"activity_level\": 11, \"userid\": 1456}, {\"dt\": \"2021-10-31\", \"activity_level\": 12, \"userid\": 1653}, {\"dt\": \"2021-10-31\", \"activity_level\": 13, \"userid\": 1602}, {\"dt\": \"2021-10-31\", \"activity_level\": 14, \"userid\": 1630}, {\"dt\": \"2021-10-31\", \"activity_level\": 15, \"userid\": 1563}, {\"dt\": \"2021-10-31\", \"activity_level\": 16, \"userid\": 1499}, {\"dt\": \"2021-10-31\", \"activity_level\": 17, \"userid\": 1534}, {\"dt\": \"2021-10-31\", \"activity_level\": 18, \"userid\": 1531}, {\"dt\": \"2021-10-31\", \"activity_level\": 19, \"userid\": 1616}, {\"dt\": \"2021-10-31\", \"activity_level\": 20, \"userid\": 783}]}}, {\"mode\": \"vega-lite\"});\n",
       "</script>"
      ],
      "text/plain": [
       "alt.Chart(...)"
      ]
     },
     "execution_count": 6,
     "metadata": {},
     "output_type": "execute_result"
    }
   ],
   "source": [
    "alt.Chart(activity).mark_line(size=1).encode(\n",
    "    alt.X('dt:T', axis=alt.Axis(title='Date')),\n",
    "    alt.Y('userid:Q', axis=alt.Axis(title='Number of users')),\n",
    "    tooltip=['activity_level'],\n",
    "    color='activity_level:N'\n",
    ").properties(\n",
    "    width=600,\n",
    "    height=400\n",
    ")"
   ]
  },
  {
   "cell_type": "markdown",
   "id": "0b8d933c-86e3-45fd-aa4b-5082bbc16d24",
   "metadata": {},
   "source": [
    "We can see here that the number of users logging in the app 20 times per day are half of the number of the other trends. We can see that all trends are stable across the period studiedwith minor fluctuations only. This suggests that user engagement across these activity levels does not vary significantly day-to-day."
   ]
  },
  {
   "cell_type": "code",
   "execution_count": null,
   "id": "32f66da6-465d-4878-b622-854216f22bfb",
   "metadata": {},
   "outputs": [],
   "source": []
  }
 ],
 "metadata": {
  "kernelspec": {
   "display_name": "Python 3 (ipykernel)",
   "language": "python",
   "name": "python3"
  },
  "language_info": {
   "codemirror_mode": {
    "name": "ipython",
    "version": 3
   },
   "file_extension": ".py",
   "mimetype": "text/x-python",
   "name": "python",
   "nbconvert_exporter": "python",
   "pygments_lexer": "ipython3",
   "version": "3.12.2"
  }
 },
 "nbformat": 4,
 "nbformat_minor": 5
}
