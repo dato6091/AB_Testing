{
 "cells": [
  {
   "cell_type": "code",
   "execution_count": 1,
   "id": "566f9c06-80a2-4958-be69-d0ecff0b41c4",
   "metadata": {},
   "outputs": [],
   "source": [
    "from scipy import stats"
   ]
  },
  {
   "cell_type": "markdown",
   "id": "cb9c52de-6299-486e-b4de-194d7ec47fc3",
   "metadata": {},
   "source": [
    "## Example of Significance Power Calculator"
   ]
  },
  {
   "cell_type": "code",
   "execution_count": 5,
   "id": "35259b6b-3f72-44d7-b3d0-0d5f289f9af8",
   "metadata": {},
   "outputs": [],
   "source": [
    "def binomial_sample_sice(metric, mde, alpha, beta):\n",
    "    # Standard normal distribution to determine z-values\n",
    "    snd = stats.norm(0, 1)\n",
    "\n",
    "    Z_beta = snd.ppf(1-beta)\n",
    "    print(f\"Z beta = {Z_beta}\")\n",
    "\n",
    "    Z_alpha = snd.ppf(1-alpha/2)\n",
    "    print(f\"Z alpha = {Z_alpha}\")\n",
    "\n",
    "    # average of probabilities from both groups\n",
    "    p = (metric + (metric + mde)) / 2\n",
    "    print(f\"Pooled proportion = {p}\")\n",
    "\n",
    "    N = (2 * p * (1-p) * (Z_beta + Z_alpha)**2) / mde**2\n",
    "\n",
    "    return N"
   ]
  },
  {
   "cell_type": "code",
   "execution_count": 6,
   "id": "a0750e6c-198b-4bb7-9f7d-3dc109a158d7",
   "metadata": {},
   "outputs": [
    {
     "name": "stdout",
     "output_type": "stream",
     "text": [
      "Z beta = 0.8416212335729143\n",
      "Z alpha = 1.959963984540054\n",
      "Pooled proportion = 0.34\n"
     ]
    },
    {
     "data": {
      "text/plain": [
       "8806.443061939677"
      ]
     },
     "execution_count": 6,
     "metadata": {},
     "output_type": "execute_result"
    }
   ],
   "source": [
    "binomial_sample_sice(metric=0.33, mde=0.02, alpha=0.05, beta=0.2)"
   ]
  },
  {
   "cell_type": "code",
   "execution_count": 7,
   "id": "1a117311-aa21-4ccd-9b00-24c4fb4d7f4a",
   "metadata": {},
   "outputs": [],
   "source": [
    "def continuous_sample_size(metric, mde, sd, alpha, beta):\n",
    "    # Standard normal distribution to determine z-values\n",
    "    snd = stats.norm(0, 1)\n",
    "\n",
    "    Z_beta = snd.ppf(1-beta)\n",
    "    print(f\"Z beta = {Z_beta}\")\n",
    "\n",
    "    Z_alpha = snd.ppf(1-alpha/2)\n",
    "    print(f\"Z alpha = {Z_alpha}\")\n",
    "\n",
    "    N = (2 * sd**2 * (Z_beta + Z_alpha)**2) / mde**2\n",
    "    return N"
   ]
  },
  {
   "cell_type": "code",
   "execution_count": 8,
   "id": "15c77cb8-593d-42d8-9716-aefbc02a9fb9",
   "metadata": {},
   "outputs": [
    {
     "name": "stdout",
     "output_type": "stream",
     "text": [
      "Z beta = 0.8416212335729143\n",
      "Z alpha = 1.959963984540054\n"
     ]
    },
    {
     "data": {
      "text/plain": [
       "12.99931461602896"
      ]
     },
     "execution_count": 8,
     "metadata": {},
     "output_type": "execute_result"
    }
   ],
   "source": [
    "continuous_sample_size(metric=30673, mde=100, sd=91, alpha=0.05, beta=0.2)"
   ]
  }
 ],
 "metadata": {
  "kernelspec": {
   "display_name": "Python 3 (ipykernel)",
   "language": "python",
   "name": "python3"
  },
  "language_info": {
   "codemirror_mode": {
    "name": "ipython",
    "version": 3
   },
   "file_extension": ".py",
   "mimetype": "text/x-python",
   "name": "python",
   "nbconvert_exporter": "python",
   "pygments_lexer": "ipython3",
   "version": "3.12.2"
  }
 },
 "nbformat": 4,
 "nbformat_minor": 5
}
