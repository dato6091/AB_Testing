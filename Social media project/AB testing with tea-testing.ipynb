{
 "cells": [
  {
   "cell_type": "markdown",
   "id": "bdcc011f-6000-49a3-8594-45c44ce1b090",
   "metadata": {},
   "source": [
    "# Tea-testing example\n",
    "\n",
    "https://github.com/e10v/tea-tasting"
   ]
  },
  {
   "cell_type": "markdown",
   "id": "dcbad61f-95df-46be-ae06-049713973f88",
   "metadata": {},
   "source": [
    "## Import library"
   ]
  },
  {
   "cell_type": "code",
   "execution_count": 1,
   "id": "1ebe1a9a-3d73-4104-ab25-a4ef138542d7",
   "metadata": {},
   "outputs": [],
   "source": [
    "import tea_tasting as tt"
   ]
  },
  {
   "cell_type": "markdown",
   "id": "227ac04c-db8e-4830-9153-15ecb1aca18b",
   "metadata": {},
   "source": [
    "## Generate synthetic data"
   ]
  },
  {
   "cell_type": "markdown",
   "id": "7729f78a-b825-4b83-9589-6738864d5dc0",
   "metadata": {},
   "source": [
    "For this example, I'll generate synthetic data with the help of the `make_users_data` method."
   ]
  },
  {
   "cell_type": "code",
   "execution_count": 2,
   "id": "c45bcf4a-2b80-45a5-ab26-fae6bddb112d",
   "metadata": {},
   "outputs": [],
   "source": [
    "data = tt.make_users_data(seed=42)"
   ]
  },
  {
   "cell_type": "code",
   "execution_count": 3,
   "id": "f4b0b4a9-8dce-402b-8881-e979da0ac83b",
   "metadata": {},
   "outputs": [
    {
     "data": {
      "text/html": [
       "<div>\n",
       "<style scoped>\n",
       "    .dataframe tbody tr th:only-of-type {\n",
       "        vertical-align: middle;\n",
       "    }\n",
       "\n",
       "    .dataframe tbody tr th {\n",
       "        vertical-align: top;\n",
       "    }\n",
       "\n",
       "    .dataframe thead th {\n",
       "        text-align: right;\n",
       "    }\n",
       "</style>\n",
       "<table border=\"1\" class=\"dataframe\">\n",
       "  <thead>\n",
       "    <tr style=\"text-align: right;\">\n",
       "      <th></th>\n",
       "      <th>user</th>\n",
       "      <th>variant</th>\n",
       "      <th>sessions</th>\n",
       "      <th>orders</th>\n",
       "      <th>revenue</th>\n",
       "    </tr>\n",
       "  </thead>\n",
       "  <tbody>\n",
       "    <tr>\n",
       "      <th>0</th>\n",
       "      <td>0</td>\n",
       "      <td>1</td>\n",
       "      <td>2</td>\n",
       "      <td>1</td>\n",
       "      <td>9.166147</td>\n",
       "    </tr>\n",
       "    <tr>\n",
       "      <th>1</th>\n",
       "      <td>1</td>\n",
       "      <td>0</td>\n",
       "      <td>2</td>\n",
       "      <td>1</td>\n",
       "      <td>6.434079</td>\n",
       "    </tr>\n",
       "    <tr>\n",
       "      <th>2</th>\n",
       "      <td>2</td>\n",
       "      <td>1</td>\n",
       "      <td>2</td>\n",
       "      <td>1</td>\n",
       "      <td>7.943873</td>\n",
       "    </tr>\n",
       "    <tr>\n",
       "      <th>3</th>\n",
       "      <td>3</td>\n",
       "      <td>1</td>\n",
       "      <td>2</td>\n",
       "      <td>1</td>\n",
       "      <td>15.928675</td>\n",
       "    </tr>\n",
       "    <tr>\n",
       "      <th>4</th>\n",
       "      <td>4</td>\n",
       "      <td>0</td>\n",
       "      <td>1</td>\n",
       "      <td>1</td>\n",
       "      <td>7.136917</td>\n",
       "    </tr>\n",
       "    <tr>\n",
       "      <th>...</th>\n",
       "      <td>...</td>\n",
       "      <td>...</td>\n",
       "      <td>...</td>\n",
       "      <td>...</td>\n",
       "      <td>...</td>\n",
       "    </tr>\n",
       "    <tr>\n",
       "      <th>3995</th>\n",
       "      <td>3995</td>\n",
       "      <td>0</td>\n",
       "      <td>2</td>\n",
       "      <td>0</td>\n",
       "      <td>0.000000</td>\n",
       "    </tr>\n",
       "    <tr>\n",
       "      <th>3996</th>\n",
       "      <td>3996</td>\n",
       "      <td>0</td>\n",
       "      <td>2</td>\n",
       "      <td>0</td>\n",
       "      <td>0.000000</td>\n",
       "    </tr>\n",
       "    <tr>\n",
       "      <th>3997</th>\n",
       "      <td>3997</td>\n",
       "      <td>0</td>\n",
       "      <td>3</td>\n",
       "      <td>0</td>\n",
       "      <td>0.000000</td>\n",
       "    </tr>\n",
       "    <tr>\n",
       "      <th>3998</th>\n",
       "      <td>3998</td>\n",
       "      <td>0</td>\n",
       "      <td>1</td>\n",
       "      <td>0</td>\n",
       "      <td>0.000000</td>\n",
       "    </tr>\n",
       "    <tr>\n",
       "      <th>3999</th>\n",
       "      <td>3999</td>\n",
       "      <td>0</td>\n",
       "      <td>5</td>\n",
       "      <td>2</td>\n",
       "      <td>17.162459</td>\n",
       "    </tr>\n",
       "  </tbody>\n",
       "</table>\n",
       "<p>4000 rows × 5 columns</p>\n",
       "</div>"
      ],
      "text/plain": [
       "      user  variant  sessions  orders    revenue\n",
       "0        0        1         2       1   9.166147\n",
       "1        1        0         2       1   6.434079\n",
       "2        2        1         2       1   7.943873\n",
       "3        3        1         2       1  15.928675\n",
       "4        4        0         1       1   7.136917\n",
       "...    ...      ...       ...     ...        ...\n",
       "3995  3995        0         2       0   0.000000\n",
       "3996  3996        0         2       0   0.000000\n",
       "3997  3997        0         3       0   0.000000\n",
       "3998  3998        0         1       0   0.000000\n",
       "3999  3999        0         5       2  17.162459\n",
       "\n",
       "[4000 rows x 5 columns]"
      ]
     },
     "execution_count": 3,
     "metadata": {},
     "output_type": "execute_result"
    }
   ],
   "source": [
    "data"
   ]
  },
  {
   "cell_type": "code",
   "execution_count": 4,
   "id": "836436c2-d51d-46e8-a565-0575de97fcfd",
   "metadata": {},
   "outputs": [],
   "source": [
    "experiment = tt.Experiment(\n",
    "    {\n",
    "        \"sessions_per_user\": tt.Mean(\"sessions\"),\n",
    "        \"orders_per_sessions\": tt.RatioOfMeans(\"orders\", \"sessions\"),\n",
    "        \"orders_per_user\": tt.Mean(\"orders\"),\n",
    "        \"revenue_per_user\": tt.Mean(\"revenue\")\n",
    "    },\n",
    "    variant=\"variant\"\n",
    ")"
   ]
  },
  {
   "cell_type": "code",
   "execution_count": 5,
   "id": "1bdfaa74-67ed-4b3e-9024-1e72f15a3a5f",
   "metadata": {},
   "outputs": [
    {
     "data": {
      "text/plain": [
       "Experiment(metrics={'sessions_per_user': Mean(value='sessions', covariate=None, alternative='two-sided', confidence_level=0.95, equal_var=False, use_t=True, alpha=0.05, ratio=1, power=0.8, effect_size=None, rel_effect_size=None, n_obs=None), 'orders_per_sessions': RatioOfMeans(numer='orders', denom='sessions', numer_covariate=None, denom_covariate=None, alternative='two-sided', confidence_level=0.95, equal_var=False, use_t=True, alpha=0.05, ratio=1, power=0.8, effect_size=None, rel_effect_size=None, n_obs=None), 'orders_per_user': Mean(value='orders', covariate=None, alternative='two-sided', confidence_level=0.95, equal_var=False, use_t=True, alpha=0.05, ratio=1, power=0.8, effect_size=None, rel_effect_size=None, n_obs=None), 'revenue_per_user': Mean(value='revenue', covariate=None, alternative='two-sided', confidence_level=0.95, equal_var=False, use_t=True, alpha=0.05, ratio=1, power=0.8, effect_size=None, rel_effect_size=None, n_obs=None)}, variant='variant')"
      ]
     },
     "execution_count": 5,
     "metadata": {},
     "output_type": "execute_result"
    }
   ],
   "source": [
    "experiment"
   ]
  },
  {
   "cell_type": "code",
   "execution_count": 6,
   "id": "806faec7-4c90-42e0-96bc-40787cc802a0",
   "metadata": {},
   "outputs": [
    {
     "name": "stdout",
     "output_type": "stream",
     "text": [
      "             metric control treatment rel_effect_size rel_effect_size_ci pvalue\n",
      "  sessions_per_user    2.00      1.98          -0.66%      [-3.7%, 2.5%]  0.674\n",
      "orders_per_sessions   0.266     0.289            8.8%      [-0.89%, 19%] 0.0762\n",
      "    orders_per_user   0.530     0.573            8.0%       [-2.0%, 19%]  0.118\n",
      "   revenue_per_user    5.24      5.73            9.3%       [-2.4%, 22%]  0.123\n"
     ]
    }
   ],
   "source": [
    "result = experiment.analyze(data)\n",
    "print(result)"
   ]
  },
  {
   "cell_type": "code",
   "execution_count": null,
   "id": "cf7db6d8-55d8-4184-ad6a-bfcd3d4f6645",
   "metadata": {},
   "outputs": [],
   "source": []
  }
 ],
 "metadata": {
  "kernelspec": {
   "display_name": "Python 3 (ipykernel)",
   "language": "python",
   "name": "python3"
  },
  "language_info": {
   "codemirror_mode": {
    "name": "ipython",
    "version": 3
   },
   "file_extension": ".py",
   "mimetype": "text/x-python",
   "name": "python",
   "nbconvert_exporter": "python",
   "pygments_lexer": "ipython3",
   "version": "3.10.5"
  }
 },
 "nbformat": 4,
 "nbformat_minor": 5
}
