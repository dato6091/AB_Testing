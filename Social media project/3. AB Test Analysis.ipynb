{
 "cells": [
  {
   "cell_type": "code",
   "execution_count": 1,
   "id": "5487bc97-7794-4256-9a7c-52f965f54a70",
   "metadata": {},
   "outputs": [],
   "source": [
    "import pandas as pd\n",
    "import numpy as np\n",
    "import altair as alt\n",
    "alt.data_transformers.disable_max_rows()\n",
    "from datetime import datetime\n",
    "from scipy.stats import ttest_ind"
   ]
  },
  {
   "cell_type": "markdown",
   "id": "83f9411e-da23-4c14-b8a5-2d904e898fa2",
   "metadata": {},
   "source": [
    "## Assignments "
   ]
  },
  {
   "cell_type": "code",
   "execution_count": 2,
   "id": "5f6a85ca-13a7-4ef8-a6fb-0e6bfdf05c6a",
   "metadata": {},
   "outputs": [
    {
     "data": {
      "text/html": [
       "<div>\n",
       "<style scoped>\n",
       "    .dataframe tbody tr th:only-of-type {\n",
       "        vertical-align: middle;\n",
       "    }\n",
       "\n",
       "    .dataframe tbody tr th {\n",
       "        vertical-align: top;\n",
       "    }\n",
       "\n",
       "    .dataframe thead th {\n",
       "        text-align: right;\n",
       "    }\n",
       "</style>\n",
       "<table border=\"1\" class=\"dataframe\">\n",
       "  <thead>\n",
       "    <tr style=\"text-align: right;\">\n",
       "      <th></th>\n",
       "      <th>userid</th>\n",
       "      <th>ts</th>\n",
       "      <th>groupid</th>\n",
       "    </tr>\n",
       "  </thead>\n",
       "  <tbody>\n",
       "    <tr>\n",
       "      <th>0</th>\n",
       "      <td>c5d77c89-33a3-4fe3-9e31-179dec09d49c</td>\n",
       "      <td>2021-11-02T07:31:42Z</td>\n",
       "      <td>0</td>\n",
       "    </tr>\n",
       "    <tr>\n",
       "      <th>1</th>\n",
       "      <td>9061d751-7a94-44d3-8792-5ca5ec59aa89</td>\n",
       "      <td>2021-11-13T07:43:51Z</td>\n",
       "      <td>0</td>\n",
       "    </tr>\n",
       "    <tr>\n",
       "      <th>2</th>\n",
       "      <td>a5b70ae7-f07c-4773-9df4-ce112bc9dc48</td>\n",
       "      <td>2021-11-20T19:26:07Z</td>\n",
       "      <td>0</td>\n",
       "    </tr>\n",
       "    <tr>\n",
       "      <th>3</th>\n",
       "      <td>d2646662-269f-49de-aab1-8776afced9a3</td>\n",
       "      <td>2021-11-20T11:09:02Z</td>\n",
       "      <td>0</td>\n",
       "    </tr>\n",
       "    <tr>\n",
       "      <th>4</th>\n",
       "      <td>2d9b23b7-4e5e-4162-9f0f-49e593fdd2b5</td>\n",
       "      <td>2021-11-04T07:42:07Z</td>\n",
       "      <td>0</td>\n",
       "    </tr>\n",
       "  </tbody>\n",
       "</table>\n",
       "</div>"
      ],
      "text/plain": [
       "                                 userid                    ts  groupid\n",
       "0  c5d77c89-33a3-4fe3-9e31-179dec09d49c  2021-11-02T07:31:42Z        0\n",
       "1  9061d751-7a94-44d3-8792-5ca5ec59aa89  2021-11-13T07:43:51Z        0\n",
       "2  a5b70ae7-f07c-4773-9df4-ce112bc9dc48  2021-11-20T19:26:07Z        0\n",
       "3  d2646662-269f-49de-aab1-8776afced9a3  2021-11-20T11:09:02Z        0\n",
       "4  2d9b23b7-4e5e-4162-9f0f-49e593fdd2b5  2021-11-04T07:42:07Z        0"
      ]
     },
     "execution_count": 2,
     "metadata": {},
     "output_type": "execute_result"
    }
   ],
   "source": [
    "assignments_df = pd.read_csv(\"Assignments.csv\")\n",
    "assignments_df.head()"
   ]
  },
  {
   "cell_type": "markdown",
   "id": "0bd2d2fb-f262-49a8-880d-9e7113dfb342",
   "metadata": {},
   "source": [
    "We need to treat a bit the timestamp `ts` column:"
   ]
  },
  {
   "cell_type": "code",
   "execution_count": 4,
   "id": "d8a0b6f0-0aae-4a47-8657-d3d0aedc41a8",
   "metadata": {},
   "outputs": [
    {
     "name": "stdout",
     "output_type": "stream",
     "text": [
      "2021-11-02\n"
     ]
    }
   ],
   "source": [
    "print(datetime.strptime(assignments_df.head(1)['ts'][0], '%Y-%m-%dT%H:%M:%SZ').strftime(\"%Y-%m-%d\"))"
   ]
  },
  {
   "cell_type": "code",
   "execution_count": 9,
   "id": "90d5fb3e-3b63-4440-9006-7f097d9855bc",
   "metadata": {},
   "outputs": [
    {
     "data": {
      "text/html": [
       "<div>\n",
       "<style scoped>\n",
       "    .dataframe tbody tr th:only-of-type {\n",
       "        vertical-align: middle;\n",
       "    }\n",
       "\n",
       "    .dataframe tbody tr th {\n",
       "        vertical-align: top;\n",
       "    }\n",
       "\n",
       "    .dataframe thead th {\n",
       "        text-align: right;\n",
       "    }\n",
       "</style>\n",
       "<table border=\"1\" class=\"dataframe\">\n",
       "  <thead>\n",
       "    <tr style=\"text-align: right;\">\n",
       "      <th></th>\n",
       "      <th>userid</th>\n",
       "      <th>ts</th>\n",
       "      <th>groupid</th>\n",
       "      <th>dt</th>\n",
       "    </tr>\n",
       "  </thead>\n",
       "  <tbody>\n",
       "    <tr>\n",
       "      <th>0</th>\n",
       "      <td>c5d77c89-33a3-4fe3-9e31-179dec09d49c</td>\n",
       "      <td>2021-11-02T07:31:42Z</td>\n",
       "      <td>0</td>\n",
       "      <td>2021-11-02</td>\n",
       "    </tr>\n",
       "    <tr>\n",
       "      <th>1</th>\n",
       "      <td>9061d751-7a94-44d3-8792-5ca5ec59aa89</td>\n",
       "      <td>2021-11-13T07:43:51Z</td>\n",
       "      <td>0</td>\n",
       "      <td>2021-11-13</td>\n",
       "    </tr>\n",
       "    <tr>\n",
       "      <th>2</th>\n",
       "      <td>a5b70ae7-f07c-4773-9df4-ce112bc9dc48</td>\n",
       "      <td>2021-11-20T19:26:07Z</td>\n",
       "      <td>0</td>\n",
       "      <td>2021-11-20</td>\n",
       "    </tr>\n",
       "    <tr>\n",
       "      <th>3</th>\n",
       "      <td>d2646662-269f-49de-aab1-8776afced9a3</td>\n",
       "      <td>2021-11-20T11:09:02Z</td>\n",
       "      <td>0</td>\n",
       "      <td>2021-11-20</td>\n",
       "    </tr>\n",
       "    <tr>\n",
       "      <th>4</th>\n",
       "      <td>2d9b23b7-4e5e-4162-9f0f-49e593fdd2b5</td>\n",
       "      <td>2021-11-04T07:42:07Z</td>\n",
       "      <td>0</td>\n",
       "      <td>2021-11-04</td>\n",
       "    </tr>\n",
       "  </tbody>\n",
       "</table>\n",
       "</div>"
      ],
      "text/plain": [
       "                                 userid                    ts  groupid  \\\n",
       "0  c5d77c89-33a3-4fe3-9e31-179dec09d49c  2021-11-02T07:31:42Z        0   \n",
       "1  9061d751-7a94-44d3-8792-5ca5ec59aa89  2021-11-13T07:43:51Z        0   \n",
       "2  a5b70ae7-f07c-4773-9df4-ce112bc9dc48  2021-11-20T19:26:07Z        0   \n",
       "3  d2646662-269f-49de-aab1-8776afced9a3  2021-11-20T11:09:02Z        0   \n",
       "4  2d9b23b7-4e5e-4162-9f0f-49e593fdd2b5  2021-11-04T07:42:07Z        0   \n",
       "\n",
       "           dt  \n",
       "0  2021-11-02  \n",
       "1  2021-11-13  \n",
       "2  2021-11-20  \n",
       "3  2021-11-20  \n",
       "4  2021-11-04  "
      ]
     },
     "execution_count": 9,
     "metadata": {},
     "output_type": "execute_result"
    }
   ],
   "source": [
    "assignments_df['dt'] = assignments_df['ts'].map(lambda x: datetime.strptime(x, '%Y-%m-%dT%H:%M:%SZ').strftime(\"%Y-%m-%d\"))\n",
    "assignments_df.head()"
   ]
  },
  {
   "cell_type": "code",
   "execution_count": 11,
   "id": "d934e28a-9eb9-4765-9422-80733b36a07e",
   "metadata": {},
   "outputs": [
    {
     "data": {
      "text/html": [
       "<div>\n",
       "<style scoped>\n",
       "    .dataframe tbody tr th:only-of-type {\n",
       "        vertical-align: middle;\n",
       "    }\n",
       "\n",
       "    .dataframe tbody tr th {\n",
       "        vertical-align: top;\n",
       "    }\n",
       "\n",
       "    .dataframe thead th {\n",
       "        text-align: right;\n",
       "    }\n",
       "</style>\n",
       "<table border=\"1\" class=\"dataframe\">\n",
       "  <thead>\n",
       "    <tr style=\"text-align: right;\">\n",
       "      <th></th>\n",
       "      <th>groupid</th>\n",
       "    </tr>\n",
       "  </thead>\n",
       "  <tbody>\n",
       "    <tr>\n",
       "      <th>count</th>\n",
       "      <td>60000.000000</td>\n",
       "    </tr>\n",
       "    <tr>\n",
       "      <th>mean</th>\n",
       "      <td>0.500817</td>\n",
       "    </tr>\n",
       "    <tr>\n",
       "      <th>std</th>\n",
       "      <td>0.500003</td>\n",
       "    </tr>\n",
       "    <tr>\n",
       "      <th>min</th>\n",
       "      <td>0.000000</td>\n",
       "    </tr>\n",
       "    <tr>\n",
       "      <th>25%</th>\n",
       "      <td>0.000000</td>\n",
       "    </tr>\n",
       "    <tr>\n",
       "      <th>50%</th>\n",
       "      <td>1.000000</td>\n",
       "    </tr>\n",
       "    <tr>\n",
       "      <th>75%</th>\n",
       "      <td>1.000000</td>\n",
       "    </tr>\n",
       "    <tr>\n",
       "      <th>max</th>\n",
       "      <td>1.000000</td>\n",
       "    </tr>\n",
       "  </tbody>\n",
       "</table>\n",
       "</div>"
      ],
      "text/plain": [
       "            groupid\n",
       "count  60000.000000\n",
       "mean       0.500817\n",
       "std        0.500003\n",
       "min        0.000000\n",
       "25%        0.000000\n",
       "50%        1.000000\n",
       "75%        1.000000\n",
       "max        1.000000"
      ]
     },
     "execution_count": 11,
     "metadata": {},
     "output_type": "execute_result"
    }
   ],
   "source": [
    "assignments_df.describe()"
   ]
  },
  {
   "cell_type": "code",
   "execution_count": 12,
   "id": "dc43d1fe-514e-4a23-ba10-908e3bb7fc7a",
   "metadata": {},
   "outputs": [
    {
     "data": {
      "text/html": [
       "<div>\n",
       "<style scoped>\n",
       "    .dataframe tbody tr th:only-of-type {\n",
       "        vertical-align: middle;\n",
       "    }\n",
       "\n",
       "    .dataframe tbody tr th {\n",
       "        vertical-align: top;\n",
       "    }\n",
       "\n",
       "    .dataframe thead th {\n",
       "        text-align: right;\n",
       "    }\n",
       "</style>\n",
       "<table border=\"1\" class=\"dataframe\">\n",
       "  <thead>\n",
       "    <tr style=\"text-align: right;\">\n",
       "      <th></th>\n",
       "      <th>userid</th>\n",
       "      <th>ts</th>\n",
       "      <th>dt</th>\n",
       "    </tr>\n",
       "    <tr>\n",
       "      <th>groupid</th>\n",
       "      <th></th>\n",
       "      <th></th>\n",
       "      <th></th>\n",
       "    </tr>\n",
       "  </thead>\n",
       "  <tbody>\n",
       "    <tr>\n",
       "      <th>0</th>\n",
       "      <td>29951</td>\n",
       "      <td>29951</td>\n",
       "      <td>29951</td>\n",
       "    </tr>\n",
       "    <tr>\n",
       "      <th>1</th>\n",
       "      <td>30049</td>\n",
       "      <td>30049</td>\n",
       "      <td>30049</td>\n",
       "    </tr>\n",
       "  </tbody>\n",
       "</table>\n",
       "</div>"
      ],
      "text/plain": [
       "         userid     ts     dt\n",
       "groupid                      \n",
       "0         29951  29951  29951\n",
       "1         30049  30049  30049"
      ]
     },
     "execution_count": 12,
     "metadata": {},
     "output_type": "execute_result"
    }
   ],
   "source": [
    "assignments_df.groupby(['groupid']).count()"
   ]
  },
  {
   "cell_type": "markdown",
   "id": "48d5ad2b-bb28-458f-8401-9fbc43d3ed89",
   "metadata": {},
   "source": [
    "From the last two outputs we can see that we have a total of 60000 users and they are evenly distributed across the groups.\n",
    "\n",
    "Let's look at the data on a daily basis:"
   ]
  },
  {
   "cell_type": "code",
   "execution_count": 13,
   "id": "a8bbc87d-5f2b-47b2-89c0-15ffde8ca343",
   "metadata": {},
   "outputs": [],
   "source": [
    "assignment_count = assignments_df.groupby(['groupid', 'dt']).count().reset_index()"
   ]
  },
  {
   "cell_type": "code",
   "execution_count": 14,
   "id": "43c1ba2b-854a-43e8-9774-07b9697fed57",
   "metadata": {},
   "outputs": [
    {
     "data": {
      "text/html": [
       "<div>\n",
       "<style scoped>\n",
       "    .dataframe tbody tr th:only-of-type {\n",
       "        vertical-align: middle;\n",
       "    }\n",
       "\n",
       "    .dataframe tbody tr th {\n",
       "        vertical-align: top;\n",
       "    }\n",
       "\n",
       "    .dataframe thead th {\n",
       "        text-align: right;\n",
       "    }\n",
       "</style>\n",
       "<table border=\"1\" class=\"dataframe\">\n",
       "  <thead>\n",
       "    <tr style=\"text-align: right;\">\n",
       "      <th></th>\n",
       "      <th>groupid</th>\n",
       "      <th>dt</th>\n",
       "      <th>userid</th>\n",
       "      <th>ts</th>\n",
       "    </tr>\n",
       "  </thead>\n",
       "  <tbody>\n",
       "    <tr>\n",
       "      <th>0</th>\n",
       "      <td>0</td>\n",
       "      <td>2021-11-01</td>\n",
       "      <td>1497</td>\n",
       "      <td>1497</td>\n",
       "    </tr>\n",
       "    <tr>\n",
       "      <th>1</th>\n",
       "      <td>0</td>\n",
       "      <td>2021-11-02</td>\n",
       "      <td>1467</td>\n",
       "      <td>1467</td>\n",
       "    </tr>\n",
       "    <tr>\n",
       "      <th>2</th>\n",
       "      <td>0</td>\n",
       "      <td>2021-11-03</td>\n",
       "      <td>1532</td>\n",
       "      <td>1532</td>\n",
       "    </tr>\n",
       "    <tr>\n",
       "      <th>3</th>\n",
       "      <td>0</td>\n",
       "      <td>2021-11-04</td>\n",
       "      <td>1509</td>\n",
       "      <td>1509</td>\n",
       "    </tr>\n",
       "    <tr>\n",
       "      <th>4</th>\n",
       "      <td>0</td>\n",
       "      <td>2021-11-05</td>\n",
       "      <td>1503</td>\n",
       "      <td>1503</td>\n",
       "    </tr>\n",
       "  </tbody>\n",
       "</table>\n",
       "</div>"
      ],
      "text/plain": [
       "   groupid          dt  userid    ts\n",
       "0        0  2021-11-01    1497  1497\n",
       "1        0  2021-11-02    1467  1467\n",
       "2        0  2021-11-03    1532  1532\n",
       "3        0  2021-11-04    1509  1509\n",
       "4        0  2021-11-05    1503  1503"
      ]
     },
     "execution_count": 14,
     "metadata": {},
     "output_type": "execute_result"
    }
   ],
   "source": [
    "assignment_count.head()"
   ]
  },
  {
   "cell_type": "code",
   "execution_count": 16,
   "id": "54c17597-56f6-481b-a0fd-5c57de0403a2",
   "metadata": {},
   "outputs": [
    {
     "data": {
      "text/html": [
       "\n",
       "<style>\n",
       "  #altair-viz-c404375fe51a48b09f0c28e4d7f0ee28.vega-embed {\n",
       "    width: 100%;\n",
       "    display: flex;\n",
       "  }\n",
       "\n",
       "  #altair-viz-c404375fe51a48b09f0c28e4d7f0ee28.vega-embed details,\n",
       "  #altair-viz-c404375fe51a48b09f0c28e4d7f0ee28.vega-embed details summary {\n",
       "    position: relative;\n",
       "  }\n",
       "</style>\n",
       "<div id=\"altair-viz-c404375fe51a48b09f0c28e4d7f0ee28\"></div>\n",
       "<script type=\"text/javascript\">\n",
       "  var VEGA_DEBUG = (typeof VEGA_DEBUG == \"undefined\") ? {} : VEGA_DEBUG;\n",
       "  (function(spec, embedOpt){\n",
       "    let outputDiv = document.currentScript.previousElementSibling;\n",
       "    if (outputDiv.id !== \"altair-viz-c404375fe51a48b09f0c28e4d7f0ee28\") {\n",
       "      outputDiv = document.getElementById(\"altair-viz-c404375fe51a48b09f0c28e4d7f0ee28\");\n",
       "    }\n",
       "    const paths = {\n",
       "      \"vega\": \"https://cdn.jsdelivr.net/npm/vega@5?noext\",\n",
       "      \"vega-lib\": \"https://cdn.jsdelivr.net/npm/vega-lib?noext\",\n",
       "      \"vega-lite\": \"https://cdn.jsdelivr.net/npm/vega-lite@5.17.0?noext\",\n",
       "      \"vega-embed\": \"https://cdn.jsdelivr.net/npm/vega-embed@6?noext\",\n",
       "    };\n",
       "\n",
       "    function maybeLoadScript(lib, version) {\n",
       "      var key = `${lib.replace(\"-\", \"\")}_version`;\n",
       "      return (VEGA_DEBUG[key] == version) ?\n",
       "        Promise.resolve(paths[lib]) :\n",
       "        new Promise(function(resolve, reject) {\n",
       "          var s = document.createElement('script');\n",
       "          document.getElementsByTagName(\"head\")[0].appendChild(s);\n",
       "          s.async = true;\n",
       "          s.onload = () => {\n",
       "            VEGA_DEBUG[key] = version;\n",
       "            return resolve(paths[lib]);\n",
       "          };\n",
       "          s.onerror = () => reject(`Error loading script: ${paths[lib]}`);\n",
       "          s.src = paths[lib];\n",
       "        });\n",
       "    }\n",
       "\n",
       "    function showError(err) {\n",
       "      outputDiv.innerHTML = `<div class=\"error\" style=\"color:red;\">${err}</div>`;\n",
       "      throw err;\n",
       "    }\n",
       "\n",
       "    function displayChart(vegaEmbed) {\n",
       "      vegaEmbed(outputDiv, spec, embedOpt)\n",
       "        .catch(err => showError(`Javascript Error: ${err.message}<br>This usually means there's a typo in your chart specification. See the javascript console for the full traceback.`));\n",
       "    }\n",
       "\n",
       "    if(typeof define === \"function\" && define.amd) {\n",
       "      requirejs.config({paths});\n",
       "      require([\"vega-embed\"], displayChart, err => showError(`Error loading script: ${err.message}`));\n",
       "    } else {\n",
       "      maybeLoadScript(\"vega\", \"5\")\n",
       "        .then(() => maybeLoadScript(\"vega-lite\", \"5.17.0\"))\n",
       "        .then(() => maybeLoadScript(\"vega-embed\", \"6\"))\n",
       "        .catch(showError)\n",
       "        .then(() => displayChart(vegaEmbed));\n",
       "    }\n",
       "  })({\"config\": {\"view\": {\"continuousWidth\": 300, \"continuousHeight\": 300}}, \"data\": {\"name\": \"data-fcfea7608a98c16fdbc2a862e3231e04\"}, \"mark\": {\"type\": \"line\", \"size\": 3}, \"encoding\": {\"color\": {\"field\": \"groupid\", \"type\": \"ordinal\"}, \"tooltip\": [{\"field\": \"userid\", \"type\": \"quantitative\"}], \"x\": {\"field\": \"dt\", \"type\": \"nominal\"}, \"y\": {\"field\": \"userid\", \"type\": \"quantitative\"}}, \"height\": 400, \"width\": 600, \"$schema\": \"https://vega.github.io/schema/vega-lite/v5.17.0.json\", \"datasets\": {\"data-fcfea7608a98c16fdbc2a862e3231e04\": [{\"groupid\": 0, \"dt\": \"2021-11-01\", \"userid\": 1497, \"ts\": 1497}, {\"groupid\": 0, \"dt\": \"2021-11-02\", \"userid\": 1467, \"ts\": 1467}, {\"groupid\": 0, \"dt\": \"2021-11-03\", \"userid\": 1532, \"ts\": 1532}, {\"groupid\": 0, \"dt\": \"2021-11-04\", \"userid\": 1509, \"ts\": 1509}, {\"groupid\": 0, \"dt\": \"2021-11-05\", \"userid\": 1503, \"ts\": 1503}, {\"groupid\": 0, \"dt\": \"2021-11-06\", \"userid\": 1510, \"ts\": 1510}, {\"groupid\": 0, \"dt\": \"2021-11-07\", \"userid\": 1505, \"ts\": 1505}, {\"groupid\": 0, \"dt\": \"2021-11-08\", \"userid\": 1517, \"ts\": 1517}, {\"groupid\": 0, \"dt\": \"2021-11-09\", \"userid\": 1541, \"ts\": 1541}, {\"groupid\": 0, \"dt\": \"2021-11-10\", \"userid\": 1505, \"ts\": 1505}, {\"groupid\": 0, \"dt\": \"2021-11-11\", \"userid\": 1495, \"ts\": 1495}, {\"groupid\": 0, \"dt\": \"2021-11-12\", \"userid\": 1464, \"ts\": 1464}, {\"groupid\": 0, \"dt\": \"2021-11-13\", \"userid\": 1455, \"ts\": 1455}, {\"groupid\": 0, \"dt\": \"2021-11-14\", \"userid\": 1495, \"ts\": 1495}, {\"groupid\": 0, \"dt\": \"2021-11-15\", \"userid\": 1513, \"ts\": 1513}, {\"groupid\": 0, \"dt\": \"2021-11-16\", \"userid\": 1436, \"ts\": 1436}, {\"groupid\": 0, \"dt\": \"2021-11-17\", \"userid\": 1490, \"ts\": 1490}, {\"groupid\": 0, \"dt\": \"2021-11-18\", \"userid\": 1517, \"ts\": 1517}, {\"groupid\": 0, \"dt\": \"2021-11-19\", \"userid\": 1496, \"ts\": 1496}, {\"groupid\": 0, \"dt\": \"2021-11-20\", \"userid\": 1504, \"ts\": 1504}, {\"groupid\": 1, \"dt\": \"2021-11-01\", \"userid\": 1504, \"ts\": 1504}, {\"groupid\": 1, \"dt\": \"2021-11-02\", \"userid\": 1464, \"ts\": 1464}, {\"groupid\": 1, \"dt\": \"2021-11-03\", \"userid\": 1510, \"ts\": 1510}, {\"groupid\": 1, \"dt\": \"2021-11-04\", \"userid\": 1507, \"ts\": 1507}, {\"groupid\": 1, \"dt\": \"2021-11-05\", \"userid\": 1519, \"ts\": 1519}, {\"groupid\": 1, \"dt\": \"2021-11-06\", \"userid\": 1538, \"ts\": 1538}, {\"groupid\": 1, \"dt\": \"2021-11-07\", \"userid\": 1516, \"ts\": 1516}, {\"groupid\": 1, \"dt\": \"2021-11-08\", \"userid\": 1443, \"ts\": 1443}, {\"groupid\": 1, \"dt\": \"2021-11-09\", \"userid\": 1454, \"ts\": 1454}, {\"groupid\": 1, \"dt\": \"2021-11-10\", \"userid\": 1506, \"ts\": 1506}, {\"groupid\": 1, \"dt\": \"2021-11-11\", \"userid\": 1477, \"ts\": 1477}, {\"groupid\": 1, \"dt\": \"2021-11-12\", \"userid\": 1532, \"ts\": 1532}, {\"groupid\": 1, \"dt\": \"2021-11-13\", \"userid\": 1522, \"ts\": 1522}, {\"groupid\": 1, \"dt\": \"2021-11-14\", \"userid\": 1482, \"ts\": 1482}, {\"groupid\": 1, \"dt\": \"2021-11-15\", \"userid\": 1524, \"ts\": 1524}, {\"groupid\": 1, \"dt\": \"2021-11-16\", \"userid\": 1509, \"ts\": 1509}, {\"groupid\": 1, \"dt\": \"2021-11-17\", \"userid\": 1462, \"ts\": 1462}, {\"groupid\": 1, \"dt\": \"2021-11-18\", \"userid\": 1529, \"ts\": 1529}, {\"groupid\": 1, \"dt\": \"2021-11-19\", \"userid\": 1494, \"ts\": 1494}, {\"groupid\": 1, \"dt\": \"2021-11-20\", \"userid\": 1557, \"ts\": 1557}]}}, {\"mode\": \"vega-lite\"});\n",
       "</script>"
      ],
      "text/plain": [
       "alt.Chart(...)"
      ]
     },
     "execution_count": 16,
     "metadata": {},
     "output_type": "execute_result"
    }
   ],
   "source": [
    "alt.Chart(assignment_count).mark_line(size=3).encode(\n",
    "    alt.X('dt'),\n",
    "    alt.Y('userid'),\n",
    "    color='groupid:O',\n",
    "    tooltip=['userid']\n",
    ").properties(\n",
    "    width=600,\n",
    "    height=400\n",
    ")"
   ]
  },
  {
   "cell_type": "markdown",
   "id": "c7423ab8-9330-493c-9e41-fc9fe9f5910b",
   "metadata": {},
   "source": [
    "Seems that the users were uniformly assigned throughout the whole period of the test."
   ]
  },
  {
   "cell_type": "markdown",
   "id": "0b2454cd-62c3-42df-85d1-64a27e98b711",
   "metadata": {},
   "source": [
    "## Pre-test metrics"
   ]
  },
  {
   "cell_type": "markdown",
   "id": "b28e2989-fc4f-484a-a973-5f0ab5f2fea6",
   "metadata": {},
   "source": [
    "### User activity"
   ]
  },
  {
   "cell_type": "code",
   "execution_count": 17,
   "id": "406da31b-8c1a-455b-932b-7b579eb18126",
   "metadata": {},
   "outputs": [
    {
     "data": {
      "text/html": [
       "<div>\n",
       "<style scoped>\n",
       "    .dataframe tbody tr th:only-of-type {\n",
       "        vertical-align: middle;\n",
       "    }\n",
       "\n",
       "    .dataframe tbody tr th {\n",
       "        vertical-align: top;\n",
       "    }\n",
       "\n",
       "    .dataframe thead th {\n",
       "        text-align: right;\n",
       "    }\n",
       "</style>\n",
       "<table border=\"1\" class=\"dataframe\">\n",
       "  <thead>\n",
       "    <tr style=\"text-align: right;\">\n",
       "      <th></th>\n",
       "      <th>userid</th>\n",
       "      <th>dt</th>\n",
       "      <th>groupid</th>\n",
       "      <th>activity_level</th>\n",
       "    </tr>\n",
       "  </thead>\n",
       "  <tbody>\n",
       "    <tr>\n",
       "      <th>0</th>\n",
       "      <td>a5b70ae7-f07c-4773-9df4-ce112bc9dc48</td>\n",
       "      <td>2021-10-01</td>\n",
       "      <td>0</td>\n",
       "      <td>0</td>\n",
       "    </tr>\n",
       "    <tr>\n",
       "      <th>1</th>\n",
       "      <td>d2646662-269f-49de-aab1-8776afced9a3</td>\n",
       "      <td>2021-10-01</td>\n",
       "      <td>0</td>\n",
       "      <td>0</td>\n",
       "    </tr>\n",
       "    <tr>\n",
       "      <th>2</th>\n",
       "      <td>c4d1cfa8-283d-49ad-a894-90aedc39c798</td>\n",
       "      <td>2021-10-01</td>\n",
       "      <td>1</td>\n",
       "      <td>0</td>\n",
       "    </tr>\n",
       "    <tr>\n",
       "      <th>3</th>\n",
       "      <td>6889f87f-5356-4904-a35a-6ea5020011db</td>\n",
       "      <td>2021-10-01</td>\n",
       "      <td>0</td>\n",
       "      <td>0</td>\n",
       "    </tr>\n",
       "    <tr>\n",
       "      <th>4</th>\n",
       "      <td>dbee604c-474a-4c9d-b013-508e5a0e3059</td>\n",
       "      <td>2021-10-01</td>\n",
       "      <td>1</td>\n",
       "      <td>0</td>\n",
       "    </tr>\n",
       "  </tbody>\n",
       "</table>\n",
       "</div>"
      ],
      "text/plain": [
       "                                 userid          dt  groupid  activity_level\n",
       "0  a5b70ae7-f07c-4773-9df4-ce112bc9dc48  2021-10-01        0               0\n",
       "1  d2646662-269f-49de-aab1-8776afced9a3  2021-10-01        0               0\n",
       "2  c4d1cfa8-283d-49ad-a894-90aedc39c798  2021-10-01        1               0\n",
       "3  6889f87f-5356-4904-a35a-6ea5020011db  2021-10-01        0               0\n",
       "4  dbee604c-474a-4c9d-b013-508e5a0e3059  2021-10-01        1               0"
      ]
     },
     "execution_count": 17,
     "metadata": {},
     "output_type": "execute_result"
    }
   ],
   "source": [
    "activity_df = pd.read_csv(\"Activity_all.csv\")\n",
    "activity_df.head()"
   ]
  },
  {
   "cell_type": "markdown",
   "id": "da201bee-7909-4e48-9dab-52e8a1837d13",
   "metadata": {},
   "source": [
    "For each user, we have recorded the date of the test, the groupid they were assigned to and their activity levels.\n",
    "\n",
    "Let's now look at the aggregated data by group and date."
   ]
  },
  {
   "cell_type": "code",
   "execution_count": 18,
   "id": "a29b6025-a260-42ae-96aa-f445a817f464",
   "metadata": {},
   "outputs": [
    {
     "data": {
      "text/html": [
       "<div>\n",
       "<style scoped>\n",
       "    .dataframe tbody tr th:only-of-type {\n",
       "        vertical-align: middle;\n",
       "    }\n",
       "\n",
       "    .dataframe tbody tr th {\n",
       "        vertical-align: top;\n",
       "    }\n",
       "\n",
       "    .dataframe thead tr th {\n",
       "        text-align: left;\n",
       "    }\n",
       "\n",
       "    .dataframe thead tr:last-of-type th {\n",
       "        text-align: right;\n",
       "    }\n",
       "</style>\n",
       "<table border=\"1\" class=\"dataframe\">\n",
       "  <thead>\n",
       "    <tr>\n",
       "      <th></th>\n",
       "      <th></th>\n",
       "      <th colspan=\"8\" halign=\"left\">activity_level</th>\n",
       "    </tr>\n",
       "    <tr>\n",
       "      <th></th>\n",
       "      <th></th>\n",
       "      <th>count</th>\n",
       "      <th>mean</th>\n",
       "      <th>std</th>\n",
       "      <th>min</th>\n",
       "      <th>25%</th>\n",
       "      <th>50%</th>\n",
       "      <th>75%</th>\n",
       "      <th>max</th>\n",
       "    </tr>\n",
       "    <tr>\n",
       "      <th>groupid</th>\n",
       "      <th>dt</th>\n",
       "      <th></th>\n",
       "      <th></th>\n",
       "      <th></th>\n",
       "      <th></th>\n",
       "      <th></th>\n",
       "      <th></th>\n",
       "      <th></th>\n",
       "      <th></th>\n",
       "    </tr>\n",
       "  </thead>\n",
       "  <tbody>\n",
       "    <tr>\n",
       "      <th rowspan=\"5\" valign=\"top\">0</th>\n",
       "      <th>2021-10-01</th>\n",
       "      <td>29951.0</td>\n",
       "      <td>5.241762</td>\n",
       "      <td>6.516640</td>\n",
       "      <td>0.0</td>\n",
       "      <td>0.0</td>\n",
       "      <td>1.0</td>\n",
       "      <td>10.0</td>\n",
       "      <td>20.0</td>\n",
       "    </tr>\n",
       "    <tr>\n",
       "      <th>2021-10-02</th>\n",
       "      <td>29951.0</td>\n",
       "      <td>5.255885</td>\n",
       "      <td>6.509838</td>\n",
       "      <td>0.0</td>\n",
       "      <td>0.0</td>\n",
       "      <td>1.0</td>\n",
       "      <td>10.0</td>\n",
       "      <td>20.0</td>\n",
       "    </tr>\n",
       "    <tr>\n",
       "      <th>2021-10-03</th>\n",
       "      <td>29951.0</td>\n",
       "      <td>5.266068</td>\n",
       "      <td>6.511458</td>\n",
       "      <td>0.0</td>\n",
       "      <td>0.0</td>\n",
       "      <td>1.0</td>\n",
       "      <td>10.0</td>\n",
       "      <td>20.0</td>\n",
       "    </tr>\n",
       "    <tr>\n",
       "      <th>2021-10-04</th>\n",
       "      <td>29951.0</td>\n",
       "      <td>5.212447</td>\n",
       "      <td>6.511711</td>\n",
       "      <td>0.0</td>\n",
       "      <td>0.0</td>\n",
       "      <td>1.0</td>\n",
       "      <td>10.0</td>\n",
       "      <td>20.0</td>\n",
       "    </tr>\n",
       "    <tr>\n",
       "      <th>2021-10-05</th>\n",
       "      <td>29951.0</td>\n",
       "      <td>5.177590</td>\n",
       "      <td>6.512791</td>\n",
       "      <td>0.0</td>\n",
       "      <td>0.0</td>\n",
       "      <td>1.0</td>\n",
       "      <td>10.0</td>\n",
       "      <td>20.0</td>\n",
       "    </tr>\n",
       "    <tr>\n",
       "      <th>...</th>\n",
       "      <th>...</th>\n",
       "      <td>...</td>\n",
       "      <td>...</td>\n",
       "      <td>...</td>\n",
       "      <td>...</td>\n",
       "      <td>...</td>\n",
       "      <td>...</td>\n",
       "      <td>...</td>\n",
       "      <td>...</td>\n",
       "    </tr>\n",
       "    <tr>\n",
       "      <th rowspan=\"5\" valign=\"top\">1</th>\n",
       "      <th>2021-11-26</th>\n",
       "      <td>30049.0</td>\n",
       "      <td>10.031216</td>\n",
       "      <td>5.770582</td>\n",
       "      <td>0.0</td>\n",
       "      <td>5.0</td>\n",
       "      <td>10.0</td>\n",
       "      <td>15.0</td>\n",
       "      <td>20.0</td>\n",
       "    </tr>\n",
       "    <tr>\n",
       "      <th>2021-11-27</th>\n",
       "      <td>30049.0</td>\n",
       "      <td>10.026024</td>\n",
       "      <td>5.774141</td>\n",
       "      <td>0.0</td>\n",
       "      <td>5.0</td>\n",
       "      <td>10.0</td>\n",
       "      <td>15.0</td>\n",
       "      <td>20.0</td>\n",
       "    </tr>\n",
       "    <tr>\n",
       "      <th>2021-11-28</th>\n",
       "      <td>30049.0</td>\n",
       "      <td>9.975307</td>\n",
       "      <td>5.788257</td>\n",
       "      <td>0.0</td>\n",
       "      <td>5.0</td>\n",
       "      <td>10.0</td>\n",
       "      <td>15.0</td>\n",
       "      <td>20.0</td>\n",
       "    </tr>\n",
       "    <tr>\n",
       "      <th>2021-11-29</th>\n",
       "      <td>30049.0</td>\n",
       "      <td>9.970781</td>\n",
       "      <td>5.799546</td>\n",
       "      <td>0.0</td>\n",
       "      <td>5.0</td>\n",
       "      <td>10.0</td>\n",
       "      <td>15.0</td>\n",
       "      <td>20.0</td>\n",
       "    </tr>\n",
       "    <tr>\n",
       "      <th>2021-11-30</th>\n",
       "      <td>30049.0</td>\n",
       "      <td>9.963926</td>\n",
       "      <td>5.764812</td>\n",
       "      <td>0.0</td>\n",
       "      <td>5.0</td>\n",
       "      <td>10.0</td>\n",
       "      <td>15.0</td>\n",
       "      <td>20.0</td>\n",
       "    </tr>\n",
       "  </tbody>\n",
       "</table>\n",
       "<p>122 rows × 8 columns</p>\n",
       "</div>"
      ],
      "text/plain": [
       "                   activity_level                                             \\\n",
       "                            count       mean       std  min  25%   50%   75%   \n",
       "groupid dt                                                                     \n",
       "0       2021-10-01        29951.0   5.241762  6.516640  0.0  0.0   1.0  10.0   \n",
       "        2021-10-02        29951.0   5.255885  6.509838  0.0  0.0   1.0  10.0   \n",
       "        2021-10-03        29951.0   5.266068  6.511458  0.0  0.0   1.0  10.0   \n",
       "        2021-10-04        29951.0   5.212447  6.511711  0.0  0.0   1.0  10.0   \n",
       "        2021-10-05        29951.0   5.177590  6.512791  0.0  0.0   1.0  10.0   \n",
       "...                           ...        ...       ...  ...  ...   ...   ...   \n",
       "1       2021-11-26        30049.0  10.031216  5.770582  0.0  5.0  10.0  15.0   \n",
       "        2021-11-27        30049.0  10.026024  5.774141  0.0  5.0  10.0  15.0   \n",
       "        2021-11-28        30049.0   9.975307  5.788257  0.0  5.0  10.0  15.0   \n",
       "        2021-11-29        30049.0   9.970781  5.799546  0.0  5.0  10.0  15.0   \n",
       "        2021-11-30        30049.0   9.963926  5.764812  0.0  5.0  10.0  15.0   \n",
       "\n",
       "                          \n",
       "                     max  \n",
       "groupid dt                \n",
       "0       2021-10-01  20.0  \n",
       "        2021-10-02  20.0  \n",
       "        2021-10-03  20.0  \n",
       "        2021-10-04  20.0  \n",
       "        2021-10-05  20.0  \n",
       "...                  ...  \n",
       "1       2021-11-26  20.0  \n",
       "        2021-11-27  20.0  \n",
       "        2021-11-28  20.0  \n",
       "        2021-11-29  20.0  \n",
       "        2021-11-30  20.0  \n",
       "\n",
       "[122 rows x 8 columns]"
      ]
     },
     "execution_count": 18,
     "metadata": {},
     "output_type": "execute_result"
    }
   ],
   "source": [
    "activity_df.groupby(['groupid', 'dt']).describe()"
   ]
  },
  {
   "cell_type": "markdown",
   "id": "371e7cd6-4e25-4630-8a10-b21dfacc2c74",
   "metadata": {},
   "source": [
    "It is already noticeable that there is a difference in the activity levels between groups. The mean of the control group is around `5.2` whereas the mean for the test group reaches the value of `10`.\n",
    "\n",
    "Now let's observe the data without the users that did not log in these days and group them by date and groupid:"
   ]
  },
  {
   "cell_type": "code",
   "execution_count": 19,
   "id": "34eb0542-0f01-43fd-a7e3-b07f0cb5b837",
   "metadata": {},
   "outputs": [
    {
     "data": {
      "text/html": [
       "<div>\n",
       "<style scoped>\n",
       "    .dataframe tbody tr th:only-of-type {\n",
       "        vertical-align: middle;\n",
       "    }\n",
       "\n",
       "    .dataframe tbody tr th {\n",
       "        vertical-align: top;\n",
       "    }\n",
       "\n",
       "    .dataframe thead th {\n",
       "        text-align: right;\n",
       "    }\n",
       "</style>\n",
       "<table border=\"1\" class=\"dataframe\">\n",
       "  <thead>\n",
       "    <tr style=\"text-align: right;\">\n",
       "      <th></th>\n",
       "      <th>dt</th>\n",
       "      <th>groupid</th>\n",
       "      <th>userid</th>\n",
       "      <th>activity_level</th>\n",
       "    </tr>\n",
       "  </thead>\n",
       "  <tbody>\n",
       "    <tr>\n",
       "      <th>0</th>\n",
       "      <td>2021-10-01</td>\n",
       "      <td>0</td>\n",
       "      <td>15337</td>\n",
       "      <td>15337</td>\n",
       "    </tr>\n",
       "    <tr>\n",
       "      <th>1</th>\n",
       "      <td>2021-10-01</td>\n",
       "      <td>1</td>\n",
       "      <td>15297</td>\n",
       "      <td>15297</td>\n",
       "    </tr>\n",
       "    <tr>\n",
       "      <th>2</th>\n",
       "      <td>2021-10-02</td>\n",
       "      <td>0</td>\n",
       "      <td>15354</td>\n",
       "      <td>15354</td>\n",
       "    </tr>\n",
       "    <tr>\n",
       "      <th>3</th>\n",
       "      <td>2021-10-02</td>\n",
       "      <td>1</td>\n",
       "      <td>15421</td>\n",
       "      <td>15421</td>\n",
       "    </tr>\n",
       "    <tr>\n",
       "      <th>4</th>\n",
       "      <td>2021-10-03</td>\n",
       "      <td>0</td>\n",
       "      <td>15423</td>\n",
       "      <td>15423</td>\n",
       "    </tr>\n",
       "  </tbody>\n",
       "</table>\n",
       "</div>"
      ],
      "text/plain": [
       "           dt  groupid  userid  activity_level\n",
       "0  2021-10-01        0   15337           15337\n",
       "1  2021-10-01        1   15297           15297\n",
       "2  2021-10-02        0   15354           15354\n",
       "3  2021-10-02        1   15421           15421\n",
       "4  2021-10-03        0   15423           15423"
      ]
     },
     "execution_count": 19,
     "metadata": {},
     "output_type": "execute_result"
    }
   ],
   "source": [
    "activity_df.query('activity_level > 0').groupby(['dt', 'groupid']).count().reset_index().head()"
   ]
  },
  {
   "cell_type": "code",
   "execution_count": 20,
   "id": "f648b4c5-210e-4e32-9fd4-c48bb5285e33",
   "metadata": {},
   "outputs": [
    {
     "data": {
      "text/html": [
       "<div>\n",
       "<style scoped>\n",
       "    .dataframe tbody tr th:only-of-type {\n",
       "        vertical-align: middle;\n",
       "    }\n",
       "\n",
       "    .dataframe tbody tr th {\n",
       "        vertical-align: top;\n",
       "    }\n",
       "\n",
       "    .dataframe thead th {\n",
       "        text-align: right;\n",
       "    }\n",
       "</style>\n",
       "<table border=\"1\" class=\"dataframe\">\n",
       "  <thead>\n",
       "    <tr style=\"text-align: right;\">\n",
       "      <th></th>\n",
       "      <th>dt</th>\n",
       "      <th>groupid</th>\n",
       "      <th>userid</th>\n",
       "      <th>activity_level</th>\n",
       "    </tr>\n",
       "  </thead>\n",
       "  <tbody>\n",
       "    <tr>\n",
       "      <th>117</th>\n",
       "      <td>2021-11-28</td>\n",
       "      <td>1</td>\n",
       "      <td>29273</td>\n",
       "      <td>29273</td>\n",
       "    </tr>\n",
       "    <tr>\n",
       "      <th>118</th>\n",
       "      <td>2021-11-29</td>\n",
       "      <td>0</td>\n",
       "      <td>15356</td>\n",
       "      <td>15356</td>\n",
       "    </tr>\n",
       "    <tr>\n",
       "      <th>119</th>\n",
       "      <td>2021-11-29</td>\n",
       "      <td>1</td>\n",
       "      <td>29289</td>\n",
       "      <td>29289</td>\n",
       "    </tr>\n",
       "    <tr>\n",
       "      <th>120</th>\n",
       "      <td>2021-11-30</td>\n",
       "      <td>0</td>\n",
       "      <td>15192</td>\n",
       "      <td>15192</td>\n",
       "    </tr>\n",
       "    <tr>\n",
       "      <th>121</th>\n",
       "      <td>2021-11-30</td>\n",
       "      <td>1</td>\n",
       "      <td>29382</td>\n",
       "      <td>29382</td>\n",
       "    </tr>\n",
       "  </tbody>\n",
       "</table>\n",
       "</div>"
      ],
      "text/plain": [
       "             dt  groupid  userid  activity_level\n",
       "117  2021-11-28        1   29273           29273\n",
       "118  2021-11-29        0   15356           15356\n",
       "119  2021-11-29        1   29289           29289\n",
       "120  2021-11-30        0   15192           15192\n",
       "121  2021-11-30        1   29382           29382"
      ]
     },
     "execution_count": 20,
     "metadata": {},
     "output_type": "execute_result"
    }
   ],
   "source": [
    "activity_df.query('activity_level > 0').groupby(['dt', 'groupid']).count().reset_index().tail()"
   ]
  },
  {
   "cell_type": "code",
   "execution_count": 21,
   "id": "e322e38f-e6fd-48db-874c-810a6f0603aa",
   "metadata": {},
   "outputs": [
    {
     "data": {
      "text/html": [
       "\n",
       "<style>\n",
       "  #altair-viz-c68e0e731fef48e2a1be6eeb06932d58.vega-embed {\n",
       "    width: 100%;\n",
       "    display: flex;\n",
       "  }\n",
       "\n",
       "  #altair-viz-c68e0e731fef48e2a1be6eeb06932d58.vega-embed details,\n",
       "  #altair-viz-c68e0e731fef48e2a1be6eeb06932d58.vega-embed details summary {\n",
       "    position: relative;\n",
       "  }\n",
       "</style>\n",
       "<div id=\"altair-viz-c68e0e731fef48e2a1be6eeb06932d58\"></div>\n",
       "<script type=\"text/javascript\">\n",
       "  var VEGA_DEBUG = (typeof VEGA_DEBUG == \"undefined\") ? {} : VEGA_DEBUG;\n",
       "  (function(spec, embedOpt){\n",
       "    let outputDiv = document.currentScript.previousElementSibling;\n",
       "    if (outputDiv.id !== \"altair-viz-c68e0e731fef48e2a1be6eeb06932d58\") {\n",
       "      outputDiv = document.getElementById(\"altair-viz-c68e0e731fef48e2a1be6eeb06932d58\");\n",
       "    }\n",
       "    const paths = {\n",
       "      \"vega\": \"https://cdn.jsdelivr.net/npm/vega@5?noext\",\n",
       "      \"vega-lib\": \"https://cdn.jsdelivr.net/npm/vega-lib?noext\",\n",
       "      \"vega-lite\": \"https://cdn.jsdelivr.net/npm/vega-lite@5.17.0?noext\",\n",
       "      \"vega-embed\": \"https://cdn.jsdelivr.net/npm/vega-embed@6?noext\",\n",
       "    };\n",
       "\n",
       "    function maybeLoadScript(lib, version) {\n",
       "      var key = `${lib.replace(\"-\", \"\")}_version`;\n",
       "      return (VEGA_DEBUG[key] == version) ?\n",
       "        Promise.resolve(paths[lib]) :\n",
       "        new Promise(function(resolve, reject) {\n",
       "          var s = document.createElement('script');\n",
       "          document.getElementsByTagName(\"head\")[0].appendChild(s);\n",
       "          s.async = true;\n",
       "          s.onload = () => {\n",
       "            VEGA_DEBUG[key] = version;\n",
       "            return resolve(paths[lib]);\n",
       "          };\n",
       "          s.onerror = () => reject(`Error loading script: ${paths[lib]}`);\n",
       "          s.src = paths[lib];\n",
       "        });\n",
       "    }\n",
       "\n",
       "    function showError(err) {\n",
       "      outputDiv.innerHTML = `<div class=\"error\" style=\"color:red;\">${err}</div>`;\n",
       "      throw err;\n",
       "    }\n",
       "\n",
       "    function displayChart(vegaEmbed) {\n",
       "      vegaEmbed(outputDiv, spec, embedOpt)\n",
       "        .catch(err => showError(`Javascript Error: ${err.message}<br>This usually means there's a typo in your chart specification. See the javascript console for the full traceback.`));\n",
       "    }\n",
       "\n",
       "    if(typeof define === \"function\" && define.amd) {\n",
       "      requirejs.config({paths});\n",
       "      require([\"vega-embed\"], displayChart, err => showError(`Error loading script: ${err.message}`));\n",
       "    } else {\n",
       "      maybeLoadScript(\"vega\", \"5\")\n",
       "        .then(() => maybeLoadScript(\"vega-lite\", \"5.17.0\"))\n",
       "        .then(() => maybeLoadScript(\"vega-embed\", \"6\"))\n",
       "        .catch(showError)\n",
       "        .then(() => displayChart(vegaEmbed));\n",
       "    }\n",
       "  })({\"config\": {\"view\": {\"continuousWidth\": 300, \"continuousHeight\": 300}}, \"data\": {\"name\": \"data-fa99765ff8b38516b13d618f28eb8da8\"}, \"mark\": {\"type\": \"line\", \"size\": 3}, \"encoding\": {\"color\": {\"field\": \"groupid\", \"type\": \"ordinal\"}, \"tooltip\": [{\"field\": \"userid\", \"type\": \"quantitative\"}], \"x\": {\"field\": \"dt\", \"type\": \"nominal\"}, \"y\": {\"field\": \"userid\", \"type\": \"quantitative\"}}, \"height\": 400, \"width\": 600, \"$schema\": \"https://vega.github.io/schema/vega-lite/v5.17.0.json\", \"datasets\": {\"data-fa99765ff8b38516b13d618f28eb8da8\": [{\"dt\": \"2021-10-01\", \"groupid\": 0, \"userid\": 15337, \"activity_level\": 15337}, {\"dt\": \"2021-10-01\", \"groupid\": 1, \"userid\": 15297, \"activity_level\": 15297}, {\"dt\": \"2021-10-02\", \"groupid\": 0, \"userid\": 15354, \"activity_level\": 15354}, {\"dt\": \"2021-10-02\", \"groupid\": 1, \"userid\": 15421, \"activity_level\": 15421}, {\"dt\": \"2021-10-03\", \"groupid\": 0, \"userid\": 15423, \"activity_level\": 15423}, {\"dt\": \"2021-10-03\", \"groupid\": 1, \"userid\": 15362, \"activity_level\": 15362}, {\"dt\": \"2021-10-04\", \"groupid\": 0, \"userid\": 15211, \"activity_level\": 15211}, {\"dt\": \"2021-10-04\", \"groupid\": 1, \"userid\": 15388, \"activity_level\": 15388}, {\"dt\": \"2021-10-05\", \"groupid\": 0, \"userid\": 15126, \"activity_level\": 15126}, {\"dt\": \"2021-10-05\", \"groupid\": 1, \"userid\": 15462, \"activity_level\": 15462}, {\"dt\": \"2021-10-06\", \"groupid\": 0, \"userid\": 15335, \"activity_level\": 15335}, {\"dt\": \"2021-10-06\", \"groupid\": 1, \"userid\": 15304, \"activity_level\": 15304}, {\"dt\": \"2021-10-07\", \"groupid\": 0, \"userid\": 15346, \"activity_level\": 15346}, {\"dt\": \"2021-10-07\", \"groupid\": 1, \"userid\": 15291, \"activity_level\": 15291}, {\"dt\": \"2021-10-08\", \"groupid\": 0, \"userid\": 15357, \"activity_level\": 15357}, {\"dt\": \"2021-10-08\", \"groupid\": 1, \"userid\": 15243, \"activity_level\": 15243}, {\"dt\": \"2021-10-09\", \"groupid\": 0, \"userid\": 15371, \"activity_level\": 15371}, {\"dt\": \"2021-10-09\", \"groupid\": 1, \"userid\": 15531, \"activity_level\": 15531}, {\"dt\": \"2021-10-10\", \"groupid\": 0, \"userid\": 15277, \"activity_level\": 15277}, {\"dt\": \"2021-10-10\", \"groupid\": 1, \"userid\": 15304, \"activity_level\": 15304}, {\"dt\": \"2021-10-11\", \"groupid\": 0, \"userid\": 15226, \"activity_level\": 15226}, {\"dt\": \"2021-10-11\", \"groupid\": 1, \"userid\": 15263, \"activity_level\": 15263}, {\"dt\": \"2021-10-12\", \"groupid\": 0, \"userid\": 15290, \"activity_level\": 15290}, {\"dt\": \"2021-10-12\", \"groupid\": 1, \"userid\": 15425, \"activity_level\": 15425}, {\"dt\": \"2021-10-13\", \"groupid\": 0, \"userid\": 15334, \"activity_level\": 15334}, {\"dt\": \"2021-10-13\", \"groupid\": 1, \"userid\": 15427, \"activity_level\": 15427}, {\"dt\": \"2021-10-14\", \"groupid\": 0, \"userid\": 15295, \"activity_level\": 15295}, {\"dt\": \"2021-10-14\", \"groupid\": 1, \"userid\": 15421, \"activity_level\": 15421}, {\"dt\": \"2021-10-15\", \"groupid\": 0, \"userid\": 15277, \"activity_level\": 15277}, {\"dt\": \"2021-10-15\", \"groupid\": 1, \"userid\": 15360, \"activity_level\": 15360}, {\"dt\": \"2021-10-16\", \"groupid\": 0, \"userid\": 15348, \"activity_level\": 15348}, {\"dt\": \"2021-10-16\", \"groupid\": 1, \"userid\": 15360, \"activity_level\": 15360}, {\"dt\": \"2021-10-17\", \"groupid\": 0, \"userid\": 15430, \"activity_level\": 15430}, {\"dt\": \"2021-10-17\", \"groupid\": 1, \"userid\": 15311, \"activity_level\": 15311}, {\"dt\": \"2021-10-18\", \"groupid\": 0, \"userid\": 15244, \"activity_level\": 15244}, {\"dt\": \"2021-10-18\", \"groupid\": 1, \"userid\": 15450, \"activity_level\": 15450}, {\"dt\": \"2021-10-19\", \"groupid\": 0, \"userid\": 15303, \"activity_level\": 15303}, {\"dt\": \"2021-10-19\", \"groupid\": 1, \"userid\": 15284, \"activity_level\": 15284}, {\"dt\": \"2021-10-20\", \"groupid\": 0, \"userid\": 15382, \"activity_level\": 15382}, {\"dt\": \"2021-10-20\", \"groupid\": 1, \"userid\": 15413, \"activity_level\": 15413}, {\"dt\": \"2021-10-21\", \"groupid\": 0, \"userid\": 15431, \"activity_level\": 15431}, {\"dt\": \"2021-10-21\", \"groupid\": 1, \"userid\": 15274, \"activity_level\": 15274}, {\"dt\": \"2021-10-22\", \"groupid\": 0, \"userid\": 15356, \"activity_level\": 15356}, {\"dt\": \"2021-10-22\", \"groupid\": 1, \"userid\": 15217, \"activity_level\": 15217}, {\"dt\": \"2021-10-23\", \"groupid\": 0, \"userid\": 15151, \"activity_level\": 15151}, {\"dt\": \"2021-10-23\", \"groupid\": 1, \"userid\": 15494, \"activity_level\": 15494}, {\"dt\": \"2021-10-24\", \"groupid\": 0, \"userid\": 15512, \"activity_level\": 15512}, {\"dt\": \"2021-10-24\", \"groupid\": 1, \"userid\": 15303, \"activity_level\": 15303}, {\"dt\": \"2021-10-25\", \"groupid\": 0, \"userid\": 15351, \"activity_level\": 15351}, {\"dt\": \"2021-10-25\", \"groupid\": 1, \"userid\": 15265, \"activity_level\": 15265}, {\"dt\": \"2021-10-26\", \"groupid\": 0, \"userid\": 15280, \"activity_level\": 15280}, {\"dt\": \"2021-10-26\", \"groupid\": 1, \"userid\": 15393, \"activity_level\": 15393}, {\"dt\": \"2021-10-27\", \"groupid\": 0, \"userid\": 15459, \"activity_level\": 15459}, {\"dt\": \"2021-10-27\", \"groupid\": 1, \"userid\": 15202, \"activity_level\": 15202}, {\"dt\": \"2021-10-28\", \"groupid\": 0, \"userid\": 15434, \"activity_level\": 15434}, {\"dt\": \"2021-10-28\", \"groupid\": 1, \"userid\": 15300, \"activity_level\": 15300}, {\"dt\": \"2021-10-29\", \"groupid\": 0, \"userid\": 15214, \"activity_level\": 15214}, {\"dt\": \"2021-10-29\", \"groupid\": 1, \"userid\": 15509, \"activity_level\": 15509}, {\"dt\": \"2021-10-30\", \"groupid\": 0, \"userid\": 15285, \"activity_level\": 15285}, {\"dt\": \"2021-10-30\", \"groupid\": 1, \"userid\": 15343, \"activity_level\": 15343}, {\"dt\": \"2021-10-31\", \"groupid\": 0, \"userid\": 15208, \"activity_level\": 15208}, {\"dt\": \"2021-10-31\", \"groupid\": 1, \"userid\": 15311, \"activity_level\": 15311}, {\"dt\": \"2021-11-01\", \"groupid\": 0, \"userid\": 15989, \"activity_level\": 15989}, {\"dt\": \"2021-11-01\", \"groupid\": 1, \"userid\": 29318, \"activity_level\": 29318}, {\"dt\": \"2021-11-02\", \"groupid\": 0, \"userid\": 16024, \"activity_level\": 16024}, {\"dt\": \"2021-11-02\", \"groupid\": 1, \"userid\": 29289, \"activity_level\": 29289}, {\"dt\": \"2021-11-03\", \"groupid\": 0, \"userid\": 16049, \"activity_level\": 16049}, {\"dt\": \"2021-11-03\", \"groupid\": 1, \"userid\": 29306, \"activity_level\": 29306}, {\"dt\": \"2021-11-04\", \"groupid\": 0, \"userid\": 16040, \"activity_level\": 16040}, {\"dt\": \"2021-11-04\", \"groupid\": 1, \"userid\": 29267, \"activity_level\": 29267}, {\"dt\": \"2021-11-05\", \"groupid\": 0, \"userid\": 16045, \"activity_level\": 16045}, {\"dt\": \"2021-11-05\", \"groupid\": 1, \"userid\": 29336, \"activity_level\": 29336}, {\"dt\": \"2021-11-06\", \"groupid\": 0, \"userid\": 15991, \"activity_level\": 15991}, {\"dt\": \"2021-11-06\", \"groupid\": 1, \"userid\": 29306, \"activity_level\": 29306}, {\"dt\": \"2021-11-07\", \"groupid\": 0, \"userid\": 16133, \"activity_level\": 16133}, {\"dt\": \"2021-11-07\", \"groupid\": 1, \"userid\": 29255, \"activity_level\": 29255}, {\"dt\": \"2021-11-08\", \"groupid\": 0, \"userid\": 16119, \"activity_level\": 16119}, {\"dt\": \"2021-11-08\", \"groupid\": 1, \"userid\": 29263, \"activity_level\": 29263}, {\"dt\": \"2021-11-09\", \"groupid\": 0, \"userid\": 15953, \"activity_level\": 15953}, {\"dt\": \"2021-11-09\", \"groupid\": 1, \"userid\": 29286, \"activity_level\": 29286}, {\"dt\": \"2021-11-10\", \"groupid\": 0, \"userid\": 15990, \"activity_level\": 15990}, {\"dt\": \"2021-11-10\", \"groupid\": 1, \"userid\": 29340, \"activity_level\": 29340}, {\"dt\": \"2021-11-11\", \"groupid\": 0, \"userid\": 16045, \"activity_level\": 16045}, {\"dt\": \"2021-11-11\", \"groupid\": 1, \"userid\": 29349, \"activity_level\": 29349}, {\"dt\": \"2021-11-12\", \"groupid\": 0, \"userid\": 15859, \"activity_level\": 15859}, {\"dt\": \"2021-11-12\", \"groupid\": 1, \"userid\": 29278, \"activity_level\": 29278}, {\"dt\": \"2021-11-13\", \"groupid\": 0, \"userid\": 15973, \"activity_level\": 15973}, {\"dt\": \"2021-11-13\", \"groupid\": 1, \"userid\": 29258, \"activity_level\": 29258}, {\"dt\": \"2021-11-14\", \"groupid\": 0, \"userid\": 16016, \"activity_level\": 16016}, {\"dt\": \"2021-11-14\", \"groupid\": 1, \"userid\": 29322, \"activity_level\": 29322}, {\"dt\": \"2021-11-15\", \"groupid\": 0, \"userid\": 16112, \"activity_level\": 16112}, {\"dt\": \"2021-11-15\", \"groupid\": 1, \"userid\": 29337, \"activity_level\": 29337}, {\"dt\": \"2021-11-16\", \"groupid\": 0, \"userid\": 16147, \"activity_level\": 16147}, {\"dt\": \"2021-11-16\", \"groupid\": 1, \"userid\": 29300, \"activity_level\": 29300}, {\"dt\": \"2021-11-17\", \"groupid\": 0, \"userid\": 16015, \"activity_level\": 16015}, {\"dt\": \"2021-11-17\", \"groupid\": 1, \"userid\": 29296, \"activity_level\": 29296}, {\"dt\": \"2021-11-18\", \"groupid\": 0, \"userid\": 16007, \"activity_level\": 16007}, {\"dt\": \"2021-11-18\", \"groupid\": 1, \"userid\": 29274, \"activity_level\": 29274}, {\"dt\": \"2021-11-19\", \"groupid\": 0, \"userid\": 16104, \"activity_level\": 16104}, {\"dt\": \"2021-11-19\", \"groupid\": 1, \"userid\": 29292, \"activity_level\": 29292}, {\"dt\": \"2021-11-20\", \"groupid\": 0, \"userid\": 16090, \"activity_level\": 16090}, {\"dt\": \"2021-11-20\", \"groupid\": 1, \"userid\": 29329, \"activity_level\": 29329}, {\"dt\": \"2021-11-21\", \"groupid\": 0, \"userid\": 15294, \"activity_level\": 15294}, {\"dt\": \"2021-11-21\", \"groupid\": 1, \"userid\": 29309, \"activity_level\": 29309}, {\"dt\": \"2021-11-22\", \"groupid\": 0, \"userid\": 15207, \"activity_level\": 15207}, {\"dt\": \"2021-11-22\", \"groupid\": 1, \"userid\": 29278, \"activity_level\": 29278}, {\"dt\": \"2021-11-23\", \"groupid\": 0, \"userid\": 15424, \"activity_level\": 15424}, {\"dt\": \"2021-11-23\", \"groupid\": 1, \"userid\": 29300, \"activity_level\": 29300}, {\"dt\": \"2021-11-24\", \"groupid\": 0, \"userid\": 15328, \"activity_level\": 15328}, {\"dt\": \"2021-11-24\", \"groupid\": 1, \"userid\": 29287, \"activity_level\": 29287}, {\"dt\": \"2021-11-25\", \"groupid\": 0, \"userid\": 15163, \"activity_level\": 15163}, {\"dt\": \"2021-11-25\", \"groupid\": 1, \"userid\": 29301, \"activity_level\": 29301}, {\"dt\": \"2021-11-26\", \"groupid\": 0, \"userid\": 15226, \"activity_level\": 15226}, {\"dt\": \"2021-11-26\", \"groupid\": 1, \"userid\": 29303, \"activity_level\": 29303}, {\"dt\": \"2021-11-27\", \"groupid\": 0, \"userid\": 15286, \"activity_level\": 15286}, {\"dt\": \"2021-11-27\", \"groupid\": 1, \"userid\": 29350, \"activity_level\": 29350}, {\"dt\": \"2021-11-28\", \"groupid\": 0, \"userid\": 15283, \"activity_level\": 15283}, {\"dt\": \"2021-11-28\", \"groupid\": 1, \"userid\": 29273, \"activity_level\": 29273}, {\"dt\": \"2021-11-29\", \"groupid\": 0, \"userid\": 15356, \"activity_level\": 15356}, {\"dt\": \"2021-11-29\", \"groupid\": 1, \"userid\": 29289, \"activity_level\": 29289}, {\"dt\": \"2021-11-30\", \"groupid\": 0, \"userid\": 15192, \"activity_level\": 15192}, {\"dt\": \"2021-11-30\", \"groupid\": 1, \"userid\": 29382, \"activity_level\": 29382}]}}, {\"mode\": \"vega-lite\"});\n",
       "</script>"
      ],
      "text/plain": [
       "alt.Chart(...)"
      ]
     },
     "execution_count": 21,
     "metadata": {},
     "output_type": "execute_result"
    }
   ],
   "source": [
    "alt.Chart(activity_df.query('activity_level > 0').groupby(['dt', 'groupid']).\\\n",
    "          count().reset_index()).mark_line(size=3).encode(\n",
    "    alt.X('dt'),\n",
    "    alt.Y('userid'),\n",
    "    color='groupid:O',\n",
    "    tooltip=['userid']\n",
    "          ).properties(\n",
    "    width=600,\n",
    "    height=400\n",
    "          )"
   ]
  },
  {
   "cell_type": "markdown",
   "id": "6519c3e6-d018-4134-9189-13e7a24d055e",
   "metadata": {},
   "source": [
    "While before the testing (that occurred around the middle of the month), the activity levels of both groups was similar, it can be seen that at the end there's a big difference, since the number of users of the test group that are active at least once a day doubles the number of the control group."
   ]
  },
  {
   "cell_type": "code",
   "execution_count": 27,
   "id": "b5f03a8f-0ea3-47a7-b556-8f6bfdd6919e",
   "metadata": {},
   "outputs": [
    {
     "data": {
      "text/html": [
       "<div>\n",
       "<style scoped>\n",
       "    .dataframe tbody tr th:only-of-type {\n",
       "        vertical-align: middle;\n",
       "    }\n",
       "\n",
       "    .dataframe tbody tr th {\n",
       "        vertical-align: top;\n",
       "    }\n",
       "\n",
       "    .dataframe thead tr th {\n",
       "        text-align: left;\n",
       "    }\n",
       "</style>\n",
       "<table border=\"1\" class=\"dataframe\">\n",
       "  <thead>\n",
       "    <tr>\n",
       "      <th></th>\n",
       "      <th colspan=\"2\" halign=\"left\">Group 0</th>\n",
       "      <th colspan=\"2\" halign=\"left\">Group 1</th>\n",
       "    </tr>\n",
       "    <tr>\n",
       "      <th></th>\n",
       "      <th>groupid</th>\n",
       "      <th>activity_level</th>\n",
       "      <th>groupid</th>\n",
       "      <th>activity_level</th>\n",
       "    </tr>\n",
       "  </thead>\n",
       "  <tbody>\n",
       "    <tr>\n",
       "      <th>count</th>\n",
       "      <td>30.0</td>\n",
       "      <td>30.000000</td>\n",
       "      <td>30.0</td>\n",
       "      <td>30.000000</td>\n",
       "    </tr>\n",
       "    <tr>\n",
       "      <th>mean</th>\n",
       "      <td>0.0</td>\n",
       "      <td>15782.000000</td>\n",
       "      <td>1.0</td>\n",
       "      <td>29302.433333</td>\n",
       "    </tr>\n",
       "    <tr>\n",
       "      <th>std</th>\n",
       "      <td>0.0</td>\n",
       "      <td>371.077276</td>\n",
       "      <td>0.0</td>\n",
       "      <td>30.417422</td>\n",
       "    </tr>\n",
       "    <tr>\n",
       "      <th>min</th>\n",
       "      <td>0.0</td>\n",
       "      <td>15163.000000</td>\n",
       "      <td>1.0</td>\n",
       "      <td>29255.000000</td>\n",
       "    </tr>\n",
       "    <tr>\n",
       "      <th>25%</th>\n",
       "      <td>0.0</td>\n",
       "      <td>15335.000000</td>\n",
       "      <td>1.0</td>\n",
       "      <td>29280.000000</td>\n",
       "    </tr>\n",
       "    <tr>\n",
       "      <th>50%</th>\n",
       "      <td>0.0</td>\n",
       "      <td>15990.500000</td>\n",
       "      <td>1.0</td>\n",
       "      <td>29300.000000</td>\n",
       "    </tr>\n",
       "    <tr>\n",
       "      <th>75%</th>\n",
       "      <td>0.0</td>\n",
       "      <td>16045.000000</td>\n",
       "      <td>1.0</td>\n",
       "      <td>29321.000000</td>\n",
       "    </tr>\n",
       "    <tr>\n",
       "      <th>max</th>\n",
       "      <td>0.0</td>\n",
       "      <td>16147.000000</td>\n",
       "      <td>1.0</td>\n",
       "      <td>29382.000000</td>\n",
       "    </tr>\n",
       "  </tbody>\n",
       "</table>\n",
       "</div>"
      ],
      "text/plain": [
       "      Group 0                Group 1               \n",
       "      groupid activity_level groupid activity_level\n",
       "count    30.0      30.000000    30.0      30.000000\n",
       "mean      0.0   15782.000000     1.0   29302.433333\n",
       "std       0.0     371.077276     0.0      30.417422\n",
       "min       0.0   15163.000000     1.0   29255.000000\n",
       "25%       0.0   15335.000000     1.0   29280.000000\n",
       "50%       0.0   15990.500000     1.0   29300.000000\n",
       "75%       0.0   16045.000000     1.0   29321.000000\n",
       "max       0.0   16147.000000     1.0   29382.000000"
      ]
     },
     "execution_count": 27,
     "metadata": {},
     "output_type": "execute_result"
    }
   ],
   "source": [
    "group0 = activity_df.query('activity_level > 0 and groupid == 0 and dt >= \"2021-11-01\"')\\\n",
    ".groupby(['dt','groupid']).count().reset_index()[['groupid', 'activity_level']].describe()\n",
    "\n",
    "group1 = activity_df.query('activity_level > 0 and groupid == 1 and dt >= \"2021-11-01\"')\\\n",
    ".groupby(['dt','groupid']).count().reset_index()[['groupid', 'activity_level']].describe()\n",
    "\n",
    "# Combine the two dataframes\n",
    "comparison_df = pd.concat([group0, group1], axis=1, keys=['Group 0', 'Group 1'])\n",
    "\n",
    "# Display the combined DataFrame\n",
    "comparison_df"
   ]
  },
  {
   "cell_type": "markdown",
   "id": "d8f83da4-4c3b-40cf-8c44-63311a9a1746",
   "metadata": {},
   "source": [
    "We can see here that there is a huge difference between the number of users who were active at least once a day in each group. And also that the test group is much more stable, since the standard deviation is 10 times lower than the one for the control group.\n",
    "\n",
    "We can take a closer look at the metrics before and after the test started:"
   ]
  },
  {
   "cell_type": "markdown",
   "id": "d2668053-0807-4624-a62f-8b2d1e6cbf44",
   "metadata": {},
   "source": [
    "#### Before"
   ]
  },
  {
   "cell_type": "code",
   "execution_count": 29,
   "id": "30dfe4ef-bd62-4599-8fe9-17dfb15e1553",
   "metadata": {},
   "outputs": [
    {
     "data": {
      "text/html": [
       "<div>\n",
       "<style scoped>\n",
       "    .dataframe tbody tr th:only-of-type {\n",
       "        vertical-align: middle;\n",
       "    }\n",
       "\n",
       "    .dataframe tbody tr th {\n",
       "        vertical-align: top;\n",
       "    }\n",
       "\n",
       "    .dataframe thead tr th {\n",
       "        text-align: left;\n",
       "    }\n",
       "\n",
       "    .dataframe thead tr:last-of-type th {\n",
       "        text-align: right;\n",
       "    }\n",
       "</style>\n",
       "<table border=\"1\" class=\"dataframe\">\n",
       "  <thead>\n",
       "    <tr>\n",
       "      <th></th>\n",
       "      <th colspan=\"8\" halign=\"left\">activity_level</th>\n",
       "    </tr>\n",
       "    <tr>\n",
       "      <th></th>\n",
       "      <th>count</th>\n",
       "      <th>mean</th>\n",
       "      <th>std</th>\n",
       "      <th>min</th>\n",
       "      <th>25%</th>\n",
       "      <th>50%</th>\n",
       "      <th>75%</th>\n",
       "      <th>max</th>\n",
       "    </tr>\n",
       "    <tr>\n",
       "      <th>groupid</th>\n",
       "      <th></th>\n",
       "      <th></th>\n",
       "      <th></th>\n",
       "      <th></th>\n",
       "      <th></th>\n",
       "      <th></th>\n",
       "      <th></th>\n",
       "      <th></th>\n",
       "    </tr>\n",
       "  </thead>\n",
       "  <tbody>\n",
       "    <tr>\n",
       "      <th>0</th>\n",
       "      <td>928481.0</td>\n",
       "      <td>5.245635</td>\n",
       "      <td>6.521184</td>\n",
       "      <td>0.0</td>\n",
       "      <td>0.0</td>\n",
       "      <td>1.0</td>\n",
       "      <td>10.0</td>\n",
       "      <td>20.0</td>\n",
       "    </tr>\n",
       "    <tr>\n",
       "      <th>1</th>\n",
       "      <td>931519.0</td>\n",
       "      <td>5.240952</td>\n",
       "      <td>6.520811</td>\n",
       "      <td>0.0</td>\n",
       "      <td>0.0</td>\n",
       "      <td>1.0</td>\n",
       "      <td>10.0</td>\n",
       "      <td>20.0</td>\n",
       "    </tr>\n",
       "  </tbody>\n",
       "</table>\n",
       "</div>"
      ],
      "text/plain": [
       "        activity_level                                               \n",
       "                 count      mean       std  min  25%  50%   75%   max\n",
       "groupid                                                              \n",
       "0             928481.0  5.245635  6.521184  0.0  0.0  1.0  10.0  20.0\n",
       "1             931519.0  5.240952  6.520811  0.0  0.0  1.0  10.0  20.0"
      ]
     },
     "execution_count": 29,
     "metadata": {},
     "output_type": "execute_result"
    }
   ],
   "source": [
    "activity_df.query('dt < \"2021-11-01\"').groupby(['groupid']).describe()"
   ]
  },
  {
   "cell_type": "markdown",
   "id": "63702866-d625-4e31-99f1-cb8c6a9d3654",
   "metadata": {},
   "source": [
    "#### After"
   ]
  },
  {
   "cell_type": "code",
   "execution_count": 28,
   "id": "e28d2cc7-1b42-461b-a257-315510d57c51",
   "metadata": {},
   "outputs": [
    {
     "data": {
      "text/html": [
       "<div>\n",
       "<style scoped>\n",
       "    .dataframe tbody tr th:only-of-type {\n",
       "        vertical-align: middle;\n",
       "    }\n",
       "\n",
       "    .dataframe tbody tr th {\n",
       "        vertical-align: top;\n",
       "    }\n",
       "\n",
       "    .dataframe thead tr th {\n",
       "        text-align: left;\n",
       "    }\n",
       "\n",
       "    .dataframe thead tr:last-of-type th {\n",
       "        text-align: right;\n",
       "    }\n",
       "</style>\n",
       "<table border=\"1\" class=\"dataframe\">\n",
       "  <thead>\n",
       "    <tr>\n",
       "      <th></th>\n",
       "      <th colspan=\"8\" halign=\"left\">activity_level</th>\n",
       "    </tr>\n",
       "    <tr>\n",
       "      <th></th>\n",
       "      <th>count</th>\n",
       "      <th>mean</th>\n",
       "      <th>std</th>\n",
       "      <th>min</th>\n",
       "      <th>25%</th>\n",
       "      <th>50%</th>\n",
       "      <th>75%</th>\n",
       "      <th>max</th>\n",
       "    </tr>\n",
       "    <tr>\n",
       "      <th>groupid</th>\n",
       "      <th></th>\n",
       "      <th></th>\n",
       "      <th></th>\n",
       "      <th></th>\n",
       "      <th></th>\n",
       "      <th></th>\n",
       "      <th></th>\n",
       "      <th></th>\n",
       "    </tr>\n",
       "  </thead>\n",
       "  <tbody>\n",
       "    <tr>\n",
       "      <th>0</th>\n",
       "      <td>898530.0</td>\n",
       "      <td>5.402211</td>\n",
       "      <td>6.55557</td>\n",
       "      <td>0.0</td>\n",
       "      <td>0.0</td>\n",
       "      <td>1.0</td>\n",
       "      <td>11.0</td>\n",
       "      <td>20.0</td>\n",
       "    </tr>\n",
       "    <tr>\n",
       "      <th>1</th>\n",
       "      <td>901470.0</td>\n",
       "      <td>9.996304</td>\n",
       "      <td>5.78868</td>\n",
       "      <td>0.0</td>\n",
       "      <td>5.0</td>\n",
       "      <td>10.0</td>\n",
       "      <td>15.0</td>\n",
       "      <td>20.0</td>\n",
       "    </tr>\n",
       "  </tbody>\n",
       "</table>\n",
       "</div>"
      ],
      "text/plain": [
       "        activity_level                                               \n",
       "                 count      mean      std  min  25%   50%   75%   max\n",
       "groupid                                                              \n",
       "0             898530.0  5.402211  6.55557  0.0  0.0   1.0  11.0  20.0\n",
       "1             901470.0  9.996304  5.78868  0.0  5.0  10.0  15.0  20.0"
      ]
     },
     "execution_count": 28,
     "metadata": {},
     "output_type": "execute_result"
    }
   ],
   "source": [
    "activity_df.query('dt >= \"2021-11-01\"').groupby(['groupid']).describe()"
   ]
  },
  {
   "cell_type": "markdown",
   "id": "70533757-118c-40cc-aa22-18fcc42ca40f",
   "metadata": {},
   "source": [
    "While before the test, the numbers are very similar for both groups, after the start of the test we can see a big difference in the behaviour."
   ]
  },
  {
   "cell_type": "code",
   "execution_count": 40,
   "id": "624728ef-41b0-4239-8e4a-2dcceb803058",
   "metadata": {},
   "outputs": [],
   "source": [
    "data_act_count = activity_df.query('activity_level > 0').groupby(['groupid', 'dt']).count().reset_index()"
   ]
  },
  {
   "cell_type": "markdown",
   "id": "6327bb4a-1f2b-4b0b-a0a8-d72972c79718",
   "metadata": {},
   "source": [
    "## Comparing the activity between the groups\n",
    "By the activity levels"
   ]
  },
  {
   "cell_type": "code",
   "execution_count": 30,
   "id": "cd97b165-1e07-461f-b2bc-b6e72c41b355",
   "metadata": {},
   "outputs": [
    {
     "data": {
      "text/plain": [
       "array([ 0,  0,  0, ..., 20, 20, 20], dtype=int64)"
      ]
     },
     "execution_count": 30,
     "metadata": {},
     "output_type": "execute_result"
    }
   ],
   "source": [
    "activity_df.query('groupid == 0')['activity_level'].to_numpy()"
   ]
  },
  {
   "cell_type": "markdown",
   "id": "f2588fec-6716-4749-968a-bc9fc310dd80",
   "metadata": {},
   "source": [
    "I´ll show that the ttest works comparing first group 0 (control group) with itself. I'm using the ttest for the ease of use, since it can be easily used with the `scipy.stats` package and because if we have a sample size big enough, the results are similar to the ones of the z-test."
   ]
  },
  {
   "cell_type": "code",
   "execution_count": 36,
   "id": "bbd35499-8190-47b3-97a5-54095b0aaf38",
   "metadata": {},
   "outputs": [
    {
     "name": "stdout",
     "output_type": "stream",
     "text": [
      "T-statistic: 0.0000000000\n",
      "P-value: 1.0000000000\n"
     ]
    }
   ],
   "source": [
    "# Perform the t-test\n",
    "res = ttest_ind(activity_df.query('groupid == 0 and dt >= \"2021-11-01\"')['activity_level'].to_numpy(),\n",
    "                activity_df.query('groupid == 0 and dt >= \"2021-11-01\"')['activity_level'].to_numpy())\n",
    "\n",
    "# Access the t-statistic and p-value\n",
    "t_statistic, p_value = res.statistic, res.pvalue\n",
    "\n",
    "# Print them with the desired formatting\n",
    "print(f\"T-statistic: {t_statistic:.10f}\")\n",
    "print(f\"P-value: {p_value:.10f}\")"
   ]
  },
  {
   "cell_type": "markdown",
   "id": "0ebe7a03-9418-4be6-a158-52fb70008d37",
   "metadata": {},
   "source": [
    "The p-value of 1 means that there is absolutely no difference between the groups, which makes totally sense since we are comparing the same group.\n",
    "\n",
    "Now let's compare the two groups after the test:"
   ]
  },
  {
   "cell_type": "code",
   "execution_count": 38,
   "id": "8b271885-783e-47cd-b48f-cdefd252dd29",
   "metadata": {},
   "outputs": [
    {
     "name": "stdout",
     "output_type": "stream",
     "text": [
      "T-statistic: -498.4000989153\n",
      "P-value: 0.0000000000\n"
     ]
    }
   ],
   "source": [
    "# Perform the t-test\n",
    "res = ttest_ind(activity_df.query('groupid == 0 and dt >= \"2021-11-01\"')['activity_level'].to_numpy(),\n",
    "                activity_df.query('groupid == 1 and dt >= \"2021-11-01\"')['activity_level'].to_numpy())\n",
    "\n",
    "# Access the t-statistic and p-value\n",
    "t_statistic, p_value = res.statistic, res.pvalue\n",
    "\n",
    "# Print them with the desired formatting\n",
    "print(f\"T-statistic: {t_statistic:.10f}\")\n",
    "print(f\"P-value: {p_value:.10f}\")"
   ]
  },
  {
   "cell_type": "markdown",
   "id": "4abeb3c2-8562-4586-a022-9d538bb4f2fe",
   "metadata": {},
   "source": [
    "Here, it is clear that the groups are different and the result is not by chance."
   ]
  },
  {
   "cell_type": "code",
   "execution_count": 41,
   "id": "c5501fe5-f53b-4eca-b90c-a165fd055619",
   "metadata": {},
   "outputs": [
    {
     "data": {
      "text/html": [
       "<div>\n",
       "<style scoped>\n",
       "    .dataframe tbody tr th:only-of-type {\n",
       "        vertical-align: middle;\n",
       "    }\n",
       "\n",
       "    .dataframe tbody tr th {\n",
       "        vertical-align: top;\n",
       "    }\n",
       "\n",
       "    .dataframe thead th {\n",
       "        text-align: right;\n",
       "    }\n",
       "</style>\n",
       "<table border=\"1\" class=\"dataframe\">\n",
       "  <thead>\n",
       "    <tr style=\"text-align: right;\">\n",
       "      <th></th>\n",
       "      <th>groupid</th>\n",
       "      <th>dt</th>\n",
       "      <th>userid</th>\n",
       "      <th>activity_level</th>\n",
       "    </tr>\n",
       "  </thead>\n",
       "  <tbody>\n",
       "    <tr>\n",
       "      <th>0</th>\n",
       "      <td>0</td>\n",
       "      <td>2021-10-01</td>\n",
       "      <td>15337</td>\n",
       "      <td>15337</td>\n",
       "    </tr>\n",
       "    <tr>\n",
       "      <th>1</th>\n",
       "      <td>0</td>\n",
       "      <td>2021-10-02</td>\n",
       "      <td>15354</td>\n",
       "      <td>15354</td>\n",
       "    </tr>\n",
       "    <tr>\n",
       "      <th>2</th>\n",
       "      <td>0</td>\n",
       "      <td>2021-10-03</td>\n",
       "      <td>15423</td>\n",
       "      <td>15423</td>\n",
       "    </tr>\n",
       "    <tr>\n",
       "      <th>3</th>\n",
       "      <td>0</td>\n",
       "      <td>2021-10-04</td>\n",
       "      <td>15211</td>\n",
       "      <td>15211</td>\n",
       "    </tr>\n",
       "    <tr>\n",
       "      <th>4</th>\n",
       "      <td>0</td>\n",
       "      <td>2021-10-05</td>\n",
       "      <td>15126</td>\n",
       "      <td>15126</td>\n",
       "    </tr>\n",
       "  </tbody>\n",
       "</table>\n",
       "</div>"
      ],
      "text/plain": [
       "   groupid          dt  userid  activity_level\n",
       "0        0  2021-10-01   15337           15337\n",
       "1        0  2021-10-02   15354           15354\n",
       "2        0  2021-10-03   15423           15423\n",
       "3        0  2021-10-04   15211           15211\n",
       "4        0  2021-10-05   15126           15126"
      ]
     },
     "execution_count": 41,
     "metadata": {},
     "output_type": "execute_result"
    }
   ],
   "source": [
    "before = data_act_count.query('dt < \"2021-11-01\"')\n",
    "before.head()"
   ]
  },
  {
   "cell_type": "code",
   "execution_count": 43,
   "id": "e85f25e3-7c69-46cf-ac78-b8fe5e511669",
   "metadata": {},
   "outputs": [
    {
     "data": {
      "text/html": [
       "<div>\n",
       "<style scoped>\n",
       "    .dataframe tbody tr th:only-of-type {\n",
       "        vertical-align: middle;\n",
       "    }\n",
       "\n",
       "    .dataframe tbody tr th {\n",
       "        vertical-align: top;\n",
       "    }\n",
       "\n",
       "    .dataframe thead th {\n",
       "        text-align: right;\n",
       "    }\n",
       "</style>\n",
       "<table border=\"1\" class=\"dataframe\">\n",
       "  <thead>\n",
       "    <tr style=\"text-align: right;\">\n",
       "      <th></th>\n",
       "      <th>groupid</th>\n",
       "      <th>dt</th>\n",
       "      <th>userid</th>\n",
       "      <th>activity_level</th>\n",
       "    </tr>\n",
       "  </thead>\n",
       "  <tbody>\n",
       "    <tr>\n",
       "      <th>31</th>\n",
       "      <td>0</td>\n",
       "      <td>2021-11-01</td>\n",
       "      <td>15989</td>\n",
       "      <td>15989</td>\n",
       "    </tr>\n",
       "    <tr>\n",
       "      <th>32</th>\n",
       "      <td>0</td>\n",
       "      <td>2021-11-02</td>\n",
       "      <td>16024</td>\n",
       "      <td>16024</td>\n",
       "    </tr>\n",
       "    <tr>\n",
       "      <th>33</th>\n",
       "      <td>0</td>\n",
       "      <td>2021-11-03</td>\n",
       "      <td>16049</td>\n",
       "      <td>16049</td>\n",
       "    </tr>\n",
       "    <tr>\n",
       "      <th>34</th>\n",
       "      <td>0</td>\n",
       "      <td>2021-11-04</td>\n",
       "      <td>16040</td>\n",
       "      <td>16040</td>\n",
       "    </tr>\n",
       "    <tr>\n",
       "      <th>35</th>\n",
       "      <td>0</td>\n",
       "      <td>2021-11-05</td>\n",
       "      <td>16045</td>\n",
       "      <td>16045</td>\n",
       "    </tr>\n",
       "  </tbody>\n",
       "</table>\n",
       "</div>"
      ],
      "text/plain": [
       "    groupid          dt  userid  activity_level\n",
       "31        0  2021-11-01   15989           15989\n",
       "32        0  2021-11-02   16024           16024\n",
       "33        0  2021-11-03   16049           16049\n",
       "34        0  2021-11-04   16040           16040\n",
       "35        0  2021-11-05   16045           16045"
      ]
     },
     "execution_count": 43,
     "metadata": {},
     "output_type": "execute_result"
    }
   ],
   "source": [
    "after = data_act_count.query('dt >= \"2021-11-01\"')\n",
    "after.head()"
   ]
  },
  {
   "cell_type": "markdown",
   "id": "6262b155-142e-40f9-8c93-85fcc26bfb0d",
   "metadata": {},
   "source": [
    "Check for the pretest bias on activity:"
   ]
  },
  {
   "cell_type": "code",
   "execution_count": 57,
   "id": "3c1f107e-ac6b-45ae-9f0e-3ada87db7680",
   "metadata": {},
   "outputs": [
    {
     "name": "stdout",
     "output_type": "stream",
     "text": [
      "Average number of users before the test in the control group: 15320.87\n",
      "Average number of users before the test in the test group: 15352.52\n"
     ]
    }
   ],
   "source": [
    "print(f\"Average number of users before the test in the control group: {round(np.mean(before.query('groupid == 0')['userid'].to_numpy()), 2)}\")\n",
    "print(f\"Average number of users before the test in the test group: {round(np.mean(before.query('groupid == 1')['userid'].to_numpy()), 2)}\")"
   ]
  },
  {
   "cell_type": "code",
   "execution_count": 56,
   "id": "c917575c-42df-4baa-a2c3-fed5e0d95ce8",
   "metadata": {},
   "outputs": [
    {
     "name": "stdout",
     "output_type": "stream",
     "text": [
      "T-statistic: -1.4121065242\n",
      "P-value: 0.1630842354\n"
     ]
    }
   ],
   "source": [
    "# Perform the t-test\n",
    "res = ttest_ind(before.query('groupid == 0')['userid'].to_numpy(),\n",
    "                before.query('groupid == 1')['userid'].to_numpy())\n",
    "\n",
    "# Access the t-statistic and p-value\n",
    "t_statistic, p_value = res.statistic, res.pvalue\n",
    "\n",
    "# Print them with the desired formatting\n",
    "print(f\"T-statistic: {t_statistic:.10f}\")\n",
    "print(f\"P-value: {p_value:.10f}\")"
   ]
  },
  {
   "cell_type": "markdown",
   "id": "bc7863d6-9f04-4968-a82d-1d8e28b34237",
   "metadata": {},
   "source": [
    "Both the mean and a high p-value (greater than the common threshold of 0.05) indicate that there's almost no difference between groups before the test took place."
   ]
  },
  {
   "cell_type": "code",
   "execution_count": 58,
   "id": "5aad1858-6afb-472f-a3bb-e7e42fea1f4e",
   "metadata": {},
   "outputs": [
    {
     "name": "stdout",
     "output_type": "stream",
     "text": [
      "Average number of users after the test in the control group: 15782.0\n",
      "Average number of users after the test in the test group: 29302.43\n"
     ]
    }
   ],
   "source": [
    "print(f\"Average number of users after the test in the control group: {round(np.mean(after.query('groupid == 0')['userid'].to_numpy()), 2)}\")\n",
    "print(f\"Average number of users after the test in the test group: {round(np.mean(after.query('groupid == 1')['userid'].to_numpy()), 2)}\")"
   ]
  },
  {
   "cell_type": "code",
   "execution_count": 59,
   "id": "31ad5706-2023-43ef-90b6-193ceaf686dc",
   "metadata": {},
   "outputs": [
    {
     "name": "stdout",
     "output_type": "stream",
     "text": [
      "T-statistic: -198.8990494893\n",
      "P-value: 0.0000000000\n"
     ]
    }
   ],
   "source": [
    "# Perform the t-test\n",
    "res = ttest_ind(after.query('groupid == 0')['userid'].to_numpy(),\n",
    "                after.query('groupid == 1')['userid'].to_numpy())\n",
    "\n",
    "# Access the t-statistic and p-value\n",
    "t_statistic, p_value = res.statistic, res.pvalue\n",
    "\n",
    "# Print them with the desired formatting\n",
    "print(f\"T-statistic: {t_statistic:.10f}\")\n",
    "print(f\"P-value: {p_value:.10f}\")"
   ]
  },
  {
   "cell_type": "markdown",
   "id": "b3406abf-38e1-408b-83fe-86c2b3a8af23",
   "metadata": {},
   "source": [
    "We can safely stablish that the test affected the user activity levels."
   ]
  },
  {
   "cell_type": "markdown",
   "id": "1c80b789-df29-4e0c-9200-252d49e165bc",
   "metadata": {},
   "source": [
    "## Click through rate (CTR)"
   ]
  },
  {
   "cell_type": "code",
   "execution_count": 60,
   "id": "a57474b6-5061-4c7c-bfcb-e833fa31f0ef",
   "metadata": {},
   "outputs": [],
   "source": [
    "ctr_df = pd.read_csv(\"Ctr_all.csv\")"
   ]
  },
  {
   "cell_type": "code",
   "execution_count": 61,
   "id": "f2733d09-9ff2-43c2-b00a-4aa82d2abea1",
   "metadata": {},
   "outputs": [
    {
     "data": {
      "text/html": [
       "<div>\n",
       "<style scoped>\n",
       "    .dataframe tbody tr th:only-of-type {\n",
       "        vertical-align: middle;\n",
       "    }\n",
       "\n",
       "    .dataframe tbody tr th {\n",
       "        vertical-align: top;\n",
       "    }\n",
       "\n",
       "    .dataframe thead th {\n",
       "        text-align: right;\n",
       "    }\n",
       "</style>\n",
       "<table border=\"1\" class=\"dataframe\">\n",
       "  <thead>\n",
       "    <tr style=\"text-align: right;\">\n",
       "      <th></th>\n",
       "      <th>userid</th>\n",
       "      <th>dt</th>\n",
       "      <th>groupid</th>\n",
       "      <th>ctr</th>\n",
       "    </tr>\n",
       "  </thead>\n",
       "  <tbody>\n",
       "    <tr>\n",
       "      <th>0</th>\n",
       "      <td>60389fa7-2d71-4cdf-831c-c2bb277ffa1e</td>\n",
       "      <td>2021-11-13</td>\n",
       "      <td>0</td>\n",
       "      <td>31.81</td>\n",
       "    </tr>\n",
       "    <tr>\n",
       "      <th>1</th>\n",
       "      <td>b59cb225-d160-4851-92d2-7cc8120a2f63</td>\n",
       "      <td>2021-11-13</td>\n",
       "      <td>0</td>\n",
       "      <td>30.46</td>\n",
       "    </tr>\n",
       "    <tr>\n",
       "      <th>2</th>\n",
       "      <td>aa336050-934e-453f-a5b0-dd881fcd114e</td>\n",
       "      <td>2021-11-13</td>\n",
       "      <td>0</td>\n",
       "      <td>34.25</td>\n",
       "    </tr>\n",
       "    <tr>\n",
       "      <th>3</th>\n",
       "      <td>8df767f4-a10f-4322-a722-676b7e02b372</td>\n",
       "      <td>2021-11-13</td>\n",
       "      <td>0</td>\n",
       "      <td>34.92</td>\n",
       "    </tr>\n",
       "    <tr>\n",
       "      <th>4</th>\n",
       "      <td>a74762ed-4da0-42ab-91d2-40d7e808dfe9</td>\n",
       "      <td>2021-11-13</td>\n",
       "      <td>0</td>\n",
       "      <td>34.95</td>\n",
       "    </tr>\n",
       "  </tbody>\n",
       "</table>\n",
       "</div>"
      ],
      "text/plain": [
       "                                 userid          dt  groupid    ctr\n",
       "0  60389fa7-2d71-4cdf-831c-c2bb277ffa1e  2021-11-13        0  31.81\n",
       "1  b59cb225-d160-4851-92d2-7cc8120a2f63  2021-11-13        0  30.46\n",
       "2  aa336050-934e-453f-a5b0-dd881fcd114e  2021-11-13        0  34.25\n",
       "3  8df767f4-a10f-4322-a722-676b7e02b372  2021-11-13        0  34.92\n",
       "4  a74762ed-4da0-42ab-91d2-40d7e808dfe9  2021-11-13        0  34.95"
      ]
     },
     "execution_count": 61,
     "metadata": {},
     "output_type": "execute_result"
    }
   ],
   "source": [
    "ctr_df.head()"
   ]
  },
  {
   "cell_type": "code",
   "execution_count": 63,
   "id": "0338897d-12fb-4746-bd8e-22e8ef725533",
   "metadata": {},
   "outputs": [],
   "source": [
    "ctr_avg = ctr_df.groupby(['groupid', 'dt'])['ctr'].mean().reset_index()"
   ]
  },
  {
   "cell_type": "code",
   "execution_count": 65,
   "id": "61874d28-e075-41e0-9b64-e1243ba8a971",
   "metadata": {},
   "outputs": [
    {
     "data": {
      "text/html": [
       "\n",
       "<style>\n",
       "  #altair-viz-70a6ba6b336548a7abe02f74f8ef5998.vega-embed {\n",
       "    width: 100%;\n",
       "    display: flex;\n",
       "  }\n",
       "\n",
       "  #altair-viz-70a6ba6b336548a7abe02f74f8ef5998.vega-embed details,\n",
       "  #altair-viz-70a6ba6b336548a7abe02f74f8ef5998.vega-embed details summary {\n",
       "    position: relative;\n",
       "  }\n",
       "</style>\n",
       "<div id=\"altair-viz-70a6ba6b336548a7abe02f74f8ef5998\"></div>\n",
       "<script type=\"text/javascript\">\n",
       "  var VEGA_DEBUG = (typeof VEGA_DEBUG == \"undefined\") ? {} : VEGA_DEBUG;\n",
       "  (function(spec, embedOpt){\n",
       "    let outputDiv = document.currentScript.previousElementSibling;\n",
       "    if (outputDiv.id !== \"altair-viz-70a6ba6b336548a7abe02f74f8ef5998\") {\n",
       "      outputDiv = document.getElementById(\"altair-viz-70a6ba6b336548a7abe02f74f8ef5998\");\n",
       "    }\n",
       "    const paths = {\n",
       "      \"vega\": \"https://cdn.jsdelivr.net/npm/vega@5?noext\",\n",
       "      \"vega-lib\": \"https://cdn.jsdelivr.net/npm/vega-lib?noext\",\n",
       "      \"vega-lite\": \"https://cdn.jsdelivr.net/npm/vega-lite@5.17.0?noext\",\n",
       "      \"vega-embed\": \"https://cdn.jsdelivr.net/npm/vega-embed@6?noext\",\n",
       "    };\n",
       "\n",
       "    function maybeLoadScript(lib, version) {\n",
       "      var key = `${lib.replace(\"-\", \"\")}_version`;\n",
       "      return (VEGA_DEBUG[key] == version) ?\n",
       "        Promise.resolve(paths[lib]) :\n",
       "        new Promise(function(resolve, reject) {\n",
       "          var s = document.createElement('script');\n",
       "          document.getElementsByTagName(\"head\")[0].appendChild(s);\n",
       "          s.async = true;\n",
       "          s.onload = () => {\n",
       "            VEGA_DEBUG[key] = version;\n",
       "            return resolve(paths[lib]);\n",
       "          };\n",
       "          s.onerror = () => reject(`Error loading script: ${paths[lib]}`);\n",
       "          s.src = paths[lib];\n",
       "        });\n",
       "    }\n",
       "\n",
       "    function showError(err) {\n",
       "      outputDiv.innerHTML = `<div class=\"error\" style=\"color:red;\">${err}</div>`;\n",
       "      throw err;\n",
       "    }\n",
       "\n",
       "    function displayChart(vegaEmbed) {\n",
       "      vegaEmbed(outputDiv, spec, embedOpt)\n",
       "        .catch(err => showError(`Javascript Error: ${err.message}<br>This usually means there's a typo in your chart specification. See the javascript console for the full traceback.`));\n",
       "    }\n",
       "\n",
       "    if(typeof define === \"function\" && define.amd) {\n",
       "      requirejs.config({paths});\n",
       "      require([\"vega-embed\"], displayChart, err => showError(`Error loading script: ${err.message}`));\n",
       "    } else {\n",
       "      maybeLoadScript(\"vega\", \"5\")\n",
       "        .then(() => maybeLoadScript(\"vega-lite\", \"5.17.0\"))\n",
       "        .then(() => maybeLoadScript(\"vega-embed\", \"6\"))\n",
       "        .catch(showError)\n",
       "        .then(() => displayChart(vegaEmbed));\n",
       "    }\n",
       "  })({\"config\": {\"view\": {\"continuousWidth\": 300, \"continuousHeight\": 300}}, \"data\": {\"name\": \"data-4257d655fcc1a911f75adea51cd8e125\"}, \"mark\": {\"type\": \"line\", \"size\": 5}, \"encoding\": {\"color\": {\"field\": \"groupid\", \"type\": \"ordinal\"}, \"tooltip\": [{\"field\": \"ctr\", \"type\": \"quantitative\"}], \"x\": {\"field\": \"dt\", \"type\": \"nominal\"}, \"y\": {\"field\": \"ctr\", \"type\": \"quantitative\"}}, \"height\": 400, \"width\": 600, \"$schema\": \"https://vega.github.io/schema/vega-lite/v5.17.0.json\", \"datasets\": {\"data-4257d655fcc1a911f75adea51cd8e125\": [{\"groupid\": 0, \"dt\": \"2021-10-01\", \"ctr\": 32.98062658929386}, {\"groupid\": 0, \"dt\": \"2021-10-02\", \"ctr\": 33.00405627198124}, {\"groupid\": 0, \"dt\": \"2021-10-03\", \"ctr\": 33.002006094793494}, {\"groupid\": 0, \"dt\": \"2021-10-04\", \"ctr\": 32.99036289527316}, {\"groupid\": 0, \"dt\": \"2021-10-05\", \"ctr\": 33.01416699722332}, {\"groupid\": 0, \"dt\": \"2021-10-06\", \"ctr\": 33.02166025432018}, {\"groupid\": 0, \"dt\": \"2021-10-07\", \"ctr\": 32.97636582822886}, {\"groupid\": 0, \"dt\": \"2021-10-08\", \"ctr\": 33.003954548414406}, {\"groupid\": 0, \"dt\": \"2021-10-09\", \"ctr\": 33.02420792401275}, {\"groupid\": 0, \"dt\": \"2021-10-10\", \"ctr\": 33.002929240034035}, {\"groupid\": 0, \"dt\": \"2021-10-11\", \"ctr\": 32.990675817680284}, {\"groupid\": 0, \"dt\": \"2021-10-12\", \"ctr\": 32.982114453891434}, {\"groupid\": 0, \"dt\": \"2021-10-13\", \"ctr\": 33.00414308073562}, {\"groupid\": 0, \"dt\": \"2021-10-14\", \"ctr\": 32.99352795031056}, {\"groupid\": 0, \"dt\": \"2021-10-15\", \"ctr\": 33.01448648294822}, {\"groupid\": 0, \"dt\": \"2021-10-16\", \"ctr\": 32.99120927808183}, {\"groupid\": 0, \"dt\": \"2021-10-17\", \"ctr\": 32.994388204795854}, {\"groupid\": 0, \"dt\": \"2021-10-18\", \"ctr\": 33.001452374704805}, {\"groupid\": 0, \"dt\": \"2021-10-19\", \"ctr\": 33.010430634516105}, {\"groupid\": 0, \"dt\": \"2021-10-20\", \"ctr\": 32.99715316603823}, {\"groupid\": 0, \"dt\": \"2021-10-21\", \"ctr\": 32.99495625688549}, {\"groupid\": 0, \"dt\": \"2021-10-22\", \"ctr\": 33.007837327429016}, {\"groupid\": 0, \"dt\": \"2021-10-23\", \"ctr\": 33.02130354432051}, {\"groupid\": 0, \"dt\": \"2021-10-24\", \"ctr\": 32.96157039711191}, {\"groupid\": 0, \"dt\": \"2021-10-25\", \"ctr\": 32.997385838056154}, {\"groupid\": 0, \"dt\": \"2021-10-26\", \"ctr\": 33.02775523560209}, {\"groupid\": 0, \"dt\": \"2021-10-27\", \"ctr\": 33.008124070120964}, {\"groupid\": 0, \"dt\": \"2021-10-28\", \"ctr\": 33.00568031618504}, {\"groupid\": 0, \"dt\": \"2021-10-29\", \"ctr\": 33.00055146575523}, {\"groupid\": 0, \"dt\": \"2021-10-30\", \"ctr\": 33.000058227019956}, {\"groupid\": 0, \"dt\": \"2021-10-31\", \"ctr\": 33.003953840084165}, {\"groupid\": 0, \"dt\": \"2021-11-01\", \"ctr\": 32.982671211457884}, {\"groupid\": 0, \"dt\": \"2021-11-02\", \"ctr\": 33.01498315027459}, {\"groupid\": 0, \"dt\": \"2021-11-03\", \"ctr\": 33.008268427939434}, {\"groupid\": 0, \"dt\": \"2021-11-04\", \"ctr\": 32.98667892768079}, {\"groupid\": 0, \"dt\": \"2021-11-05\", \"ctr\": 33.00476597070738}, {\"groupid\": 0, \"dt\": \"2021-11-06\", \"ctr\": 32.998322181226946}, {\"groupid\": 0, \"dt\": \"2021-11-07\", \"ctr\": 33.00622760800843}, {\"groupid\": 0, \"dt\": \"2021-11-08\", \"ctr\": 32.99077858427942}, {\"groupid\": 0, \"dt\": \"2021-11-09\", \"ctr\": 33.021024885601456}, {\"groupid\": 0, \"dt\": \"2021-11-10\", \"ctr\": 32.99329080675422}, {\"groupid\": 0, \"dt\": \"2021-11-11\", \"ctr\": 33.00973761296354}, {\"groupid\": 0, \"dt\": \"2021-11-12\", \"ctr\": 32.98669714357778}, {\"groupid\": 0, \"dt\": \"2021-11-13\", \"ctr\": 32.9809378325925}, {\"groupid\": 0, \"dt\": \"2021-11-14\", \"ctr\": 33.0229763986014}, {\"groupid\": 0, \"dt\": \"2021-11-15\", \"ctr\": 32.98153984607745}, {\"groupid\": 0, \"dt\": \"2021-11-16\", \"ctr\": 32.99275716851428}, {\"groupid\": 0, \"dt\": \"2021-11-17\", \"ctr\": 32.98997876990322}, {\"groupid\": 0, \"dt\": \"2021-11-18\", \"ctr\": 32.9980620978322}, {\"groupid\": 0, \"dt\": \"2021-11-19\", \"ctr\": 32.99927657724789}, {\"groupid\": 0, \"dt\": \"2021-11-20\", \"ctr\": 32.98435487880671}, {\"groupid\": 0, \"dt\": \"2021-11-21\", \"ctr\": 33.01392049169609}, {\"groupid\": 0, \"dt\": \"2021-11-22\", \"ctr\": 33.006160978496744}, {\"groupid\": 0, \"dt\": \"2021-11-23\", \"ctr\": 32.99264911825726}, {\"groupid\": 0, \"dt\": \"2021-11-24\", \"ctr\": 32.995949895615865}, {\"groupid\": 0, \"dt\": \"2021-11-25\", \"ctr\": 32.97369649805447}, {\"groupid\": 0, \"dt\": \"2021-11-26\", \"ctr\": 32.98306712202811}, {\"groupid\": 0, \"dt\": \"2021-11-27\", \"ctr\": 32.998942169305245}, {\"groupid\": 0, \"dt\": \"2021-11-28\", \"ctr\": 32.99494667277367}, {\"groupid\": 0, \"dt\": \"2021-11-29\", \"ctr\": 33.00110054701745}, {\"groupid\": 0, \"dt\": \"2021-11-30\", \"ctr\": 32.99472551342812}, {\"groupid\": 1, \"dt\": \"2021-10-01\", \"ctr\": 33.00629862064457}, {\"groupid\": 1, \"dt\": \"2021-10-02\", \"ctr\": 32.97932624343428}, {\"groupid\": 1, \"dt\": \"2021-10-03\", \"ctr\": 32.98813891420388}, {\"groupid\": 1, \"dt\": \"2021-10-04\", \"ctr\": 32.99559591889784}, {\"groupid\": 1, \"dt\": \"2021-10-05\", \"ctr\": 32.994796274738064}, {\"groupid\": 1, \"dt\": \"2021-10-06\", \"ctr\": 33.015461317302666}, {\"groupid\": 1, \"dt\": \"2021-10-07\", \"ctr\": 33.00067752272579}, {\"groupid\": 1, \"dt\": \"2021-10-08\", \"ctr\": 32.99331299612937}, {\"groupid\": 1, \"dt\": \"2021-10-09\", \"ctr\": 32.98615221170562}, {\"groupid\": 1, \"dt\": \"2021-10-10\", \"ctr\": 33.011332331416625}, {\"groupid\": 1, \"dt\": \"2021-10-11\", \"ctr\": 32.98992596475136}, {\"groupid\": 1, \"dt\": \"2021-10-12\", \"ctr\": 33.01009529983793}, {\"groupid\": 1, \"dt\": \"2021-10-13\", \"ctr\": 32.96447332598691}, {\"groupid\": 1, \"dt\": \"2021-10-14\", \"ctr\": 33.006175993774725}, {\"groupid\": 1, \"dt\": \"2021-10-15\", \"ctr\": 33.00258072916667}, {\"groupid\": 1, \"dt\": \"2021-10-16\", \"ctr\": 32.990841796875}, {\"groupid\": 1, \"dt\": \"2021-10-17\", \"ctr\": 33.00950754359611}, {\"groupid\": 1, \"dt\": \"2021-10-18\", \"ctr\": 33.01399029126214}, {\"groupid\": 1, \"dt\": \"2021-10-19\", \"ctr\": 32.99257982203612}, {\"groupid\": 1, \"dt\": \"2021-10-20\", \"ctr\": 33.012096282359046}, {\"groupid\": 1, \"dt\": \"2021-10-21\", \"ctr\": 33.00020230456986}, {\"groupid\": 1, \"dt\": \"2021-10-22\", \"ctr\": 33.00572320431097}, {\"groupid\": 1, \"dt\": \"2021-10-23\", \"ctr\": 33.00335355621531}, {\"groupid\": 1, \"dt\": \"2021-10-24\", \"ctr\": 33.0069234790564}, {\"groupid\": 1, \"dt\": \"2021-10-25\", \"ctr\": 32.98301932525385}, {\"groupid\": 1, \"dt\": \"2021-10-26\", \"ctr\": 33.00083999220425}, {\"groupid\": 1, \"dt\": \"2021-10-27\", \"ctr\": 33.005947901591895}, {\"groupid\": 1, \"dt\": \"2021-10-28\", \"ctr\": 33.00574117647059}, {\"groupid\": 1, \"dt\": \"2021-10-29\", \"ctr\": 33.00783867431814}, {\"groupid\": 1, \"dt\": \"2021-10-30\", \"ctr\": 33.03274001173173}, {\"groupid\": 1, \"dt\": \"2021-10-31\", \"ctr\": 32.97118672849585}, {\"groupid\": 1, \"dt\": \"2021-11-01\", \"ctr\": 37.9946186643018}, {\"groupid\": 1, \"dt\": \"2021-11-02\", \"ctr\": 38.01365632148588}, {\"groupid\": 1, \"dt\": \"2021-11-03\", \"ctr\": 37.99556200095543}, {\"groupid\": 1, \"dt\": \"2021-11-04\", \"ctr\": 37.988511634263844}, {\"groupid\": 1, \"dt\": \"2021-11-05\", \"ctr\": 38.00281565312245}, {\"groupid\": 1, \"dt\": \"2021-11-06\", \"ctr\": 38.01312666348188}, {\"groupid\": 1, \"dt\": \"2021-11-07\", \"ctr\": 37.99576243377201}, {\"groupid\": 1, \"dt\": \"2021-11-08\", \"ctr\": 37.99487099750538}, {\"groupid\": 1, \"dt\": \"2021-11-09\", \"ctr\": 38.01321723690501}, {\"groupid\": 1, \"dt\": \"2021-11-10\", \"ctr\": 37.99005896387185}, {\"groupid\": 1, \"dt\": \"2021-11-11\", \"ctr\": 37.994286006337525}, {\"groupid\": 1, \"dt\": \"2021-11-12\", \"ctr\": 37.99615957374138}, {\"groupid\": 1, \"dt\": \"2021-11-13\", \"ctr\": 38.004073074031034}, {\"groupid\": 1, \"dt\": \"2021-11-14\", \"ctr\": 38.002104563126665}, {\"groupid\": 1, \"dt\": \"2021-11-15\", \"ctr\": 37.99379248048539}, {\"groupid\": 1, \"dt\": \"2021-11-16\", \"ctr\": 38.00073617747441}, {\"groupid\": 1, \"dt\": \"2021-11-17\", \"ctr\": 38.01606465046422}, {\"groupid\": 1, \"dt\": \"2021-11-18\", \"ctr\": 38.00059780009565}, {\"groupid\": 1, \"dt\": \"2021-11-19\", \"ctr\": 37.99372593199508}, {\"groupid\": 1, \"dt\": \"2021-11-20\", \"ctr\": 37.99248218486822}, {\"groupid\": 1, \"dt\": \"2021-11-21\", \"ctr\": 37.99136715684602}, {\"groupid\": 1, \"dt\": \"2021-11-22\", \"ctr\": 37.99126989548466}, {\"groupid\": 1, \"dt\": \"2021-11-23\", \"ctr\": 37.99545767918089}, {\"groupid\": 1, \"dt\": \"2021-11-24\", \"ctr\": 37.98753166934135}, {\"groupid\": 1, \"dt\": \"2021-11-25\", \"ctr\": 37.99161564451725}, {\"groupid\": 1, \"dt\": \"2021-11-26\", \"ctr\": 37.99783435143159}, {\"groupid\": 1, \"dt\": \"2021-11-27\", \"ctr\": 37.97891209540034}, {\"groupid\": 1, \"dt\": \"2021-11-28\", \"ctr\": 37.992709322583956}, {\"groupid\": 1, \"dt\": \"2021-11-29\", \"ctr\": 37.987909112636146}, {\"groupid\": 1, \"dt\": \"2021-11-30\", \"ctr\": 37.99798209788305}]}}, {\"mode\": \"vega-lite\"});\n",
       "</script>"
      ],
      "text/plain": [
       "alt.Chart(...)"
      ]
     },
     "execution_count": 65,
     "metadata": {},
     "output_type": "execute_result"
    }
   ],
   "source": [
    "alt.Chart(ctr_avg).mark_line(size=5).encode(\n",
    "    alt.X(\"dt\"),\n",
    "    alt.Y(\"ctr\"),\n",
    "    color=\"groupid:O\",\n",
    "    tooltip=['ctr']\n",
    ").properties(\n",
    "    width=600,\n",
    "    height=400\n",
    ")"
   ]
  },
  {
   "cell_type": "markdown",
   "id": "ae6326b2-dd18-495b-b5b3-03338d39e73d",
   "metadata": {},
   "source": [
    "We can see a big difference from the start of the test date between the click-through rate of both groups."
   ]
  },
  {
   "cell_type": "code",
   "execution_count": 68,
   "id": "071d664c-6d7d-48ee-809f-5208ddeb76f0",
   "metadata": {},
   "outputs": [],
   "source": [
    "before = ctr_df.query('dt < \"2021-11-01\"')[['groupid', 'ctr']]\n",
    "after = ctr_df.query('dt >= \"2021-11-01\"')[['groupid', 'ctr']]"
   ]
  },
  {
   "cell_type": "code",
   "execution_count": 69,
   "id": "7f67580f-be9a-48ea-874f-a2cf8f7437bf",
   "metadata": {},
   "outputs": [
    {
     "data": {
      "text/html": [
       "<div>\n",
       "<style scoped>\n",
       "    .dataframe tbody tr th:only-of-type {\n",
       "        vertical-align: middle;\n",
       "    }\n",
       "\n",
       "    .dataframe tbody tr th {\n",
       "        vertical-align: top;\n",
       "    }\n",
       "\n",
       "    .dataframe thead th {\n",
       "        text-align: right;\n",
       "    }\n",
       "</style>\n",
       "<table border=\"1\" class=\"dataframe\">\n",
       "  <thead>\n",
       "    <tr style=\"text-align: right;\">\n",
       "      <th></th>\n",
       "      <th>groupid</th>\n",
       "      <th>ctr</th>\n",
       "    </tr>\n",
       "  </thead>\n",
       "  <tbody>\n",
       "    <tr>\n",
       "      <th>808703</th>\n",
       "      <td>0</td>\n",
       "      <td>34.28</td>\n",
       "    </tr>\n",
       "    <tr>\n",
       "      <th>808704</th>\n",
       "      <td>0</td>\n",
       "      <td>34.67</td>\n",
       "    </tr>\n",
       "    <tr>\n",
       "      <th>808705</th>\n",
       "      <td>0</td>\n",
       "      <td>34.77</td>\n",
       "    </tr>\n",
       "    <tr>\n",
       "      <th>808706</th>\n",
       "      <td>0</td>\n",
       "      <td>35.42</td>\n",
       "    </tr>\n",
       "    <tr>\n",
       "      <th>808707</th>\n",
       "      <td>0</td>\n",
       "      <td>35.04</td>\n",
       "    </tr>\n",
       "    <tr>\n",
       "      <th>...</th>\n",
       "      <td>...</td>\n",
       "      <td>...</td>\n",
       "    </tr>\n",
       "    <tr>\n",
       "      <th>1759573</th>\n",
       "      <td>1</td>\n",
       "      <td>32.33</td>\n",
       "    </tr>\n",
       "    <tr>\n",
       "      <th>1759574</th>\n",
       "      <td>1</td>\n",
       "      <td>30.09</td>\n",
       "    </tr>\n",
       "    <tr>\n",
       "      <th>1759575</th>\n",
       "      <td>1</td>\n",
       "      <td>35.71</td>\n",
       "    </tr>\n",
       "    <tr>\n",
       "      <th>1759576</th>\n",
       "      <td>1</td>\n",
       "      <td>34.76</td>\n",
       "    </tr>\n",
       "    <tr>\n",
       "      <th>1759577</th>\n",
       "      <td>1</td>\n",
       "      <td>30.91</td>\n",
       "    </tr>\n",
       "  </tbody>\n",
       "</table>\n",
       "<p>950875 rows × 2 columns</p>\n",
       "</div>"
      ],
      "text/plain": [
       "         groupid    ctr\n",
       "808703         0  34.28\n",
       "808704         0  34.67\n",
       "808705         0  34.77\n",
       "808706         0  35.42\n",
       "808707         0  35.04\n",
       "...          ...    ...\n",
       "1759573        1  32.33\n",
       "1759574        1  30.09\n",
       "1759575        1  35.71\n",
       "1759576        1  34.76\n",
       "1759577        1  30.91\n",
       "\n",
       "[950875 rows x 2 columns]"
      ]
     },
     "execution_count": 69,
     "metadata": {},
     "output_type": "execute_result"
    }
   ],
   "source": [
    "before"
   ]
  },
  {
   "cell_type": "code",
   "execution_count": 71,
   "id": "2e47326d-2507-4127-b0d7-6f7c527a552a",
   "metadata": {},
   "outputs": [
    {
     "name": "stdout",
     "output_type": "stream",
     "text": [
      "Average ctr of the control group before the test: 33.0\n",
      "Average ctr of the test group before the test: 33.0\n",
      "\n",
      "Average ctr of the control group after the test: 33.0\n",
      "Average ctr of the test group after the test: 38.0\n"
     ]
    }
   ],
   "source": [
    "print(f\"Average ctr of the control group before the test: {round(before.query('groupid == 0')['ctr'].to_numpy().mean(), 2)}\")\n",
    "print(f\"Average ctr of the test group before the test: {round(before.query('groupid == 1')['ctr'].to_numpy().mean(), 2)}\")\n",
    "print()\n",
    "print(f\"Average ctr of the control group after the test: {round(after.query('groupid == 0')['ctr'].to_numpy().mean(), 2)}\")\n",
    "print(f\"Average ctr of the test group after the test: {round(after.query('groupid == 1')['ctr'].to_numpy().mean(), 2)}\")"
   ]
  },
  {
   "cell_type": "code",
   "execution_count": 72,
   "id": "f9e0786f-e569-4ad2-bd6a-c2b1a88a8680",
   "metadata": {},
   "outputs": [
    {
     "name": "stdout",
     "output_type": "stream",
     "text": [
      "Std for the ctr of the control group before the test: 1.73\n",
      "Std for the ctr of the test group before the test: 1.73\n",
      "\n",
      "Std for the ctr of the control group after the test: 1.73\n",
      "Std for the ctr of the test group after the test: 1.73\n"
     ]
    }
   ],
   "source": [
    "print(f\"Std for the ctr of the control group before the test: {round(before.query('groupid == 0')['ctr'].to_numpy().std(), 2)}\")\n",
    "print(f\"Std for the ctr of the test group before the test: {round(before.query('groupid == 1')['ctr'].to_numpy().std(), 2)}\")\n",
    "print()\n",
    "print(f\"Std for the ctr of the control group after the test: {round(after.query('groupid == 0')['ctr'].to_numpy().std(), 2)}\")\n",
    "print(f\"Std for the ctr of the test group after the test: {round(after.query('groupid == 1')['ctr'].to_numpy().std(), 2)}\")"
   ]
  },
  {
   "cell_type": "code",
   "execution_count": 74,
   "id": "8b9548c1-ebf0-4e4d-8a94-4187fcbd97a7",
   "metadata": {},
   "outputs": [
    {
     "name": "stdout",
     "output_type": "stream",
     "text": [
      "T-statistic: 0.3775817380\n",
      "P-value: 0.7057414173\n"
     ]
    }
   ],
   "source": [
    "# Perform the t-test\n",
    "res = ttest_ind(before.query('groupid == 0')['ctr'].to_numpy(),\n",
    "                before.query('groupid == 1')['ctr'].to_numpy())\n",
    "\n",
    "# Access the t-statistic and p-value\n",
    "t_statistic, p_value = res.statistic, res.pvalue\n",
    "\n",
    "# Print them with the desired formatting\n",
    "print(f\"T-statistic: {t_statistic:.10f}\")\n",
    "print(f\"P-value: {p_value:.10f}\")"
   ]
  },
  {
   "cell_type": "code",
   "execution_count": 75,
   "id": "8872cf22-13f9-4d41-8f60-3b5685f3c80c",
   "metadata": {},
   "outputs": [
    {
     "name": "stdout",
     "output_type": "stream",
     "text": [
      "T-statistic: -1600.7913068018\n",
      "P-value: 0.0000000000\n"
     ]
    }
   ],
   "source": [
    "# Perform the t-test\n",
    "res = ttest_ind(after.query('groupid == 0')['ctr'].to_numpy(),\n",
    "                after.query('groupid == 1')['ctr'].to_numpy())\n",
    "\n",
    "# Access the t-statistic and p-value\n",
    "t_statistic, p_value = res.statistic, res.pvalue\n",
    "\n",
    "# Print them with the desired formatting\n",
    "print(f\"T-statistic: {t_statistic:.10f}\")\n",
    "print(f\"P-value: {p_value:.10f}\")"
   ]
  },
  {
   "cell_type": "markdown",
   "id": "ddb43507-fc76-49e3-abd0-a07639571914",
   "metadata": {},
   "source": [
    "We can conclude that before the test, both groups showed a very similar ctr while after the test the difference is due to the new feature and not by chance."
   ]
  }
 ],
 "metadata": {
  "kernelspec": {
   "display_name": "Python 3 (ipykernel)",
   "language": "python",
   "name": "python3"
  },
  "language_info": {
   "codemirror_mode": {
    "name": "ipython",
    "version": 3
   },
   "file_extension": ".py",
   "mimetype": "text/x-python",
   "name": "python",
   "nbconvert_exporter": "python",
   "pygments_lexer": "ipython3",
   "version": "3.12.2"
  }
 },
 "nbformat": 4,
 "nbformat_minor": 5
}
